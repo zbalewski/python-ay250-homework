{
 "cells": [
  {
   "cell_type": "markdown",
   "metadata": {},
   "source": [
    "# Homework 1: Numpy, Scipy, Pandas\n",
    "\n",
    "### Due Tues Feb 1, 2022 @ 8pm\n"
   ]
  },
  {
   "cell_type": "markdown",
   "metadata": {},
   "source": [
    "## #0: Get set up with your environment to work on and submit homework\n",
    "\n",
    "a. Create a new homework repository at github\n",
    "\n",
    "<img src=\"data/screenshot_1.png\">\n",
    "\n",
    "Name your repo something sensible (e.g., python-ay250-homeworks). Given your Berkeley affiliation you should be able to get private repos if you'd like.\n",
    "\n",
    "<img src=\"data/screenshot_2.png\">\n",
    "\n",
    "\n",
    "b. Clone this repo locally and make a directory for this week's homework:\n",
    "\n",
    "```bash\n",
    "cd /class/directories ## this will be different on your machine...whereever you want to keep your work.\n",
    "\n",
    "# change <username> to your github username:\n",
    "git clone https://github.com/<username>/python-ay250-homework.git\n",
    "cd python-ay250-homework\n",
    "mkdir hw_1\n",
    "echo \"hw_1 README\" >> hw_1/README.md\n",
    "git add hw_1/README.md\n",
    "git commit hw_1/README.md -m \"added hw_1 directory\"\n",
    "git push\n",
    "```\n",
    "\n",
    "c. Copy this notebook into your `hw_1` folder from a local version of the python-seminar repo\n",
    "\n",
    "```bash\n",
    "cd /class/directories\n",
    "git clone https://github.com/profjsb/python-seminar.git \n",
    "cd python-seminar\n",
    "git pull\n",
    "cp -r Homeworks/hw_1/* /class/directories/python-ay250-homework/hw_1/\n",
    "```\n",
    "\n",
    "d. Get working! Be sure to check in your work as often as you'd like\n",
    "\n",
    "```bash\n",
    "cd /class/directories/python-ay250-homework\n",
    "git add hw_1/<whatever>\n",
    "git commit <whatever> -m \"this is a check in\"\n",
    "git push\n",
    "```\n",
    "\n",
    "e. To submit your work, go to this form to register your homework Repo URL (https://forms.gle/z9XZqCD5Ra9ikTGQ8). If you've made your repo private, you'll need to add us as collaborators to the repo.  Our Github handles are `@profjsb` and `@elliesch`."
   ]
  },
  {
   "cell_type": "markdown",
   "metadata": {},
   "source": [
    "## #1:  Super-resolution imaging \n",
    "\n",
    "Obtaining several snapshots of the same scene, from microscopes to telescopes, is useful for the postprocessing increase of signal to noise: by summing up imaging data we can effectively beat down the noise. Interestingly, if we image the same scene from different vistas we can also improve the clarity of the combined image. Being able to discern features in a scene from this combination effort is sometimes called super-resolution imaging.\n",
    "\n",
    "Here, we'll combine about 4 seconds of a shaky video to reveal the statement on a license plate that is not discernable in any one frame.\n",
    "\n",
    "<img src=\"data/im2-1.png\">\n",
    "\n",
    "A tarball of the data is at: https://zenodo.org/record/5889322/files/homework1_data.tgz?download=1 (Zenodo page for the course: https://zenodo.org/record/5889322). This file is also in the read-only directory on `astro.datahub.berkeley.edu`.\n",
    "\n",
    "```bash\n",
    "tar -xvzf homework1_data.tgz  # do NOT check this files into git...\n",
    "```"
   ]
  },
  {
   "cell_type": "markdown",
   "metadata": {},
   "source": [
    "**Problem 1** Read in each image into a `numpy` array. Resize each frame to be 3 times larger in each axis (ie. 9 times larger images). Using `scipy.signal.fftconvolve` find the offsets of each frame with respect to the first frame. Report those offsets to 2 decimal places. \n",
    "\n",
    "   - Hint0: you can use `PIL` to read the images or `matplotlib.pyplot.imread`\n",
    "```python\n",
    "from PIL import Image\n",
    "array = Image.open(fname).convert('L')\n",
    "```\n",
    "   - Hint1: you'll need to figure out how to resize a numpy array. Check out PIL.Image.resize...\n",
    "   - Hint2: you'll want to reverse the second image when doing the convolution: `scipy.signal.fftconvolve(im1, im2[::-1, ::-1])`\n",
    "   - Hint3: you'll need to figure out how to identify the peak of the fft convolution to find the offsets between images"
   ]
  },
  {
   "cell_type": "code",
   "execution_count": 1,
   "metadata": {},
   "outputs": [],
   "source": [
    "# get file names\n",
    "import glob\n",
    "fnames = glob.glob('data/large_files/im2*.png')\n",
    "\n",
    "nfiles = len(fnames)"
   ]
  },
  {
   "cell_type": "code",
   "execution_count": 2,
   "metadata": {},
   "outputs": [],
   "source": [
    "# get index of base image (im2-0) and remaining images\n",
    "base_idx = [i for i in range(nfiles) if 'im2-0' in fnames[i]][0]\n",
    "remaining_idx = [i for i in range(nfiles) if i!=base_idx]"
   ]
  },
  {
   "cell_type": "code",
   "execution_count": 3,
   "metadata": {},
   "outputs": [],
   "source": [
    "# load x3 image\n",
    "from PIL import Image\n",
    "import numpy as np\n",
    "\n",
    "def load_x3_image(filename):\n",
    "    \"\"\"\n",
    "    Takes as input a string (path to image file). \n",
    "    Loads image. Expands x3. \n",
    "    \n",
    "    Paramters\n",
    "    ----------\n",
    "    filename: str\n",
    "        path to image file  \n",
    "    \n",
    "    Returns\n",
    "    -------\n",
    "    data: np array\n",
    "        clean image as 2D numpy array\n",
    "        \n",
    "    \"\"\"\n",
    "    \n",
    "    # TODO: check that filename (1) exists & (2) is image file\n",
    "    \n",
    "    # load image \n",
    "    img = Image.open(filename).convert('L')\n",
    "    \n",
    "    # resize\n",
    "    img_dims = np.array(img.size)\n",
    "    img_x3 = img.resize(3*img_dims)\n",
    "\n",
    "    # spit out image as np array\n",
    "    return np.array(img_x3)"
   ]
  },
  {
   "cell_type": "code",
   "execution_count": 4,
   "metadata": {},
   "outputs": [],
   "source": [
    "# read in base image\n",
    "base_img = load_x3_image(fnames[base_idx])\n",
    "\n",
    "# get size of base image\n",
    "nrows,ncols = base_img.shape\n"
   ]
  },
  {
   "cell_type": "code",
   "execution_count": 5,
   "metadata": {},
   "outputs": [],
   "source": [
    "# init data frame to store remaining images\n",
    "raw_imgs = np.empty((nrows,ncols,nfiles-1))\n",
    "\n",
    "# load remaining images\n",
    "for f in range(nfiles-1):\n",
    "    raw_imgs[:,:,f] = load_x3_image(fnames[remaining_idx[f]])"
   ]
  },
  {
   "cell_type": "code",
   "execution_count": 6,
   "metadata": {},
   "outputs": [],
   "source": [
    "# sanity check: show base image & average of remaining raw images\n",
    "%matplotlib inline\n",
    "import matplotlib.pylab as plt\n",
    "\n",
    "# plt.figure(figsize=(3,3))\n",
    "# plt.imshow(base_img, cmap='gray')\n",
    "\n",
    "# plt.figure(figsize=(3,3))\n",
    "# plt.imshow(raw_imgs.mean(axis=2), cmap='gray')"
   ]
  },
  {
   "cell_type": "code",
   "execution_count": 7,
   "metadata": {},
   "outputs": [],
   "source": [
    "# trim white borders (top & bottom) and mean center all images\n",
    "def prepare_image(data):\n",
    "    \"\"\"\n",
    "    Takes as input a np array (2D or 3D). \n",
    "    Find white borders from average column & remove.\n",
    "    Mean center each image (assume images stacked in axis=2)\n",
    "    \n",
    "    Paramters\n",
    "    ----------\n",
    "    data: np array\n",
    "        2D or 3D array; assume images are stacked along axis=2\n",
    "        \n",
    "    Returns\n",
    "    -------\n",
    "    data_pretty: np array\n",
    "        2D or 3D, depending on input\n",
    "        \n",
    "    \"\"\"\n",
    "    \n",
    "    # TODO: check data is 2D or 3D numpy array\n",
    "    \n",
    "    # get number of dimensions in 'data'\n",
    "    dims = data.shape\n",
    "    \n",
    "    # find slice that excludes white borders, using average column\n",
    "    avg_col = np.reshape(data,(dims[0],-1)).mean(axis=1)   \n",
    "    keep_slice = avg_col != 255\n",
    "    \n",
    "    # remove white borders\n",
    "    data_trimmed = data[keep_slice]\n",
    "\n",
    "    # mean center each image\n",
    "    newrows = data_trimmed.shape[0]\n",
    "    \n",
    "    m = data_trimmed.mean(axis=(0,1))\n",
    "    if len(m.shape)>0: #3D array\n",
    "        m_cube = np.tile(m.reshape((1,1,dims[2])),(newrows,dims[1],1))\n",
    "    \n",
    "    else: #2D array\n",
    "        m_cube = np.tile(m,(newrows,dims[1]))\n",
    "    \n",
    "    data_pretty = data_trimmed - m_cube\n",
    "    \n",
    "    # return clean array\n",
    "    return data_pretty"
   ]
  },
  {
   "cell_type": "code",
   "execution_count": 8,
   "metadata": {},
   "outputs": [
    {
     "data": {
      "text/plain": [
       "<matplotlib.image.AxesImage at 0x7fba5a09fd60>"
      ]
     },
     "execution_count": 8,
     "metadata": {},
     "output_type": "execute_result"
    },
    {
     "data": {
      "image/png": "[encoded data removed]",
      "text/plain": [
       "<Figure size 144x144 with 1 Axes>"
      ]
     },
     "metadata": {
      "needs_background": "light"
     },
     "output_type": "display_data"
    },
    {
     "data": {
      "image/png": "[encoded data removed]",
      "text/plain": [
       "<Figure size 144x144 with 1 Axes>"
      ]
     },
     "metadata": {
      "needs_background": "light"
     },
     "output_type": "display_data"
    }
   ],
   "source": [
    "# prepare base and remaining images for convolution\n",
    "base_img_clean = prepare_image(base_img)\n",
    "raw_imgs_clean = prepare_image(raw_imgs)\n",
    "\n",
    "# sanity check: show clean images\n",
    "plt.figure(figsize=(2,2))\n",
    "plt.imshow(base_img_clean, cmap='gray')\n",
    "\n",
    "plt.figure(figsize=(2,2))\n",
    "plt.imshow(raw_imgs_clean.mean(axis=2), cmap='gray')"
   ]
  },
  {
   "cell_type": "code",
   "execution_count": 57,
   "metadata": {},
   "outputs": [],
   "source": [
    "# find all offsets from base image\n",
    "# TODO: this is prety slow, maybe can speed up?\n",
    "\n",
    "import scipy as sp\n",
    "from numpy import unravel_index\n",
    "\n",
    "def compute_offsets(base, raw):\n",
    "    \"\"\"\n",
    "    Takes as input base 2D np array and subsequent raw 3D np array. \n",
    "    Convolve each image in raw (along axis=2) with base to find offset.\n",
    "    Return offset to 2 decimal points.\n",
    "    \n",
    "    Paramters\n",
    "    ----------\n",
    "    base: np array\n",
    "        2D array; mean centered\n",
    "        \n",
    "    raw: np array\n",
    "        3D array; mean centered; assume images are stacked along axis=2\n",
    "        \n",
    "    Returns\n",
    "    -------\n",
    "    shift: np array\n",
    "        2D array of tuples with row & col offsets\n",
    "        \n",
    "    \"\"\"\n",
    "    \n",
    "    # TODO: check base is 2D and raw is 3D numpy array\n",
    "    \n",
    "    # get dimensions of raw\n",
    "    nrows, ncols, nimgs = raw.shape\n",
    "    \n",
    "    # init array for tuples with row & col offsets\n",
    "    shift = np.zeros((nimgs,2))\n",
    "    \n",
    "    # convolve each image with base\n",
    "    for f in range(nimgs):\n",
    "        fft = sp.signal.fftconvolve(base, raw[::-1,::-1,f], mode='full')\n",
    "        fft_peak = unravel_index(fft.argmax(), fft.shape)\n",
    "        shift[f,:] = np.array(fft_peak) - np.array([nrows, ncols])\n",
    "        \n",
    "    return shift\n",
    "        \n",
    "        "
   ]
  },
  {
   "cell_type": "code",
   "execution_count": 58,
   "metadata": {},
   "outputs": [],
   "source": [
    "# compute offsets \n",
    "offsets = compute_offsets(base_img_clean, raw_imgs_clean)\n"
   ]
  },
  {
   "cell_type": "code",
   "execution_count": 60,
   "metadata": {},
   "outputs": [
    {
     "name": "stdout",
     "output_type": "stream",
     "text": [
      "offset between base im2-0 & im2-10: [34.33 -3.  ]\n",
      "offset between base im2-0 & im2-9: [ -0.33 -27.  ]\n",
      "offset between base im2-0 & im2-8: [ 21.33 -12.33]\n",
      "offset between base im2-0 & im2-7: [ -0.33 -40.67]\n",
      "offset between base im2-0 & im2-6: [44.33 23.67]\n",
      "offset between base im2-0 & im2-5: [ 2.   10.67]\n",
      "offset between base im2-0 & im2-4: [-0.33  0.  ]\n",
      "offset between base im2-0 & im2-99: [30.67 -2.33]\n",
      "offset between base im2-0 & im2-98: [48. 15.]\n",
      "offset between base im2-0 & im2-97: [5. 5.]\n",
      "offset between base im2-0 & im2-96: [34.67 -6.67]\n",
      "offset between base im2-0 & im2-95: [ -0.33 -18.67]\n",
      "offset between base im2-0 & im2-94: [39.67 15.33]\n",
      "offset between base im2-0 & im2-93: [ 26.33 -51.67]\n",
      "offset between base im2-0 & im2-92: [37.33 18.33]\n",
      "offset between base im2-0 & im2-91: [29.33  3.33]\n",
      "offset between base im2-0 & im2-90: [61.67 29.67]\n",
      "offset between base im2-0 & im2-89: [  4.67 -18.67]\n",
      "offset between base im2-0 & im2-88: [21.33 29.67]\n",
      "offset between base im2-0 & im2-87: [62.67 -5.67]\n",
      "offset between base im2-0 & im2-86: [ 72.   -14.67]\n",
      "offset between base im2-0 & im2-85: [35.67  2.67]\n",
      "offset between base im2-0 & im2-84: [-19.    -0.33]\n",
      "offset between base im2-0 & im2-83: [ 17.67 -25.33]\n",
      "offset between base im2-0 & im2-82: [47.67 12.33]\n",
      "offset between base im2-0 & im2-81: [ 31.33 -10.33]\n",
      "offset between base im2-0 & im2-80: [ 18.67 -32.  ]\n",
      "offset between base im2-0 & im2-79: [ 42. -14.]\n",
      "offset between base im2-0 & im2-78: [ 19.   -24.67]\n",
      "offset between base im2-0 & im2-77: [ 24.   -22.33]\n",
      "offset between base im2-0 & im2-76: [-8.33 -3.67]\n",
      "offset between base im2-0 & im2-75: [22.67  2.33]\n",
      "offset between base im2-0 & im2-74: [ -3.   -19.33]\n",
      "offset between base im2-0 & im2-73: [  9.   -36.67]\n",
      "offset between base im2-0 & im2-72: [26. -4.]\n",
      "offset between base im2-0 & im2-71: [ 5.   -1.33]\n",
      "offset between base im2-0 & im2-70: [18.33 -0.67]\n",
      "offset between base im2-0 & im2-69: [ 21. -19.]\n",
      "offset between base im2-0 & im2-68: [ 35. -20.]\n",
      "offset between base im2-0 & im2-67: [35.   11.67]\n",
      "offset between base im2-0 & im2-66: [ -3.   -48.67]\n",
      "offset between base im2-0 & im2-65: [ 5.   -2.67]\n",
      "offset between base im2-0 & im2-64: [ 15.67 -41.  ]\n",
      "offset between base im2-0 & im2-63: [  9.33 -29.67]\n",
      "offset between base im2-0 & im2-62: [-16.67 -14.67]\n",
      "offset between base im2-0 & im2-61: [65.   -7.67]\n",
      "offset between base im2-0 & im2-60: [  7.33 -23.67]\n",
      "offset between base im2-0 & im2-59: [ 37.33 -35.33]\n",
      "offset between base im2-0 & im2-58: [ 7.33 -8.33]\n",
      "offset between base im2-0 & im2-57: [ -0.33 -21.67]\n",
      "offset between base im2-0 & im2-56: [-4.67  6.67]\n",
      "offset between base im2-0 & im2-55: [ 21.33 -12.67]\n",
      "offset between base im2-0 & im2-54: [ 29. -46.]\n",
      "offset between base im2-0 & im2-53: [ -0.33 -10.67]\n",
      "offset between base im2-0 & im2-52: [ 22.   -47.67]\n",
      "offset between base im2-0 & im2-51: [ 18.33 -19.67]\n",
      "offset between base im2-0 & im2-50: [43.    2.33]\n",
      "offset between base im2-0 & im2-49: [45.67 -2.33]\n",
      "offset between base im2-0 & im2-48: [45.33  9.33]\n",
      "offset between base im2-0 & im2-47: [ 26.33 -33.33]\n",
      "offset between base im2-0 & im2-46: [ 16.33 -31.  ]\n",
      "offset between base im2-0 & im2-45: [  2.   -49.67]\n",
      "offset between base im2-0 & im2-44: [20.33  3.  ]\n",
      "offset between base im2-0 & im2-43: [26.33 -8.33]\n",
      "offset between base im2-0 & im2-42: [30.33  4.  ]\n",
      "offset between base im2-0 & im2-41: [37.33 -1.  ]\n",
      "offset between base im2-0 & im2-40: [26.67 -3.33]\n",
      "offset between base im2-0 & im2-39: [14.67 44.67]\n",
      "offset between base im2-0 & im2-38: [ 18. -15.]\n",
      "offset between base im2-0 & im2-37: [32.33 16.67]\n",
      "offset between base im2-0 & im2-36: [52.67 20.67]\n",
      "offset between base im2-0 & im2-35: [34.67 -0.33]\n",
      "offset between base im2-0 & im2-34: [ -0.33 -37.67]\n",
      "offset between base im2-0 & im2-33: [ 56.   -19.33]\n",
      "offset between base im2-0 & im2-32: [27.    5.33]\n",
      "offset between base im2-0 & im2-31: [37.33 29.  ]\n",
      "offset between base im2-0 & im2-30: [ 26.67 -42.67]\n",
      "offset between base im2-0 & im2-29: [45.67 -0.33]\n",
      "offset between base im2-0 & im2-28: [17.   18.33]\n",
      "offset between base im2-0 & im2-27: [15. 16.]\n",
      "offset between base im2-0 & im2-26: [ -0.33 -56.  ]\n",
      "offset between base im2-0 & im2-25: [ 40. -21.]\n",
      "offset between base im2-0 & im2-24: [ 37.33 -21.33]\n",
      "offset between base im2-0 & im2-23: [  5. -36.]\n",
      "offset between base im2-0 & im2-22: [ 15.67 -32.67]\n",
      "offset between base im2-0 & im2-21: [ 26.   -36.67]\n",
      "offset between base im2-0 & im2-20: [-16.33 -27.  ]\n",
      "offset between base im2-0 & im2-19: [13.33 -8.33]\n",
      "offset between base im2-0 & im2-18: [ 35.67 -32.33]\n",
      "offset between base im2-0 & im2-17: [ 18.33 -24.33]\n",
      "offset between base im2-0 & im2-16: [37.67 10.67]\n",
      "offset between base im2-0 & im2-15: [58.67 -6.67]\n",
      "offset between base im2-0 & im2-14: [18.33 -3.  ]\n",
      "offset between base im2-0 & im2-13: [  8.   -35.33]\n",
      "offset between base im2-0 & im2-12: [20.33 -8.  ]\n",
      "offset between base im2-0 & im2-11: [ 18.67 -55.67]\n",
      "offset between base im2-0 & im2-3: [59.   10.67]\n",
      "offset between base im2-0 & im2-2: [40.33 -2.67]\n",
      "offset between base im2-0 & im2-1: [  2.33 -13.33]\n"
     ]
    }
   ],
   "source": [
    "# display offsets (in units of original pixels, rounded to 2 decimal places)\n",
    "fnames_short = [f.replace('data/large_files/','').replace('.png','') for f in fnames]\n",
    "\n",
    "for f in range(nfiles-1):\n",
    "    print(f\"offset between base im2-0 & {fnames_short[remaining_idx[f]]}: {np.round(offsets[f,:]/3,2)}\")"
   ]
  },
  {
   "cell_type": "markdown",
   "metadata": {},
   "source": [
    "**Problem 2** Shift each image to register the frames to the original (expanded in size) frame. You should, in general, be shifting by subpixel offsets. You might want to look at `scipy.ndimage.interpolation.shift`"
   ]
  },
  {
   "cell_type": "code",
   "execution_count": 65,
   "metadata": {},
   "outputs": [],
   "source": [
    "# init np array for re\n",
    "raw_imgs_corrected = np.empty(raw_imgs.shape)\n",
    "\n",
    "for f in range(nfiles-1):\n",
    "    output = sp.ndimage.interpolation.shift(raw_imgs[:,:,f],offsets[f])\n",
    "    raw_imgs_corrected[:,:,f] = output\n",
    "    \n",
    "    "
   ]
  },
  {
   "cell_type": "markdown",
   "metadata": {},
   "source": [
    "**Problem 3** Combine all the registered images to form a super-resolution image. What does the license plate read?"
   ]
  },
  {
   "cell_type": "code",
   "execution_count": null,
   "metadata": {},
   "outputs": [],
   "source": [
    "plt.figure(figsize=(8,8))\n",
    "plt.imshow(raw_imgs_corrected.mean(axis=2),cmap='gray')\n"
   ]
  },
  {
   "cell_type": "code",
   "execution_count": null,
   "metadata": {},
   "outputs": [],
   "source": []
  },
  {
   "cell_type": "code",
   "execution_count": null,
   "metadata": {},
   "outputs": [],
   "source": []
  },
  {
   "cell_type": "code",
   "execution_count": null,
   "metadata": {},
   "outputs": [],
   "source": [
    "data = np.empty((288, 288, len(fnames)))\n",
    "print(data.shape)\n",
    "for f in range(len(fnames)):\n",
    "    data[::,::,f] = Image.open(fnames[f]).convert('L')\n",
    "    \n"
   ]
  },
  {
   "cell_type": "code",
   "execution_count": null,
   "metadata": {},
   "outputs": [],
   "source": [
    "plt.figure(figsize=(4,4))\n",
    "plt.imshow(data.mean(axis=2), cmap='gray')"
   ]
  },
  {
   "cell_type": "markdown",
   "metadata": {},
   "source": [
    "# #2: An elementary introduction to spectral audio compression\n",
    "\n",
    "In this problem, we'll explore the very basics of audio compression in the spectral domain using numpy and scipy. We'll do a bit of visualization with matplotlib, but since that is covered later in the course, we'll provide those functions for you.\n",
    "\n",
    "Audio compression is a large and complex topic, and the design of a format for compressed audio such as the popular [MP3](http://en.wikipedia.org/wiki/MP3) is too complex to cover in detail here. However, we will introduce the basic tools that most such compression formats use, namely:\n",
    "\n",
    "1. Converting the input signal to the frequency domain by taking a Fast Fourier Transform (FFT).\n",
    "\n",
    "2. Dropping information in the frequency domain, resulting in a smaller amount of data.\n",
    "\n",
    "3. Reconstructing back the signal in the time domain from this smaller representation of the signal.\n",
    "\n",
    "Steps 1 and 2 above are the 'encoding' part of signal compression, and step 3 is the 'decoding' part. For this reason, the tools that perform these steps are typically referred to as signal 'codecs', short for encoders/decoders.\n",
    "\n",
    "Note that here we say 'signal': while MP3 is an audio format, the same ideas apply to the compression of digital images with formats such as JPEG and video.  Virtually all multimedia technologies we use today, from audio players to cell phones, digital cameras and YouTubeVideo, are based on sophisticated extensions and applications of these simple ideas."
   ]
  },
  {
   "cell_type": "markdown",
   "metadata": {},
   "source": [
    "Let's first load the plotting tools and importing some tools we'll need later:"
   ]
  },
  {
   "cell_type": "code",
   "execution_count": null,
   "metadata": {},
   "outputs": [],
   "source": [
    "%matplotlib inline\n",
    "import numpy as np\n",
    "import matplotlib.pyplot as plt\n",
    "\n",
    "# we'll need some path manipulations later on\n",
    "import os"
   ]
  },
  {
   "cell_type": "markdown",
   "metadata": {},
   "source": [
    "We define a simple utility function to listen to audio files right in the browser:"
   ]
  },
  {
   "cell_type": "code",
   "execution_count": null,
   "metadata": {},
   "outputs": [],
   "source": [
    "def Audio(fname):\n",
    "    \"\"\"Provide a player widget for an audio file.\n",
    "    \n",
    "    Parameters\n",
    "    ==========\n",
    "    fname : string\n",
    "      Filename to be played.\n",
    "      \n",
    "    Warning\n",
    "    =======\n",
    "    \n",
    "    Browsers cache audio very aggressively. If you change an\n",
    "    audio file on disk and are trying to listen to the  new version, you \n",
    "    may want to \n",
    "    \"\"\"\n",
    "    from IPython.display import HTML, display\n",
    "    \n",
    "    # Find out file extension and deduce MIME type for audio format\n",
    "    ext = os.path.splitext(fname)[1].replace('.', '').lower()\n",
    "    mimetype = 'audio/' + ('mpeg' if ext == 'mp3' else ext)\n",
    "    \n",
    "    tpl = \"\"\"<p>{fname}:</p>\n",
    "<audio controls>\n",
    "    <source src=\"files/{fname}\" type=\"{mimetype}\">\n",
    "\n",
    "Your browser does not support the Audio element; you can play \n",
    "<a href=\"files/{fname}\">this file</a> manually.\n",
    "</audio>\n",
    "\"\"\"\n",
    "    display(HTML(tpl.format(**locals())))"
   ]
  },
  {
   "cell_type": "markdown",
   "metadata": {},
   "source": [
    "We also define a convenience wrapper around `plt.specgram`, [matplotlib's spectrogram function](http://matplotlib.org/api/mlab_api.html#matplotlib.mlab.specgram), with a colorbar and control over the color limits displayed. This will make it easier to compare across different signals with the same colors for all inputs."
   ]
  },
  {
   "cell_type": "code",
   "execution_count": null,
   "metadata": {},
   "outputs": [],
   "source": [
    "def specgram_cbar(x, title=None, clim=(0, 80) ):\n",
    "    \"\"\"Plot spectrogram with a colorbar and range normalization.\n",
    "    \n",
    "    Call matplotlib's specgram function, with a custom figure size, \n",
    "    automatic colobar, title and custom color limits to ease \n",
    "    comparison across multiple figures.\n",
    "    \n",
    "    Parameters\n",
    "    ==========\n",
    "    x : array\n",
    "      One-dimensional array whose spectrogram should be plotted.\n",
    "      \n",
    "    title : string\n",
    "      Optional title for the figure.\n",
    "      \n",
    "    clim : 2-tuple\n",
    "      Range for the color limits plotted in the spectrogram.\n",
    "    \"\"\"\n",
    "    f = plt.figure(figsize=(10,3))\n",
    "    plt.specgram(x, Fs=2)\n",
    "    plt.colorbar()\n",
    "    plt.clim(*clim)\n",
    "    if title is not None:\n",
    "        plt.title(title)\n",
    "    plt.show()"
   ]
  },
  {
   "cell_type": "markdown",
   "metadata": {},
   "source": [
    "**Problem 1**: Use the `Audio` function above to listen to the signal we will be experimenting with, a simple voice recording stored in the file `Homeworks/hw1/data/voice.wav`.\n",
    "\n",
    "Note: if your browser doesn't support audio, you may try a different browser.   We've tested current versions of Chrome and Firefox, and it works OK with both."
   ]
  },
  {
   "cell_type": "code",
   "execution_count": null,
   "metadata": {},
   "outputs": [],
   "source": [
    "# your code here"
   ]
  },
  {
   "cell_type": "markdown",
   "metadata": {},
   "source": [
    "**Problem 2**: Write a function to compress a 1-d signal by dropping a fraction of its spectrum. \n",
    "\n",
    "You can drop the smallest components by setting their values to zero.\n",
    "\n",
    "*Hints*: \n",
    "\n",
    "- look at the `np.fft` module, keeping in mind that your input signal is real.\n",
    "- look at the `argsort` method of numpy arrays."
   ]
  },
  {
   "cell_type": "code",
   "execution_count": null,
   "metadata": {},
   "outputs": [],
   "source": [
    "def compress_signal(x, fraction):\n",
    "    \"\"\"Compress an input signal by dropping a fraction of its spectrum.\n",
    "    \n",
    "    Parameters\n",
    "    ==========\n",
    "    x : array\n",
    "      1-d real array to be compressed\n",
    "      \n",
    "    fraction : float\n",
    "      A number in the [0,1] range indicating which fraction of the spectrum\n",
    "      of x should be zeroed out (1 means zero out the entire signal).\n",
    "      \n",
    "    Returns\n",
    "    =======\n",
    "    x_approx : array\n",
    "      1-d real array reconstructed after having compressed the input.\n",
    "    \"\"\"\n",
    "    # your code here"
   ]
  },
  {
   "cell_type": "markdown",
   "metadata": {},
   "source": [
    "As a quick visual check (not that this is *not* a formal test of correctness), experiment with a simple random signal by changing the compression ratio and plotting both the signal and the compressed version:"
   ]
  },
  {
   "cell_type": "code",
   "execution_count": null,
   "metadata": {},
   "outputs": [],
   "source": [
    "x = np.random.rand(128)"
   ]
  },
  {
   "cell_type": "code",
   "execution_count": null,
   "metadata": {},
   "outputs": [],
   "source": [
    "fraction = 0.6  # play changing this in the 0-1 range\n",
    "\n",
    "xa = compress_signal(x, fraction)\n",
    "\n",
    "plt.figure(figsize=(12,3))\n",
    "plt.plot(x, alpha=0.5, lw=2, label='original')\n",
    "plt.plot(xa, lw=2, label='compressed {0:.0%}'.format(fraction))\n",
    "plt.legend();"
   ]
  },
  {
   "cell_type": "markdown",
   "metadata": {},
   "source": [
    "**Problem 3**: Write a function that will compress an audio file by a dropping a fraction of its spectrum, writing the output to a new file.\n",
    "\n",
    "If the input file is named `a.wav` and the compression fraction is 0.9, the output file should be named `a_comp_0.9.wav`.\n",
    "\n",
    "*Hints:* \n",
    "\n",
    "- look at the `scipy.io` module for routines dealing with files in `wav` format.\n",
    "\n",
    "- you may need to use the `astype` method of numpy arrays to get the correct data type for `wav` files."
   ]
  },
  {
   "cell_type": "code",
   "execution_count": null,
   "metadata": {},
   "outputs": [],
   "source": [
    "def compress_wav(fname, fraction):\n",
    "    \"\"\"Compress an audio signal stored in an input wav file.\n",
    "    \n",
    "    The compressed signal is returned as a numpy array and automatically written \n",
    "    to disk to a new wav file.\n",
    "    \n",
    "    Parameters\n",
    "    ==========\n",
    "    fname : string\n",
    "      Name of the input wav file\n",
    "      \n",
    "    fraction : float\n",
    "      Fraction of input data to keep.\n",
    "      \n",
    "    Returns\n",
    "    =======\n",
    "    rate : int\n",
    "      Bit rate of the input signal.\n",
    "\n",
    "    x : array\n",
    "      Raw data of the original input signal.\n",
    "      \n",
    "    x_approx : array\n",
    "      Raw data of the compressed signal.\n",
    "      \n",
    "    new_fname : string\n",
    "      Auto-generated filename of the compressed signal.\n",
    "    \"\"\"\n",
    "    \n",
    "    # your code here"
   ]
  },
  {
   "cell_type": "markdown",
   "metadata": {},
   "source": [
    "**Problem 4**: Study the effect of compressing the input file at different ratios: 0.1, 0.5, 0.75, 0.9, 0.95, 0.99.\n",
    "\n",
    "Using the `OrderedDict` class from the [Python collections module](https://docs.python.org/3/library/collections.html#collections.OrderedDict), store the uncompressed signal as well as the compressed array and filename for each compression ratio.\n",
    "\n",
    "You will create an `OrderedDict` called `voices`, with:\n",
    "\n",
    "- keys: compression ratios\n",
    "- values: pairs of (x, filename) where x is the compressed audio and filename is the name of the compressed file."
   ]
  },
  {
   "cell_type": "code",
   "execution_count": null,
   "metadata": {},
   "outputs": [],
   "source": [
    "# your code here"
   ]
  },
  {
   "cell_type": "markdown",
   "metadata": {},
   "source": [
    "**Problem 5**: Loop over the `voices` dict, and for each one generate an audio player as well as a spectrogram.  Observe how the spectrogram changes, and listen to each file.  At what ratio do you stop understanding the recording?"
   ]
  },
  {
   "cell_type": "code",
   "execution_count": null,
   "metadata": {},
   "outputs": [],
   "source": [
    "# your code here"
   ]
  },
  {
   "cell_type": "markdown",
   "metadata": {},
   "source": [
    "# #3: Armchair Astronomer\n",
    "\n",
    "Often times, people act as good sensors of the physical universe. We can use Google Trends data to help us determine some fundamental parameters of the Solar System.\n",
    "\n",
    "**Problem 1**: Using just the CSV file we created in the pandas lecture (`merged_data.csv`) and some frequency analysis tools in `scipy` to determine:\n",
    "\n",
    "   - the number of days in a year\n",
    "   - the period of the moon's orbit around the Earth\n",
    "   \n",
    "Hint: `from scipy.signal.spectral import lombscargle` (you'll want to normalize your signal so it has a mean of zero.)"
   ]
  },
  {
   "cell_type": "code",
   "execution_count": null,
   "metadata": {},
   "outputs": [],
   "source": [
    "# your code here"
   ]
  },
  {
   "cell_type": "markdown",
   "metadata": {},
   "source": []
  }
 ],
 "metadata": {
  "kernelspec": {
   "display_name": "Python 3 (ipykernel)",
   "language": "python",
   "name": "python3"
  },
  "language_info": {
   "codemirror_mode": {
    "name": "ipython",
    "version": 3
   },
   "file_extension": ".py",
   "mimetype": "text/x-python",
   "name": "python",
   "nbconvert_exporter": "python",
   "pygments_lexer": "ipython3",
   "version": "3.9.9"
  },
  "toc": {
   "base_numbering": 1,
   "nav_menu": {},
   "number_sections": true,
   "sideBar": true,
   "skip_h1_title": false,
   "title_cell": "Table of Contents",
   "title_sidebar": "Contents",
   "toc_cell": false,
   "toc_position": {},
   "toc_section_display": true,
   "toc_window_display": false
  },
  "varInspector": {
   "cols": {
    "lenName": 16,
    "lenType": 16,
    "lenVar": 40
   },
   "kernels_config": {
    "python": {
     "delete_cmd_postfix": "",
     "delete_cmd_prefix": "del ",
     "library": "var_list.py",
     "varRefreshCmd": "print(var_dic_list())"
    },
    "r": {
     "delete_cmd_postfix": ") ",
     "delete_cmd_prefix": "rm(",
     "library": "var_list.r",
     "varRefreshCmd": "cat(var_dic_list()) "
    }
   },
   "types_to_exclude": [
    "module",
    "function",
    "builtin_function_or_method",
    "instance",
    "_Feature"
   ],
   "window_display": false
  }
 },
 "nbformat": 4,
 "nbformat_minor": 1
}

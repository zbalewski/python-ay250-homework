{
 "cells": [
  {
   "cell_type": "markdown",
   "id": "73853ea8",
   "metadata": {
    "toc": true
   },
   "source": [
    "<h1>Table of Contents<span class=\"tocSkip\"></span></h1>\n",
    "<div class=\"toc\"><ul class=\"toc-item\"><li><span><a href=\"#Aiport-data\" data-toc-modified-id=\"Aiport-data-1\"><span class=\"toc-item-num\">1&nbsp;&nbsp;</span>Aiport data</a></span></li><li><span><a href=\"#Get-all-weather-data-...\" data-toc-modified-id=\"Get-all-weather-data-...-2\"><span class=\"toc-item-num\">2&nbsp;&nbsp;</span>Get all weather data ...</a></span></li><li><span><a href=\"#...-and-extract-weather-close-to-airports\" data-toc-modified-id=\"...-and-extract-weather-close-to-airports-3\"><span class=\"toc-item-num\">3&nbsp;&nbsp;</span>... and extract weather close to airports</a></span></li><li><span><a href=\"#Weather-patterns\" data-toc-modified-id=\"Weather-patterns-4\"><span class=\"toc-item-num\">4&nbsp;&nbsp;</span>Weather patterns</a></span></li><li><span><a href=\"#Correlations-from-top-10-pairs\" data-toc-modified-id=\"Correlations-from-top-10-pairs-5\"><span class=\"toc-item-num\">5&nbsp;&nbsp;</span>Correlations from top 10 pairs</a></span></li></ul></div>"
   ]
  },
  {
   "cell_type": "markdown",
   "id": "12fef7e0",
   "metadata": {},
   "source": [
    "# Aiport data"
   ]
  },
  {
   "cell_type": "markdown",
   "id": "26b33624",
   "metadata": {},
   "source": [
    "Combine airport codes and top airports into a table with relevant info (name, wikipedia link, latitude, longitute)."
   ]
  },
  {
   "cell_type": "code",
   "execution_count": 1,
   "id": "5aa97c53",
   "metadata": {},
   "outputs": [],
   "source": [
    "import pandas as pd\n",
    "\n",
    "# load top 50 airports\n",
    "top50 = pd.read_csv(\"hw_5_data/top_airports.csv\")\n",
    "top50_mini = top50[[\"ICAO\", \"Airport\"]]\n",
    "\n",
    "# load aiport info\n",
    "codes = pd.read_csv(\"hw_5_data/ICAO_airports.csv\")\n",
    "codes_mini = codes[[\"ident\", \"latitude_deg\", \"longitude_deg\", \"wikipedia_link\"]]\n",
    "codes_mini = codes_mini.rename(columns={'ident': \"ICAO\"})\n",
    "\n",
    "# combine data into one table\n",
    "data = pd.merge(top50_mini, codes_mini, how=\"left\", on=\"ICAO\")"
   ]
  },
  {
   "cell_type": "markdown",
   "id": "30de0eea",
   "metadata": {},
   "source": [
    "Load this table into a database."
   ]
  },
  {
   "cell_type": "code",
   "execution_count": 2,
   "id": "24466404",
   "metadata": {},
   "outputs": [
    {
     "data": {
      "text/plain": [
       "50"
      ]
     },
     "execution_count": 2,
     "metadata": {},
     "output_type": "execute_result"
    }
   ],
   "source": [
    "from sqlalchemy import *\n",
    "\n",
    "# initiate engine\n",
    "engine = create_engine(\"sqlite:///airport_info.db\")\n",
    "\n",
    "# convert pd to list\n",
    "data.to_sql(name='airports', con=engine)\n"
   ]
  },
  {
   "cell_type": "markdown",
   "id": "ae566e48",
   "metadata": {},
   "source": [
    "# Get all weather data ... \n",
    "# ... and extract weather close to airports"
   ]
  },
  {
   "cell_type": "markdown",
   "id": "789d87a4",
   "metadata": {},
   "source": [
    "Get historical weather information (min/max temperature, relative humidity, perciptation) for 1990-2000 from dataset used in class (with xarray/netCDF4)."
   ]
  },
  {
   "cell_type": "code",
   "execution_count": 3,
   "id": "8116bbf6",
   "metadata": {},
   "outputs": [],
   "source": [
    "# load weather data!\n",
    "\n",
    "import xarray as xr\n",
    "# temp: tasmax/tasmin, RH: rhsmax/rhsmin, precipitation: pr\n",
    "\n",
    "datatypes = [\"tasmax\", \"tasmin\", \"rhsmax\", \"rhsmin\", \"pr\"]\n",
    "datatypes_str = [\"air_temperature\", \"air_temperature\", \"relative_humidity\", \"relative_humidity\", \"precipitation\"]\n",
    "datatypes_nice = [\"air_temperature_max\", \"air_temperature_min\", \"relative_humidity_max\", \"relative_humidity_min\", \"precipitation\"]\n",
    "\n",
    "storage = []\n",
    "for i in range(len(datatypes)):\n",
    "    \n",
    "    data_path = (\"http://thredds.northwestknowledge.net:8080/\"\n",
    "                 f\"thredds/dodsC/agg_macav2metdata_{datatypes[i]}\"\n",
    "                 \"_BNU-ESM_r1i1p1_historical_1950_2005_CONUS_daily.nc\"\n",
    "                )\n",
    "    storage.append(xr.open_dataset(data_path).rename({datatypes_str[i] : datatypes_nice[i]}))\n",
    "\n",
    "\n",
    "# combine all data types\n",
    "weather_data = xr.merge(storage)\n",
    "\n",
    "# reduce to time window of interest\n",
    "time_window = pd.date_range(start='1/1/1990', end='12/31/2000', freq='D')\n",
    "weather_data = weather_data.sel(time=time_window)"
   ]
  },
  {
   "cell_type": "markdown",
   "id": "2eaa6fb5",
   "metadata": {},
   "source": [
    "Just keep weather data for coordinates closest to each aiport."
   ]
  },
  {
   "cell_type": "code",
   "execution_count": 8,
   "id": "21bbb523",
   "metadata": {},
   "outputs": [],
   "source": [
    "# for each airport, find closest (long, lat) in weather data\n",
    "\n",
    "import numpy as np\n",
    "\n",
    "\n",
    "def find_closest(weather_long, weather_lat, this_long, this_lat):\n",
    "    \"\"\"\n",
    "    Find the closest weather station to aiport longitude and \n",
    "    latitude coordinates.\n",
    "    \n",
    "    Parameters\n",
    "    ----------\n",
    "    weather_long : np array\n",
    "        Vector of floats with longitude coordinates for all weather stations\n",
    "    weather_lat : np array\n",
    "        Vector of floats with latitude coordinates for all weather stations\n",
    "    this_long : float\n",
    "        Longitude coordinate for this airport\n",
    "    this_lat : float\n",
    "        Latitude coordinate for this airport\n",
    "        \n",
    "    Returns\n",
    "    -------\n",
    "    idx : int\n",
    "        Index for closest weather station\n",
    "        \n",
    "    \"\"\"\n",
    "    # convert weather long coordinates to match expected for aiport\n",
    "    weather_long_adjusted = weather_long - 360\n",
    "    \n",
    "    # find closest long idx:\n",
    "    long_idx = np.abs(weather_long_adjusted - this_long).argmin()\n",
    "    \n",
    "    # find closest lat idx:\n",
    "    lat_idx = np.abs(weather_lat - this_lat).argmin()\n",
    "    \n",
    "    return long_idx, lat_idx\n",
    "\n",
    "# extract all of the long, lat coordinates from the weather data\n",
    "weather_long = weather_data[\"lon\"].values\n",
    "weather_lat = weather_data[\"lat\"].values\n",
    "\n",
    "# extract all of the airport long, lat coordinates \n",
    "airport_long = engine.execute(\"SELECT longitude_deg FROM airports\").fetchall()\n",
    "airport_lat = engine.execute(\"SELECT latitude_deg FROM airports\").fetchall()\n",
    "\n",
    "# get airport names\n",
    "airport_ICAO = engine.execute(\"SELECT ICAO FROM airports\").fetchall()\n",
    "\n",
    "# identify the closest weather station for each airport\n",
    "weather_idx = [find_closest(weather_long, weather_lat, airport_long[i][0], airport_lat[i][0]) \n",
    "               for i in range(len(airport_long))] # (long, lat)"
   ]
  },
  {
   "cell_type": "code",
   "execution_count": 11,
   "id": "57e29c19",
   "metadata": {},
   "outputs": [],
   "source": [
    "# pull out weather data closest to each airport and concat into a new xarray\n",
    "storage = []\n",
    "\n",
    "for i in range(len(airport_ICAO)):\n",
    "    port_data = weather_data.sel(lon=weather_long[weather_idx[i][0]], \n",
    "                                 lat=weather_lat[weather_idx[i][1]])\n",
    "    storage.append(port_data.assign_coords({\"airport_ICAO\": airport_ICAO[i][0]}).drop([\"lon\",\"lat\",\"crs\"]))\n"
   ]
  },
  {
   "cell_type": "code",
   "execution_count": 13,
   "id": "bac52213",
   "metadata": {},
   "outputs": [
    {
     "name": "stdout",
     "output_type": "stream",
     "text": [
      "CPU times: user 768 ms, sys: 213 ms, total: 980 ms\n",
      "Wall time: 6min 29s\n"
     ]
    }
   ],
   "source": [
    "%%time\n",
    "airport_weather = xr.concat(storage, \"airport_ICAO\", coords=\"different\") "
   ]
  },
  {
   "cell_type": "markdown",
   "id": "05c46c0e",
   "metadata": {},
   "source": [
    "This method is pretty slow... there has to be a better way to flatten the weather (long, lat) and select the coordinates I want without concatinating all of these new xarrays."
   ]
  },
  {
   "cell_type": "markdown",
   "id": "6764290f",
   "metadata": {},
   "source": [
    "# Weather patterns"
   ]
  },
  {
   "cell_type": "code",
   "execution_count": null,
   "id": "5b1cfc19",
   "metadata": {},
   "outputs": [],
   "source": []
  },
  {
   "cell_type": "code",
   "execution_count": null,
   "id": "d562db11",
   "metadata": {},
   "outputs": [],
   "source": []
  },
  {
   "cell_type": "code",
   "execution_count": null,
   "id": "cdb37058",
   "metadata": {},
   "outputs": [],
   "source": []
  },
  {
   "cell_type": "code",
   "execution_count": null,
   "id": "0e6725ed",
   "metadata": {},
   "outputs": [],
   "source": []
  },
  {
   "cell_type": "code",
   "execution_count": null,
   "id": "5b1406e5",
   "metadata": {},
   "outputs": [],
   "source": []
  },
  {
   "cell_type": "markdown",
   "id": "43d50947",
   "metadata": {},
   "source": [
    "# Correlations from top 10 pairs"
   ]
  },
  {
   "cell_type": "code",
   "execution_count": null,
   "id": "bfc137ac",
   "metadata": {},
   "outputs": [],
   "source": []
  },
  {
   "cell_type": "code",
   "execution_count": null,
   "id": "cca39eaf",
   "metadata": {},
   "outputs": [],
   "source": []
  },
  {
   "cell_type": "code",
   "execution_count": null,
   "id": "67fcc508",
   "metadata": {},
   "outputs": [],
   "source": []
  },
  {
   "cell_type": "code",
   "execution_count": null,
   "id": "a450b2da",
   "metadata": {},
   "outputs": [],
   "source": []
  },
  {
   "cell_type": "code",
   "execution_count": null,
   "id": "54406df9",
   "metadata": {},
   "outputs": [],
   "source": []
  },
  {
   "cell_type": "code",
   "execution_count": null,
   "id": "871c7e04",
   "metadata": {},
   "outputs": [],
   "source": []
  },
  {
   "cell_type": "code",
   "execution_count": null,
   "id": "bb3722c4",
   "metadata": {},
   "outputs": [],
   "source": []
  },
  {
   "cell_type": "markdown",
   "id": "3bae2631",
   "metadata": {},
   "source": [
    "# (code playground)"
   ]
  },
  {
   "cell_type": "code",
   "execution_count": null,
   "id": "b058ce3f",
   "metadata": {
    "scrolled": true
   },
   "outputs": [],
   "source": [
    "import matplotlib.pyplot as plt\n",
    "\n",
    "\n",
    "key=500\n",
    "\n",
    "longitude = max_temp_xr[\"air_temperature\"][\"lon\"].values[key]\n",
    "latitude = max_temp_xr[\"air_temperature\"][\"lat\"].values[key]\n",
    "\n",
    "# lat = engine.execute(\"SELECT latitude_deg FROM airports\").fetchall()\n",
    "# long = engine.execute(\"SELECT longitude_deg FROM airports\").fetchall()\n",
    "time_window = pd.date_range(start='1/1/1990', end='12/31/2000', freq='D')\n",
    "one_point = max_temp_xr[\"air_temperature\"].sel(lat=latitude,\n",
    "                                               lon=longitude,\n",
    "                                            time=time_window)\n",
    "one_point\n",
    "plt.figure(figsize=(8,4))\n",
    "one_point.plot()"
   ]
  },
  {
   "cell_type": "code",
   "execution_count": null,
   "id": "f1b2aad4",
   "metadata": {},
   "outputs": [],
   "source": [
    "longitude = max_temp_xr[\"air_temperature\"][\"lon\"].values\n",
    "plt.hist(longitude-360)"
   ]
  },
  {
   "cell_type": "code",
   "execution_count": null,
   "id": "5aee9ed6",
   "metadata": {},
   "outputs": [],
   "source": [
    "latitude = max_temp_xr[\"air_temperature\"][\"lat\"].values\n",
    "plt.hist(latitude)"
   ]
  },
  {
   "cell_type": "code",
   "execution_count": null,
   "id": "7af96aeb",
   "metadata": {},
   "outputs": [],
   "source": [
    "plt.hist(long)"
   ]
  },
  {
   "cell_type": "code",
   "execution_count": null,
   "id": "79ee3fbc",
   "metadata": {},
   "outputs": [],
   "source": [
    "lat = engine.execute(\"SELECT latitude_deg FROM airports\").fetchall()\n",
    "plt.hist(lat)\n",
    "1"
   ]
  },
  {
   "cell_type": "code",
   "execution_count": null,
   "id": "59957b22",
   "metadata": {},
   "outputs": [],
   "source": []
  },
  {
   "cell_type": "code",
   "execution_count": null,
   "id": "0f38a395",
   "metadata": {},
   "outputs": [],
   "source": [
    "def find_closest_coord(long_all, long_0):\n",
    "    \n",
    "    return np.abs(long_all - long_0).argmin()"
   ]
  },
  {
   "cell_type": "code",
   "execution_count": null,
   "id": "23dd9425",
   "metadata": {},
   "outputs": [],
   "source": [
    "long_all = max_temp_xr[\"air_temperature\"][\"lon\"].values\n",
    "long_0 = lat[0]"
   ]
  },
  {
   "cell_type": "code",
   "execution_count": null,
   "id": "63cf5cab",
   "metadata": {},
   "outputs": [],
   "source": [
    "find_closest_coord(long_all, long_0)\n"
   ]
  },
  {
   "cell_type": "code",
   "execution_count": null,
   "id": "b8be9995",
   "metadata": {},
   "outputs": [],
   "source": [
    "np.abs(long_all - long_0).argmin()"
   ]
  },
  {
   "cell_type": "code",
   "execution_count": null,
   "id": "6a467bd4",
   "metadata": {},
   "outputs": [],
   "source": []
  },
  {
   "cell_type": "code",
   "execution_count": null,
   "id": "fac1b85f",
   "metadata": {},
   "outputs": [],
   "source": []
  },
  {
   "cell_type": "code",
   "execution_count": null,
   "id": "c8f87345",
   "metadata": {},
   "outputs": [],
   "source": [
    "# engine.execute(\"SELECT * FROM airports\").fetchall()\n",
    "\n",
    "\n"
   ]
  },
  {
   "cell_type": "code",
   "execution_count": null,
   "id": "5a634b34",
   "metadata": {},
   "outputs": [],
   "source": [
    "\n",
    "\n",
    "\n",
    "\n"
   ]
  },
  {
   "cell_type": "code",
   "execution_count": null,
   "id": "77adace6",
   "metadata": {},
   "outputs": [],
   "source": [
    "max_temp_xr[\"air_temperature\"][\"lon\"].values[1:3]"
   ]
  },
  {
   "cell_type": "code",
   "execution_count": null,
   "id": "a4280b0f",
   "metadata": {},
   "outputs": [],
   "source": [
    "longitude = max_temp_xr[\"air_temperature\"][\"lon\"].values[:3]\n",
    "latitude = max_temp_xr[\"air_temperature\"][\"lat\"].values[:3]"
   ]
  },
  {
   "cell_type": "code",
   "execution_count": null,
   "id": "b571c573",
   "metadata": {},
   "outputs": [],
   "source": []
  },
  {
   "cell_type": "code",
   "execution_count": null,
   "id": "02d9ee87",
   "metadata": {},
   "outputs": [],
   "source": []
  }
 ],
 "metadata": {
  "kernelspec": {
   "display_name": "Python 3 (ipykernel)",
   "language": "python",
   "name": "python3"
  },
  "language_info": {
   "codemirror_mode": {
    "name": "ipython",
    "version": 3
   },
   "file_extension": ".py",
   "mimetype": "text/x-python",
   "name": "python",
   "nbconvert_exporter": "python",
   "pygments_lexer": "ipython3",
   "version": "3.8.0"
  },
  "toc": {
   "base_numbering": 1,
   "nav_menu": {},
   "number_sections": true,
   "sideBar": true,
   "skip_h1_title": false,
   "title_cell": "Table of Contents",
   "title_sidebar": "Contents",
   "toc_cell": true,
   "toc_position": {},
   "toc_section_display": true,
   "toc_window_display": false
  }
 },
 "nbformat": 4,
 "nbformat_minor": 5
}

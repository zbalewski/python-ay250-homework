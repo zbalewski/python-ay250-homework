{
 "cells": [
  {
   "cell_type": "markdown",
   "id": "73853ea8",
   "metadata": {
    "toc": true
   },
   "source": [
    "<h1>Table of Contents<span class=\"tocSkip\"></span></h1>\n",
    "<div class=\"toc\"><ul class=\"toc-item\"><li><span><a href=\"#Aiport-data\" data-toc-modified-id=\"Aiport-data-1\"><span class=\"toc-item-num\">1&nbsp;&nbsp;</span>Aiport data</a></span></li><li><span><a href=\"#Get-all-weather-data-...\" data-toc-modified-id=\"Get-all-weather-data-...-2\"><span class=\"toc-item-num\">2&nbsp;&nbsp;</span>Get all weather data ...</a></span></li><li><span><a href=\"#...-and-extract-weather-close-to-airports\" data-toc-modified-id=\"...-and-extract-weather-close-to-airports-3\"><span class=\"toc-item-num\">3&nbsp;&nbsp;</span>... and extract weather close to airports</a></span></li><li><span><a href=\"#Weather-patterns\" data-toc-modified-id=\"Weather-patterns-4\"><span class=\"toc-item-num\">4&nbsp;&nbsp;</span>Weather patterns</a></span></li><li><span><a href=\"#Correlations-from-top-10-pairs\" data-toc-modified-id=\"Correlations-from-top-10-pairs-5\"><span class=\"toc-item-num\">5&nbsp;&nbsp;</span>Correlations from top 10 pairs</a></span></li></ul></div>"
   ]
  },
  {
   "cell_type": "markdown",
   "id": "12fef7e0",
   "metadata": {},
   "source": [
    "# Aiport data"
   ]
  },
  {
   "cell_type": "markdown",
   "id": "8dbfaa70",
   "metadata": {},
   "source": [
    "Combine airport codes and top airports into a table with relevant info (name, wikipedia link, latitude, longitute)."
   ]
  },
  {
   "cell_type": "code",
   "execution_count": 1,
   "id": "5aa97c53",
   "metadata": {},
   "outputs": [],
   "source": [
    "import pandas as pd\n",
    "\n",
    "# load top 50 airports\n",
    "top50 = pd.read_csv(\"hw_5_data/top_airports.csv\")\n",
    "top50_mini = top50[[\"ICAO\", \"Airport\"]]\n",
    "\n",
    "# load aiport info\n",
    "codes = pd.read_csv(\"hw_5_data/ICAO_airports.csv\")\n",
    "codes_mini = codes[[\"ident\", \"latitude_deg\", \"longitude_deg\", \"wikipedia_link\"]]\n",
    "codes_mini = codes_mini.rename(columns={'ident': \"ICAO\"})\n",
    "\n",
    "# combine data into one table\n",
    "data = pd.merge(top50_mini, codes_mini, how=\"left\", on=\"ICAO\")"
   ]
  },
  {
   "cell_type": "markdown",
   "id": "30de0eea",
   "metadata": {},
   "source": [
    "Load this table into a database."
   ]
  },
  {
   "cell_type": "code",
   "execution_count": null,
   "id": "24466404",
   "metadata": {},
   "outputs": [],
   "source": [
    "from sqlalchemy import *\n",
    "\n",
    "# initiate engine\n",
    "engine = create_engine(\"sqlite:///airport_info.db\")\n",
    "\n",
    "# convert pd to list\n",
    "data.to_sql(name='airports', con=engine)\n"
   ]
  },
  {
   "cell_type": "markdown",
   "id": "53a6fa0a",
   "metadata": {},
   "source": [
    "# Get all weather data ... \n",
    "# ... and extract weather close to airports"
   ]
  },
  {
   "cell_type": "markdown",
   "id": "789d87a4",
   "metadata": {},
   "source": [
    "Get historical weather information (min/max temperature, relative humidity, perciptation) for 1990-2000 from dataset used in class (with xarray/netCDF4)."
   ]
  },
  {
   "cell_type": "code",
   "execution_count": 135,
   "id": "8116bbf6",
   "metadata": {},
   "outputs": [],
   "source": [
    "# load weather data!\n",
    "\n",
    "import xarray as xr\n",
    "# temp: tasmax/tasmin, RH: rhsmax/rhsmin, precipitation: pr\n",
    "\n",
    "datatypes = [\"tasmax\", \"tasmin\", \"rhsmax\", \"rhsmin\", \"pr\"]\n",
    "datatypes_str = [\"air_temperature\", \"air_temperature\", \"relative_humidity\", \"relative_humidity\", \"precipitation\"]\n",
    "datatypes_nice = [\"air_temperature_max\", \"air_temperature_min\", \"relative_humidity_max\", \"relative_humidity_min\", \"precipitation\"]\n",
    "\n",
    "storage = []\n",
    "for i in range(len(datatypes)):\n",
    "    \n",
    "    data_path = (\"http://thredds.northwestknowledge.net:8080/\"\n",
    "                 f\"thredds/dodsC/agg_macav2metdata_{datatypes[i]}\"\n",
    "                 \"_BNU-ESM_r1i1p1_historical_1950_2005_CONUS_daily.nc\"\n",
    "                )\n",
    "    storage.append(xr.open_dataset(data_path).rename({datatypes_str[i] : datatypes_nice[i]}))\n",
    "\n",
    "\n",
    "# combine all data types\n",
    "weather_data = xr.merge(storage)\n",
    "\n",
    "# reduce to time window of interest\n",
    "time_window = pd.date_range(start='1/1/1990', end='12/31/2000', freq='D')\n",
    "weather_data = weather_data.sel(time=time_window)"
   ]
  },
  {
   "cell_type": "markdown",
   "id": "6b33c467",
   "metadata": {},
   "source": [
    "Just keep weather data for coordinates closest to each aiport."
   ]
  },
  {
   "cell_type": "code",
   "execution_count": 137,
   "id": "10d83ae1",
   "metadata": {},
   "outputs": [],
   "source": [
    "# for each airport, find closest (long, lat) in weather data\n",
    "\n",
    "import numpy as np\n",
    "\n",
    "\n",
    "def find_closest(weather_long, weather_lat, this_long, this_lat):\n",
    "    \"\"\"\n",
    "    Find the closest weather station to aiport longitude and \n",
    "    latitude coordinates.\n",
    "    \n",
    "    Parameters\n",
    "    ----------\n",
    "    weather_long : np array\n",
    "        Vector of floats with longitude coordinates for all weather stations\n",
    "    weather_lat : np array\n",
    "        Vector of floats with latitude coordinates for all weather stations\n",
    "    this_long : float\n",
    "        Longitude coordinate for this airport\n",
    "    this_lat : float\n",
    "        Latitude coordinate for this airport\n",
    "        \n",
    "    Returns\n",
    "    -------\n",
    "    idx : int\n",
    "        Index for closest weather station\n",
    "        \n",
    "    \"\"\"\n",
    "    # convert weather long coordinates to match expected for aiport\n",
    "    weather_long_adjusted = weather_long - 360\n",
    "    \n",
    "    # find closest long idx:\n",
    "    long_idx = np.abs(weather_long_adjusted - this_long).argmin()\n",
    "    \n",
    "    # find closest lat idx:\n",
    "    lat_idx = np.abs(weather_lat - this_lat).argmin()\n",
    "    \n",
    "    return long_idx, lat_idx\n",
    "\n",
    "# extract all of the long, lat coordinates from the weather data\n",
    "weather_long = max_temp_xr[\"air_temperature\"][\"lon\"].values\n",
    "weather_lat = max_temp_xr[\"air_temperature\"][\"lat\"].values\n",
    "\n",
    "# extract all of the airport long, lat coordinates \n",
    "airport_long = engine.execute(\"SELECT longitude_deg FROM airports\").fetchall()\n",
    "airport_lat = engine.execute(\"SELECT latitude_deg FROM airports\").fetchall()\n",
    "\n",
    "# get airport names\n",
    "airport_ICAO = engine.execute(\"SELECT ICAO FROM airports\").fetchall()\n",
    "\n",
    "# identify the closest weather station for each airport\n",
    "weather_idx = [find_closest(weather_long, weather_lat, airport_long[i][0], airport_lat[i][0]) \n",
    "               for i in range(len(airport_long))] # (long, lat)"
   ]
  },
  {
   "cell_type": "code",
   "execution_count": 184,
   "id": "24bf0d1b",
   "metadata": {},
   "outputs": [
    {
     "ename": "KeyboardInterrupt",
     "evalue": "",
     "output_type": "error",
     "traceback": [
      "\u001b[0;31m---------------------------------------------------------------------------\u001b[0m",
      "\u001b[0;31mKeyboardInterrupt\u001b[0m                         Traceback (most recent call last)",
      "Input \u001b[0;32mIn [184]\u001b[0m, in \u001b[0;36m<module>\u001b[0;34m\u001b[0m\n\u001b[1;32m      5\u001b[0m     port_data \u001b[38;5;241m=\u001b[39m weather_data\u001b[38;5;241m.\u001b[39msel(lon\u001b[38;5;241m=\u001b[39mweather_long[weather_idx[i][\u001b[38;5;241m0\u001b[39m]], \n\u001b[1;32m      6\u001b[0m                                  lat\u001b[38;5;241m=\u001b[39mweather_lat[weather_idx[i][\u001b[38;5;241m1\u001b[39m]])\n\u001b[1;32m      7\u001b[0m     storage\u001b[38;5;241m.\u001b[39mappend(port_data\u001b[38;5;241m.\u001b[39massign_coords({\u001b[38;5;124m\"\u001b[39m\u001b[38;5;124mairport_ICAO\u001b[39m\u001b[38;5;124m\"\u001b[39m: airport_ICAO[i][\u001b[38;5;241m0\u001b[39m]})\u001b[38;5;241m.\u001b[39mdrop([\u001b[38;5;124m\"\u001b[39m\u001b[38;5;124mlon\u001b[39m\u001b[38;5;124m\"\u001b[39m,\u001b[38;5;124m\"\u001b[39m\u001b[38;5;124mlat\u001b[39m\u001b[38;5;124m\"\u001b[39m,\u001b[38;5;124m\"\u001b[39m\u001b[38;5;124mcrs\u001b[39m\u001b[38;5;124m\"\u001b[39m]))\n\u001b[0;32m----> 9\u001b[0m airport_weather \u001b[38;5;241m=\u001b[39m \u001b[43mxr\u001b[49m\u001b[38;5;241;43m.\u001b[39;49m\u001b[43mconcat\u001b[49m\u001b[43m(\u001b[49m\u001b[43mstorage\u001b[49m\u001b[43m,\u001b[49m\u001b[43m \u001b[49m\u001b[38;5;124;43m\"\u001b[39;49m\u001b[38;5;124;43mairport_ICAO\u001b[39;49m\u001b[38;5;124;43m\"\u001b[39;49m\u001b[43m,\u001b[49m\u001b[43m \u001b[49m\u001b[43mcoords\u001b[49m\u001b[38;5;241;43m=\u001b[39;49m\u001b[38;5;124;43m\"\u001b[39;49m\u001b[38;5;124;43mdifferent\u001b[39;49m\u001b[38;5;124;43m\"\u001b[39;49m\u001b[43m)\u001b[49m\n",
      "File \u001b[0;32m~/Projects/python-ay250-homework/env/lib/python3.8/site-packages/xarray/core/concat.py:238\u001b[0m, in \u001b[0;36mconcat\u001b[0;34m(objs, dim, data_vars, coords, compat, positions, fill_value, join, combine_attrs)\u001b[0m\n\u001b[1;32m    233\u001b[0m \u001b[38;5;28;01melse\u001b[39;00m:\n\u001b[1;32m    234\u001b[0m     \u001b[38;5;28;01mraise\u001b[39;00m \u001b[38;5;167;01mTypeError\u001b[39;00m(\n\u001b[1;32m    235\u001b[0m         \u001b[38;5;124m\"\u001b[39m\u001b[38;5;124mcan only concatenate xarray Dataset and DataArray \u001b[39m\u001b[38;5;124m\"\u001b[39m\n\u001b[1;32m    236\u001b[0m         \u001b[38;5;124mf\u001b[39m\u001b[38;5;124m\"\u001b[39m\u001b[38;5;124mobjects, got \u001b[39m\u001b[38;5;132;01m{\u001b[39;00m\u001b[38;5;28mtype\u001b[39m(first_obj)\u001b[38;5;132;01m}\u001b[39;00m\u001b[38;5;124m\"\u001b[39m\n\u001b[1;32m    237\u001b[0m     )\n\u001b[0;32m--> 238\u001b[0m \u001b[38;5;28;01mreturn\u001b[39;00m \u001b[43mf\u001b[49m\u001b[43m(\u001b[49m\n\u001b[1;32m    239\u001b[0m \u001b[43m    \u001b[49m\u001b[43mobjs\u001b[49m\u001b[43m,\u001b[49m\u001b[43m \u001b[49m\u001b[43mdim\u001b[49m\u001b[43m,\u001b[49m\u001b[43m \u001b[49m\u001b[43mdata_vars\u001b[49m\u001b[43m,\u001b[49m\u001b[43m \u001b[49m\u001b[43mcoords\u001b[49m\u001b[43m,\u001b[49m\u001b[43m \u001b[49m\u001b[43mcompat\u001b[49m\u001b[43m,\u001b[49m\u001b[43m \u001b[49m\u001b[43mpositions\u001b[49m\u001b[43m,\u001b[49m\u001b[43m \u001b[49m\u001b[43mfill_value\u001b[49m\u001b[43m,\u001b[49m\u001b[43m \u001b[49m\u001b[43mjoin\u001b[49m\u001b[43m,\u001b[49m\u001b[43m \u001b[49m\u001b[43mcombine_attrs\u001b[49m\n\u001b[1;32m    240\u001b[0m \u001b[43m\u001b[49m\u001b[43m)\u001b[49m\n",
      "File \u001b[0;32m~/Projects/python-ay250-homework/env/lib/python3.8/site-packages/xarray/core/concat.py:456\u001b[0m, in \u001b[0;36m_dataset_concat\u001b[0;34m(datasets, dim, data_vars, coords, compat, positions, fill_value, join, combine_attrs)\u001b[0m\n\u001b[1;32m    454\u001b[0m \u001b[38;5;66;03m# case where concat dimension is a coordinate or data_var but not a dimension\u001b[39;00m\n\u001b[1;32m    455\u001b[0m \u001b[38;5;28;01mif\u001b[39;00m (dim \u001b[38;5;129;01min\u001b[39;00m coord_names \u001b[38;5;129;01mor\u001b[39;00m dim \u001b[38;5;129;01min\u001b[39;00m data_names) \u001b[38;5;129;01mand\u001b[39;00m dim \u001b[38;5;129;01mnot\u001b[39;00m \u001b[38;5;129;01min\u001b[39;00m dim_names:\n\u001b[0;32m--> 456\u001b[0m     datasets \u001b[38;5;241m=\u001b[39m [ds\u001b[38;5;241m.\u001b[39mexpand_dims(dim) \u001b[38;5;28;01mfor\u001b[39;00m ds \u001b[38;5;129;01min\u001b[39;00m datasets]\n\u001b[1;32m    458\u001b[0m \u001b[38;5;66;03m# determine which variables to concatentate\u001b[39;00m\n\u001b[1;32m    459\u001b[0m concat_over, equals, concat_dim_lengths \u001b[38;5;241m=\u001b[39m _calc_concat_over(\n\u001b[1;32m    460\u001b[0m     datasets, dim, dim_names, data_vars, coords, compat\n\u001b[1;32m    461\u001b[0m )\n",
      "File \u001b[0;32m~/Projects/python-ay250-homework/env/lib/python3.8/site-packages/xarray/core/concat.py:456\u001b[0m, in \u001b[0;36m<listcomp>\u001b[0;34m(.0)\u001b[0m\n\u001b[1;32m    454\u001b[0m \u001b[38;5;66;03m# case where concat dimension is a coordinate or data_var but not a dimension\u001b[39;00m\n\u001b[1;32m    455\u001b[0m \u001b[38;5;28;01mif\u001b[39;00m (dim \u001b[38;5;129;01min\u001b[39;00m coord_names \u001b[38;5;129;01mor\u001b[39;00m dim \u001b[38;5;129;01min\u001b[39;00m data_names) \u001b[38;5;129;01mand\u001b[39;00m dim \u001b[38;5;129;01mnot\u001b[39;00m \u001b[38;5;129;01min\u001b[39;00m dim_names:\n\u001b[0;32m--> 456\u001b[0m     datasets \u001b[38;5;241m=\u001b[39m [\u001b[43mds\u001b[49m\u001b[38;5;241;43m.\u001b[39;49m\u001b[43mexpand_dims\u001b[49m\u001b[43m(\u001b[49m\u001b[43mdim\u001b[49m\u001b[43m)\u001b[49m \u001b[38;5;28;01mfor\u001b[39;00m ds \u001b[38;5;129;01min\u001b[39;00m datasets]\n\u001b[1;32m    458\u001b[0m \u001b[38;5;66;03m# determine which variables to concatentate\u001b[39;00m\n\u001b[1;32m    459\u001b[0m concat_over, equals, concat_dim_lengths \u001b[38;5;241m=\u001b[39m _calc_concat_over(\n\u001b[1;32m    460\u001b[0m     datasets, dim, dim_names, data_vars, coords, compat\n\u001b[1;32m    461\u001b[0m )\n",
      "File \u001b[0;32m~/Projects/python-ay250-homework/env/lib/python3.8/site-packages/xarray/core/dataset.py:3711\u001b[0m, in \u001b[0;36mDataset.expand_dims\u001b[0;34m(self, dim, axis, **dim_kwargs)\u001b[0m\n\u001b[1;32m   3709\u001b[0m         \u001b[38;5;28;01mfor\u001b[39;00m d, c \u001b[38;5;129;01min\u001b[39;00m zip_axis_dim:\n\u001b[1;32m   3710\u001b[0m             all_dims\u001b[38;5;241m.\u001b[39minsert(d, c)\n\u001b[0;32m-> 3711\u001b[0m         variables[k] \u001b[38;5;241m=\u001b[39m \u001b[43mv\u001b[49m\u001b[38;5;241;43m.\u001b[39;49m\u001b[43mset_dims\u001b[49m\u001b[43m(\u001b[49m\u001b[38;5;28;43mdict\u001b[39;49m\u001b[43m(\u001b[49m\u001b[43mall_dims\u001b[49m\u001b[43m)\u001b[49m\u001b[43m)\u001b[49m\n\u001b[1;32m   3712\u001b[0m \u001b[38;5;28;01melse\u001b[39;00m:\n\u001b[1;32m   3713\u001b[0m     \u001b[38;5;66;03m# If dims includes a label of a non-dimension coordinate,\u001b[39;00m\n\u001b[1;32m   3714\u001b[0m     \u001b[38;5;66;03m# it will be promoted to a 1D coordinate with a single value.\u001b[39;00m\n\u001b[1;32m   3715\u001b[0m     variables[k] \u001b[38;5;241m=\u001b[39m v\u001b[38;5;241m.\u001b[39mset_dims(k)\u001b[38;5;241m.\u001b[39mto_index_variable()\n",
      "File \u001b[0;32m~/Projects/python-ay250-homework/env/lib/python3.8/site-packages/xarray/core/variable.py:1520\u001b[0m, in \u001b[0;36mVariable.set_dims\u001b[0;34m(self, dims, shape)\u001b[0m\n\u001b[1;32m   1518\u001b[0m     dims_map \u001b[38;5;241m=\u001b[39m \u001b[38;5;28mdict\u001b[39m(\u001b[38;5;28mzip\u001b[39m(dims, shape))\n\u001b[1;32m   1519\u001b[0m     tmp_shape \u001b[38;5;241m=\u001b[39m \u001b[38;5;28mtuple\u001b[39m(dims_map[d] \u001b[38;5;28;01mfor\u001b[39;00m d \u001b[38;5;129;01min\u001b[39;00m expanded_dims)\n\u001b[0;32m-> 1520\u001b[0m     expanded_data \u001b[38;5;241m=\u001b[39m duck_array_ops\u001b[38;5;241m.\u001b[39mbroadcast_to(\u001b[38;5;28;43mself\u001b[39;49m\u001b[38;5;241;43m.\u001b[39;49m\u001b[43mdata\u001b[49m, tmp_shape)\n\u001b[1;32m   1521\u001b[0m \u001b[38;5;28;01melse\u001b[39;00m:\n\u001b[1;32m   1522\u001b[0m     expanded_data \u001b[38;5;241m=\u001b[39m \u001b[38;5;28mself\u001b[39m\u001b[38;5;241m.\u001b[39mdata[(\u001b[38;5;28;01mNone\u001b[39;00m,) \u001b[38;5;241m*\u001b[39m (\u001b[38;5;28mlen\u001b[39m(expanded_dims) \u001b[38;5;241m-\u001b[39m \u001b[38;5;28mself\u001b[39m\u001b[38;5;241m.\u001b[39mndim)]\n",
      "File \u001b[0;32m~/Projects/python-ay250-homework/env/lib/python3.8/site-packages/xarray/core/variable.py:337\u001b[0m, in \u001b[0;36mVariable.data\u001b[0;34m(self)\u001b[0m\n\u001b[1;32m    335\u001b[0m     \u001b[38;5;28;01mreturn\u001b[39;00m \u001b[38;5;28mself\u001b[39m\u001b[38;5;241m.\u001b[39m_data\n\u001b[1;32m    336\u001b[0m \u001b[38;5;28;01melse\u001b[39;00m:\n\u001b[0;32m--> 337\u001b[0m     \u001b[38;5;28;01mreturn\u001b[39;00m \u001b[38;5;28;43mself\u001b[39;49m\u001b[38;5;241;43m.\u001b[39;49m\u001b[43mvalues\u001b[49m\n",
      "File \u001b[0;32m~/Projects/python-ay250-homework/env/lib/python3.8/site-packages/xarray/core/variable.py:510\u001b[0m, in \u001b[0;36mVariable.values\u001b[0;34m(self)\u001b[0m\n\u001b[1;32m    507\u001b[0m \u001b[38;5;129m@property\u001b[39m\n\u001b[1;32m    508\u001b[0m \u001b[38;5;28;01mdef\u001b[39;00m \u001b[38;5;21mvalues\u001b[39m(\u001b[38;5;28mself\u001b[39m):\n\u001b[1;32m    509\u001b[0m     \u001b[38;5;124;03m\"\"\"The variable's data as a numpy.ndarray\"\"\"\u001b[39;00m\n\u001b[0;32m--> 510\u001b[0m     \u001b[38;5;28;01mreturn\u001b[39;00m \u001b[43m_as_array_or_item\u001b[49m\u001b[43m(\u001b[49m\u001b[38;5;28;43mself\u001b[39;49m\u001b[38;5;241;43m.\u001b[39;49m\u001b[43m_data\u001b[49m\u001b[43m)\u001b[49m\n",
      "File \u001b[0;32m~/Projects/python-ay250-homework/env/lib/python3.8/site-packages/xarray/core/variable.py:250\u001b[0m, in \u001b[0;36m_as_array_or_item\u001b[0;34m(data)\u001b[0m\n\u001b[1;32m    236\u001b[0m \u001b[38;5;28;01mdef\u001b[39;00m \u001b[38;5;21m_as_array_or_item\u001b[39m(data):\n\u001b[1;32m    237\u001b[0m     \u001b[38;5;124;03m\"\"\"Return the given values as a numpy array, or as an individual item if\u001b[39;00m\n\u001b[1;32m    238\u001b[0m \u001b[38;5;124;03m    it's a 0d datetime64 or timedelta64 array.\u001b[39;00m\n\u001b[1;32m    239\u001b[0m \n\u001b[0;32m   (...)\u001b[0m\n\u001b[1;32m    248\u001b[0m \u001b[38;5;124;03m    TODO: remove this (replace with np.asarray) once these issues are fixed\u001b[39;00m\n\u001b[1;32m    249\u001b[0m \u001b[38;5;124;03m    \"\"\"\u001b[39;00m\n\u001b[0;32m--> 250\u001b[0m     data \u001b[38;5;241m=\u001b[39m \u001b[43mnp\u001b[49m\u001b[38;5;241;43m.\u001b[39;49m\u001b[43masarray\u001b[49m\u001b[43m(\u001b[49m\u001b[43mdata\u001b[49m\u001b[43m)\u001b[49m\n\u001b[1;32m    251\u001b[0m     \u001b[38;5;28;01mif\u001b[39;00m data\u001b[38;5;241m.\u001b[39mndim \u001b[38;5;241m==\u001b[39m \u001b[38;5;241m0\u001b[39m:\n\u001b[1;32m    252\u001b[0m         \u001b[38;5;28;01mif\u001b[39;00m data\u001b[38;5;241m.\u001b[39mdtype\u001b[38;5;241m.\u001b[39mkind \u001b[38;5;241m==\u001b[39m \u001b[38;5;124m\"\u001b[39m\u001b[38;5;124mM\u001b[39m\u001b[38;5;124m\"\u001b[39m:\n",
      "File \u001b[0;32m~/Projects/python-ay250-homework/env/lib/python3.8/site-packages/xarray/core/indexing.py:552\u001b[0m, in \u001b[0;36mMemoryCachedArray.__array__\u001b[0;34m(self, dtype)\u001b[0m\n\u001b[1;32m    551\u001b[0m \u001b[38;5;28;01mdef\u001b[39;00m \u001b[38;5;21m__array__\u001b[39m(\u001b[38;5;28mself\u001b[39m, dtype\u001b[38;5;241m=\u001b[39m\u001b[38;5;28;01mNone\u001b[39;00m):\n\u001b[0;32m--> 552\u001b[0m     \u001b[38;5;28;43mself\u001b[39;49m\u001b[38;5;241;43m.\u001b[39;49m\u001b[43m_ensure_cached\u001b[49m\u001b[43m(\u001b[49m\u001b[43m)\u001b[49m\n\u001b[1;32m    553\u001b[0m     \u001b[38;5;28;01mreturn\u001b[39;00m np\u001b[38;5;241m.\u001b[39masarray(\u001b[38;5;28mself\u001b[39m\u001b[38;5;241m.\u001b[39marray, dtype\u001b[38;5;241m=\u001b[39mdtype)\n",
      "File \u001b[0;32m~/Projects/python-ay250-homework/env/lib/python3.8/site-packages/xarray/core/indexing.py:549\u001b[0m, in \u001b[0;36mMemoryCachedArray._ensure_cached\u001b[0;34m(self)\u001b[0m\n\u001b[1;32m    547\u001b[0m \u001b[38;5;28;01mdef\u001b[39;00m \u001b[38;5;21m_ensure_cached\u001b[39m(\u001b[38;5;28mself\u001b[39m):\n\u001b[1;32m    548\u001b[0m     \u001b[38;5;28;01mif\u001b[39;00m \u001b[38;5;129;01mnot\u001b[39;00m \u001b[38;5;28misinstance\u001b[39m(\u001b[38;5;28mself\u001b[39m\u001b[38;5;241m.\u001b[39marray, NumpyIndexingAdapter):\n\u001b[0;32m--> 549\u001b[0m         \u001b[38;5;28mself\u001b[39m\u001b[38;5;241m.\u001b[39marray \u001b[38;5;241m=\u001b[39m NumpyIndexingAdapter(\u001b[43mnp\u001b[49m\u001b[38;5;241;43m.\u001b[39;49m\u001b[43masarray\u001b[49m\u001b[43m(\u001b[49m\u001b[38;5;28;43mself\u001b[39;49m\u001b[38;5;241;43m.\u001b[39;49m\u001b[43marray\u001b[49m\u001b[43m)\u001b[49m)\n",
      "File \u001b[0;32m~/Projects/python-ay250-homework/env/lib/python3.8/site-packages/xarray/core/indexing.py:522\u001b[0m, in \u001b[0;36mCopyOnWriteArray.__array__\u001b[0;34m(self, dtype)\u001b[0m\n\u001b[1;32m    521\u001b[0m \u001b[38;5;28;01mdef\u001b[39;00m \u001b[38;5;21m__array__\u001b[39m(\u001b[38;5;28mself\u001b[39m, dtype\u001b[38;5;241m=\u001b[39m\u001b[38;5;28;01mNone\u001b[39;00m):\n\u001b[0;32m--> 522\u001b[0m     \u001b[38;5;28;01mreturn\u001b[39;00m \u001b[43mnp\u001b[49m\u001b[38;5;241;43m.\u001b[39;49m\u001b[43masarray\u001b[49m\u001b[43m(\u001b[49m\u001b[38;5;28;43mself\u001b[39;49m\u001b[38;5;241;43m.\u001b[39;49m\u001b[43marray\u001b[49m\u001b[43m,\u001b[49m\u001b[43m \u001b[49m\u001b[43mdtype\u001b[49m\u001b[38;5;241;43m=\u001b[39;49m\u001b[43mdtype\u001b[49m\u001b[43m)\u001b[49m\n",
      "File \u001b[0;32m~/Projects/python-ay250-homework/env/lib/python3.8/site-packages/xarray/core/indexing.py:423\u001b[0m, in \u001b[0;36mLazilyIndexedArray.__array__\u001b[0;34m(self, dtype)\u001b[0m\n\u001b[1;32m    421\u001b[0m \u001b[38;5;28;01mdef\u001b[39;00m \u001b[38;5;21m__array__\u001b[39m(\u001b[38;5;28mself\u001b[39m, dtype\u001b[38;5;241m=\u001b[39m\u001b[38;5;28;01mNone\u001b[39;00m):\n\u001b[1;32m    422\u001b[0m     array \u001b[38;5;241m=\u001b[39m as_indexable(\u001b[38;5;28mself\u001b[39m\u001b[38;5;241m.\u001b[39marray)\n\u001b[0;32m--> 423\u001b[0m     \u001b[38;5;28;01mreturn\u001b[39;00m \u001b[43mnp\u001b[49m\u001b[38;5;241;43m.\u001b[39;49m\u001b[43masarray\u001b[49m\u001b[43m(\u001b[49m\u001b[43marray\u001b[49m\u001b[43m[\u001b[49m\u001b[38;5;28;43mself\u001b[39;49m\u001b[38;5;241;43m.\u001b[39;49m\u001b[43mkey\u001b[49m\u001b[43m]\u001b[49m\u001b[43m,\u001b[49m\u001b[43m \u001b[49m\u001b[43mdtype\u001b[49m\u001b[38;5;241;43m=\u001b[39;49m\u001b[38;5;28;43;01mNone\u001b[39;49;00m\u001b[43m)\u001b[49m\n",
      "File \u001b[0;32m~/Projects/python-ay250-homework/env/lib/python3.8/site-packages/xarray/coding/variables.py:70\u001b[0m, in \u001b[0;36m_ElementwiseFunctionArray.__array__\u001b[0;34m(self, dtype)\u001b[0m\n\u001b[1;32m     69\u001b[0m \u001b[38;5;28;01mdef\u001b[39;00m \u001b[38;5;21m__array__\u001b[39m(\u001b[38;5;28mself\u001b[39m, dtype\u001b[38;5;241m=\u001b[39m\u001b[38;5;28;01mNone\u001b[39;00m):\n\u001b[0;32m---> 70\u001b[0m     \u001b[38;5;28;01mreturn\u001b[39;00m \u001b[38;5;28;43mself\u001b[39;49m\u001b[38;5;241;43m.\u001b[39;49m\u001b[43mfunc\u001b[49m\u001b[43m(\u001b[49m\u001b[38;5;28;43mself\u001b[39;49m\u001b[38;5;241;43m.\u001b[39;49m\u001b[43marray\u001b[49m\u001b[43m)\u001b[49m\n",
      "File \u001b[0;32m~/Projects/python-ay250-homework/env/lib/python3.8/site-packages/xarray/coding/variables.py:137\u001b[0m, in \u001b[0;36m_apply_mask\u001b[0;34m(data, encoded_fill_values, decoded_fill_value, dtype)\u001b[0m\n\u001b[1;32m    133\u001b[0m \u001b[38;5;28;01mdef\u001b[39;00m \u001b[38;5;21m_apply_mask\u001b[39m(\n\u001b[1;32m    134\u001b[0m     data: np\u001b[38;5;241m.\u001b[39mndarray, encoded_fill_values: \u001b[38;5;28mlist\u001b[39m, decoded_fill_value: Any, dtype: Any\n\u001b[1;32m    135\u001b[0m ) \u001b[38;5;241m-\u001b[39m\u001b[38;5;241m>\u001b[39m np\u001b[38;5;241m.\u001b[39mndarray:\n\u001b[1;32m    136\u001b[0m     \u001b[38;5;124;03m\"\"\"Mask all matching values in a NumPy arrays.\"\"\"\u001b[39;00m\n\u001b[0;32m--> 137\u001b[0m     data \u001b[38;5;241m=\u001b[39m \u001b[43mnp\u001b[49m\u001b[38;5;241;43m.\u001b[39;49m\u001b[43masarray\u001b[49m\u001b[43m(\u001b[49m\u001b[43mdata\u001b[49m\u001b[43m,\u001b[49m\u001b[43m \u001b[49m\u001b[43mdtype\u001b[49m\u001b[38;5;241;43m=\u001b[39;49m\u001b[43mdtype\u001b[49m\u001b[43m)\u001b[49m\n\u001b[1;32m    138\u001b[0m     condition \u001b[38;5;241m=\u001b[39m \u001b[38;5;28;01mFalse\u001b[39;00m\n\u001b[1;32m    139\u001b[0m     \u001b[38;5;28;01mfor\u001b[39;00m fv \u001b[38;5;129;01min\u001b[39;00m encoded_fill_values:\n",
      "File \u001b[0;32m~/Projects/python-ay250-homework/env/lib/python3.8/site-packages/xarray/core/indexing.py:423\u001b[0m, in \u001b[0;36mLazilyIndexedArray.__array__\u001b[0;34m(self, dtype)\u001b[0m\n\u001b[1;32m    421\u001b[0m \u001b[38;5;28;01mdef\u001b[39;00m \u001b[38;5;21m__array__\u001b[39m(\u001b[38;5;28mself\u001b[39m, dtype\u001b[38;5;241m=\u001b[39m\u001b[38;5;28;01mNone\u001b[39;00m):\n\u001b[1;32m    422\u001b[0m     array \u001b[38;5;241m=\u001b[39m as_indexable(\u001b[38;5;28mself\u001b[39m\u001b[38;5;241m.\u001b[39marray)\n\u001b[0;32m--> 423\u001b[0m     \u001b[38;5;28;01mreturn\u001b[39;00m np\u001b[38;5;241m.\u001b[39masarray(\u001b[43marray\u001b[49m\u001b[43m[\u001b[49m\u001b[38;5;28;43mself\u001b[39;49m\u001b[38;5;241;43m.\u001b[39;49m\u001b[43mkey\u001b[49m\u001b[43m]\u001b[49m, dtype\u001b[38;5;241m=\u001b[39m\u001b[38;5;28;01mNone\u001b[39;00m)\n",
      "File \u001b[0;32m~/Projects/python-ay250-homework/env/lib/python3.8/site-packages/xarray/backends/netCDF4_.py:93\u001b[0m, in \u001b[0;36mNetCDF4ArrayWrapper.__getitem__\u001b[0;34m(self, key)\u001b[0m\n\u001b[1;32m     92\u001b[0m \u001b[38;5;28;01mdef\u001b[39;00m \u001b[38;5;21m__getitem__\u001b[39m(\u001b[38;5;28mself\u001b[39m, key):\n\u001b[0;32m---> 93\u001b[0m     \u001b[38;5;28;01mreturn\u001b[39;00m \u001b[43mindexing\u001b[49m\u001b[38;5;241;43m.\u001b[39;49m\u001b[43mexplicit_indexing_adapter\u001b[49m\u001b[43m(\u001b[49m\n\u001b[1;32m     94\u001b[0m \u001b[43m        \u001b[49m\u001b[43mkey\u001b[49m\u001b[43m,\u001b[49m\u001b[43m \u001b[49m\u001b[38;5;28;43mself\u001b[39;49m\u001b[38;5;241;43m.\u001b[39;49m\u001b[43mshape\u001b[49m\u001b[43m,\u001b[49m\u001b[43m \u001b[49m\u001b[43mindexing\u001b[49m\u001b[38;5;241;43m.\u001b[39;49m\u001b[43mIndexingSupport\u001b[49m\u001b[38;5;241;43m.\u001b[39;49m\u001b[43mOUTER\u001b[49m\u001b[43m,\u001b[49m\u001b[43m \u001b[49m\u001b[38;5;28;43mself\u001b[39;49m\u001b[38;5;241;43m.\u001b[39;49m\u001b[43m_getitem\u001b[49m\n\u001b[1;32m     95\u001b[0m \u001b[43m    \u001b[49m\u001b[43m)\u001b[49m\n",
      "File \u001b[0;32m~/Projects/python-ay250-homework/env/lib/python3.8/site-packages/xarray/core/indexing.py:712\u001b[0m, in \u001b[0;36mexplicit_indexing_adapter\u001b[0;34m(key, shape, indexing_support, raw_indexing_method)\u001b[0m\n\u001b[1;32m    690\u001b[0m \u001b[38;5;124;03m\"\"\"Support explicit indexing by delegating to a raw indexing method.\u001b[39;00m\n\u001b[1;32m    691\u001b[0m \n\u001b[1;32m    692\u001b[0m \u001b[38;5;124;03mOuter and/or vectorized indexers are supported by indexing a second time\u001b[39;00m\n\u001b[0;32m   (...)\u001b[0m\n\u001b[1;32m    709\u001b[0m \u001b[38;5;124;03mIndexing result, in the form of a duck numpy-array.\u001b[39;00m\n\u001b[1;32m    710\u001b[0m \u001b[38;5;124;03m\"\"\"\u001b[39;00m\n\u001b[1;32m    711\u001b[0m raw_key, numpy_indices \u001b[38;5;241m=\u001b[39m decompose_indexer(key, shape, indexing_support)\n\u001b[0;32m--> 712\u001b[0m result \u001b[38;5;241m=\u001b[39m \u001b[43mraw_indexing_method\u001b[49m\u001b[43m(\u001b[49m\u001b[43mraw_key\u001b[49m\u001b[38;5;241;43m.\u001b[39;49m\u001b[43mtuple\u001b[49m\u001b[43m)\u001b[49m\n\u001b[1;32m    713\u001b[0m \u001b[38;5;28;01mif\u001b[39;00m numpy_indices\u001b[38;5;241m.\u001b[39mtuple:\n\u001b[1;32m    714\u001b[0m     \u001b[38;5;66;03m# index the loaded np.ndarray\u001b[39;00m\n\u001b[1;32m    715\u001b[0m     result \u001b[38;5;241m=\u001b[39m NumpyIndexingAdapter(np\u001b[38;5;241m.\u001b[39masarray(result))[numpy_indices]\n",
      "File \u001b[0;32m~/Projects/python-ay250-homework/env/lib/python3.8/site-packages/xarray/backends/netCDF4_.py:106\u001b[0m, in \u001b[0;36mNetCDF4ArrayWrapper._getitem\u001b[0;34m(self, key)\u001b[0m\n\u001b[1;32m    104\u001b[0m     \u001b[38;5;28;01mwith\u001b[39;00m \u001b[38;5;28mself\u001b[39m\u001b[38;5;241m.\u001b[39mdatastore\u001b[38;5;241m.\u001b[39mlock:\n\u001b[1;32m    105\u001b[0m         original_array \u001b[38;5;241m=\u001b[39m \u001b[38;5;28mself\u001b[39m\u001b[38;5;241m.\u001b[39mget_array(needs_lock\u001b[38;5;241m=\u001b[39m\u001b[38;5;28;01mFalse\u001b[39;00m)\n\u001b[0;32m--> 106\u001b[0m         array \u001b[38;5;241m=\u001b[39m \u001b[43mgetitem\u001b[49m\u001b[43m(\u001b[49m\u001b[43moriginal_array\u001b[49m\u001b[43m,\u001b[49m\u001b[43m \u001b[49m\u001b[43mkey\u001b[49m\u001b[43m)\u001b[49m\n\u001b[1;32m    107\u001b[0m \u001b[38;5;28;01mexcept\u001b[39;00m \u001b[38;5;167;01mIndexError\u001b[39;00m:\n\u001b[1;32m    108\u001b[0m     \u001b[38;5;66;03m# Catch IndexError in netCDF4 and return a more informative\u001b[39;00m\n\u001b[1;32m    109\u001b[0m     \u001b[38;5;66;03m# error message.  This is most often called when an unsorted\u001b[39;00m\n\u001b[1;32m    110\u001b[0m     \u001b[38;5;66;03m# indexer is used before the data is loaded from disk.\u001b[39;00m\n\u001b[1;32m    111\u001b[0m     msg \u001b[38;5;241m=\u001b[39m (\n\u001b[1;32m    112\u001b[0m         \u001b[38;5;124m\"\u001b[39m\u001b[38;5;124mThe indexing operation you are attempting to perform \u001b[39m\u001b[38;5;124m\"\u001b[39m\n\u001b[1;32m    113\u001b[0m         \u001b[38;5;124m\"\u001b[39m\u001b[38;5;124mis not valid on netCDF4.Variable object. Try loading \u001b[39m\u001b[38;5;124m\"\u001b[39m\n\u001b[1;32m    114\u001b[0m         \u001b[38;5;124m\"\u001b[39m\u001b[38;5;124myour data into memory first by calling .load().\u001b[39m\u001b[38;5;124m\"\u001b[39m\n\u001b[1;32m    115\u001b[0m     )\n",
      "File \u001b[0;32m~/Projects/python-ay250-homework/env/lib/python3.8/site-packages/xarray/backends/common.py:64\u001b[0m, in \u001b[0;36mrobust_getitem\u001b[0;34m(array, key, catch, max_retries, initial_delay)\u001b[0m\n\u001b[1;32m     62\u001b[0m \u001b[38;5;28;01mfor\u001b[39;00m n \u001b[38;5;129;01min\u001b[39;00m \u001b[38;5;28mrange\u001b[39m(max_retries \u001b[38;5;241m+\u001b[39m \u001b[38;5;241m1\u001b[39m):\n\u001b[1;32m     63\u001b[0m     \u001b[38;5;28;01mtry\u001b[39;00m:\n\u001b[0;32m---> 64\u001b[0m         \u001b[38;5;28;01mreturn\u001b[39;00m \u001b[43marray\u001b[49m\u001b[43m[\u001b[49m\u001b[43mkey\u001b[49m\u001b[43m]\u001b[49m\n\u001b[1;32m     65\u001b[0m     \u001b[38;5;28;01mexcept\u001b[39;00m catch:\n\u001b[1;32m     66\u001b[0m         \u001b[38;5;28;01mif\u001b[39;00m n \u001b[38;5;241m==\u001b[39m max_retries:\n",
      "\u001b[0;31mKeyboardInterrupt\u001b[0m: "
     ]
    }
   ],
   "source": [
    "# pull out weather data closest to each airport and concat into a new xarray\n",
    "storage = []\n",
    "\n",
    "for i in range(len(airport_ICAO)):\n",
    "    port_data = weather_data.sel(lon=weather_long[weather_idx[i][0]], \n",
    "                                 lat=weather_lat[weather_idx[i][1]])\n",
    "    storage.append(port_data.assign_coords({\"airport_ICAO\": airport_ICAO[i][0]}).drop([\"lon\",\"lat\",\"crs\"]))\n",
    "\n",
    "airport_weather = xr.concat(storage, \"airport_ICAO\", coords=\"different\") "
   ]
  },
  {
   "cell_type": "markdown",
   "id": "bee26120",
   "metadata": {},
   "source": [
    "This method is pretty slow... there has to be a better way to flatten the weather (long, lat) and select the coordinates I want without concatinating all of these new xarrays."
   ]
  },
  {
   "cell_type": "markdown",
   "id": "c2c34c18",
   "metadata": {},
   "source": [
    "# Weather patterns"
   ]
  },
  {
   "cell_type": "code",
   "execution_count": null,
   "id": "133ef29e",
   "metadata": {},
   "outputs": [],
   "source": []
  },
  {
   "cell_type": "code",
   "execution_count": null,
   "id": "88f76177",
   "metadata": {},
   "outputs": [],
   "source": []
  },
  {
   "cell_type": "code",
   "execution_count": null,
   "id": "bed95d12",
   "metadata": {},
   "outputs": [],
   "source": []
  },
  {
   "cell_type": "code",
   "execution_count": null,
   "id": "e1701fce",
   "metadata": {},
   "outputs": [],
   "source": []
  },
  {
   "cell_type": "code",
   "execution_count": null,
   "id": "e3aee4cf",
   "metadata": {},
   "outputs": [],
   "source": []
  },
  {
   "cell_type": "markdown",
   "id": "91420d3a",
   "metadata": {},
   "source": [
    "# Correlations from top 10 pairs"
   ]
  },
  {
   "cell_type": "code",
   "execution_count": null,
   "id": "91708756",
   "metadata": {},
   "outputs": [],
   "source": []
  },
  {
   "cell_type": "code",
   "execution_count": null,
   "id": "3049f4d4",
   "metadata": {},
   "outputs": [],
   "source": []
  },
  {
   "cell_type": "code",
   "execution_count": null,
   "id": "3ad7694c",
   "metadata": {},
   "outputs": [],
   "source": []
  },
  {
   "cell_type": "code",
   "execution_count": null,
   "id": "f86c0754",
   "metadata": {},
   "outputs": [],
   "source": []
  },
  {
   "cell_type": "code",
   "execution_count": null,
   "id": "64e9fdba",
   "metadata": {},
   "outputs": [],
   "source": []
  },
  {
   "cell_type": "code",
   "execution_count": null,
   "id": "675431c8",
   "metadata": {},
   "outputs": [],
   "source": []
  },
  {
   "cell_type": "markdown",
   "id": "5ad11614",
   "metadata": {},
   "source": [
    "# (code playground)"
   ]
  },
  {
   "cell_type": "code",
   "execution_count": 9,
   "id": "b058ce3f",
   "metadata": {
    "scrolled": true
   },
   "outputs": [
    {
     "data": {
      "text/plain": [
       "[<matplotlib.lines.Line2D at 0x7fd58efb9fd0>]"
      ]
     },
     "execution_count": 9,
     "metadata": {},
     "output_type": "execute_result"
    },
    {
     "data": {
      "image/png": "[encoded data removed]",
      "text/plain": [
       "<Figure size 576x288 with 1 Axes>"
      ]
     },
     "metadata": {
      "needs_background": "light"
     },
     "output_type": "display_data"
    }
   ],
   "source": [
    "import matplotlib.pyplot as plt\n",
    "\n",
    "\n",
    "key=500\n",
    "\n",
    "longitude = max_temp_xr[\"air_temperature\"][\"lon\"].values[key]\n",
    "latitude = max_temp_xr[\"air_temperature\"][\"lat\"].values[key]\n",
    "\n",
    "# lat = engine.execute(\"SELECT latitude_deg FROM airports\").fetchall()\n",
    "# long = engine.execute(\"SELECT longitude_deg FROM airports\").fetchall()\n",
    "time_window = pd.date_range(start='1/1/1990', end='12/31/2000', freq='D')\n",
    "one_point = max_temp_xr[\"air_temperature\"].sel(lat=latitude,\n",
    "                                               lon=longitude,\n",
    "                                            time=time_window)\n",
    "one_point\n",
    "plt.figure(figsize=(8,4))\n",
    "one_point.plot()"
   ]
  },
  {
   "cell_type": "code",
   "execution_count": 11,
   "id": "3cef4d9c",
   "metadata": {},
   "outputs": [],
   "source": [
    "longitude = max_temp_xr[\"air_temperature\"][\"lon\"].values\n",
    "plt.hist(longitude-360)"
   ]
  },
  {
   "cell_type": "code",
   "execution_count": 20,
   "id": "cbb4f26d",
   "metadata": {},
   "outputs": [
    {
     "data": {
      "text/plain": [
       "(array([59., 58., 59., 58., 59., 58., 58., 59., 58., 59.]),\n",
       " array([25.06307793, 27.49637241, 29.9296669 , 32.36296139, 34.79625587,\n",
       "        37.22955036, 39.66284485, 42.09613934, 44.52943382, 46.96272831,\n",
       "        49.3960228 ]),\n",
       " <BarContainer object of 10 artists>)"
      ]
     },
     "execution_count": 20,
     "metadata": {},
     "output_type": "execute_result"
    },
    {
     "data": {
      "image/png": "[encoded data removed]",
      "text/plain": [
       "<Figure size 432x288 with 1 Axes>"
      ]
     },
     "metadata": {
      "needs_background": "light"
     },
     "output_type": "display_data"
    }
   ],
   "source": [
    "latitude = max_temp_xr[\"air_temperature\"][\"lat\"].values\n",
    "plt.hist(latitude)"
   ]
  },
  {
   "cell_type": "code",
   "execution_count": 13,
   "id": "d9f0b271",
   "metadata": {},
   "outputs": [],
   "source": [
    "plt.hist(long)"
   ]
  },
  {
   "cell_type": "code",
   "execution_count": 21,
   "id": "9a55e97d",
   "metadata": {},
   "outputs": [
    {
     "data": {
      "text/plain": [
       "1"
      ]
     },
     "execution_count": 21,
     "metadata": {},
     "output_type": "execute_result"
    },
    {
     "data": {
      "image/png": "[encoded data removed]",
      "text/plain": [
       "<Figure size 432x288 with 1 Axes>"
      ]
     },
     "metadata": {
      "needs_background": "light"
     },
     "output_type": "display_data"
    }
   ],
   "source": [
    "lat = engine.execute(\"SELECT latitude_deg FROM airports\").fetchall()\n",
    "plt.hist(lat)\n",
    "1"
   ]
  },
  {
   "cell_type": "code",
   "execution_count": null,
   "id": "6c6d70b1",
   "metadata": {},
   "outputs": [],
   "source": []
  },
  {
   "cell_type": "code",
   "execution_count": null,
   "id": "0f38a395",
   "metadata": {},
   "outputs": [],
   "source": [
    "def find_closest_coord(long_all, long_0):\n",
    "    \n",
    "    return np.abs(long_all - long_0).argmin()"
   ]
  },
  {
   "cell_type": "code",
   "execution_count": null,
   "id": "23dd9425",
   "metadata": {},
   "outputs": [],
   "source": [
    "long_all = max_temp_xr[\"air_temperature\"][\"lon\"].values\n",
    "long_0 = lat[0]"
   ]
  },
  {
   "cell_type": "code",
   "execution_count": null,
   "id": "63cf5cab",
   "metadata": {},
   "outputs": [],
   "source": [
    "find_closest_coord(long_all, long_0)\n"
   ]
  },
  {
   "cell_type": "code",
   "execution_count": null,
   "id": "b8be9995",
   "metadata": {},
   "outputs": [],
   "source": [
    "np.abs(long_all - long_0).argmin()"
   ]
  },
  {
   "cell_type": "code",
   "execution_count": null,
   "id": "6a467bd4",
   "metadata": {},
   "outputs": [],
   "source": []
  },
  {
   "cell_type": "code",
   "execution_count": null,
   "id": "fac1b85f",
   "metadata": {},
   "outputs": [],
   "source": []
  },
  {
   "cell_type": "code",
   "execution_count": null,
   "id": "c8f87345",
   "metadata": {},
   "outputs": [],
   "source": [
    "# engine.execute(\"SELECT * FROM airports\").fetchall()\n",
    "\n",
    "\n"
   ]
  },
  {
   "cell_type": "code",
   "execution_count": null,
   "id": "5a634b34",
   "metadata": {},
   "outputs": [],
   "source": [
    "\n",
    "\n",
    "\n",
    "\n"
   ]
  },
  {
   "cell_type": "code",
   "execution_count": null,
   "id": "77adace6",
   "metadata": {},
   "outputs": [],
   "source": [
    "max_temp_xr[\"air_temperature\"][\"lon\"].values[1:3]"
   ]
  },
  {
   "cell_type": "code",
   "execution_count": null,
   "id": "a4280b0f",
   "metadata": {},
   "outputs": [],
   "source": [
    "longitude = max_temp_xr[\"air_temperature\"][\"lon\"].values[:3]\n",
    "latitude = max_temp_xr[\"air_temperature\"][\"lat\"].values[:3]"
   ]
  },
  {
   "cell_type": "code",
   "execution_count": null,
   "id": "b571c573",
   "metadata": {},
   "outputs": [],
   "source": []
  },
  {
   "cell_type": "code",
   "execution_count": null,
   "id": "02d9ee87",
   "metadata": {},
   "outputs": [],
   "source": []
  }
 ],
 "metadata": {
  "kernelspec": {
   "display_name": "Python 3 (ipykernel)",
   "language": "python",
   "name": "python3"
  },
  "language_info": {
   "codemirror_mode": {
    "name": "ipython",
    "version": 3
   },
   "file_extension": ".py",
   "mimetype": "text/x-python",
   "name": "python",
   "nbconvert_exporter": "python",
   "pygments_lexer": "ipython3",
   "version": "3.8.0"
  },
  "toc": {
   "base_numbering": 1,
   "nav_menu": {},
   "number_sections": true,
   "sideBar": true,
   "skip_h1_title": false,
   "title_cell": "Table of Contents",
   "title_sidebar": "Contents",
   "toc_cell": true,
   "toc_position": {},
   "toc_section_display": true,
   "toc_window_display": false
  }
 },
 "nbformat": 4,
 "nbformat_minor": 5
}

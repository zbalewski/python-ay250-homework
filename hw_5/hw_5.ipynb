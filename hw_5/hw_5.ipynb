{
 "cells": [
  {
   "cell_type": "markdown",
   "id": "73853ea8",
   "metadata": {
    "toc": true
   },
   "source": [
    "<h1>Table of Contents<span class=\"tocSkip\"></span></h1>\n",
    "<div class=\"toc\"><ul class=\"toc-item\"><li><span><a href=\"#Aiport-data\" data-toc-modified-id=\"Aiport-data-1\"><span class=\"toc-item-num\">1&nbsp;&nbsp;</span>Aiport data</a></span></li><li><span><a href=\"#Get-all-weather-data-...\" data-toc-modified-id=\"Get-all-weather-data-...-2\"><span class=\"toc-item-num\">2&nbsp;&nbsp;</span>Get all weather data ...</a></span></li><li><span><a href=\"#...-and-extract-weather-close-to-airports\" data-toc-modified-id=\"...-and-extract-weather-close-to-airports-3\"><span class=\"toc-item-num\">3&nbsp;&nbsp;</span>... and extract weather close to airports</a></span></li><li><span><a href=\"#Weather-patterns\" data-toc-modified-id=\"Weather-patterns-4\"><span class=\"toc-item-num\">4&nbsp;&nbsp;</span>Weather patterns</a></span></li><li><span><a href=\"#Correlations-from-top-10-pairs\" data-toc-modified-id=\"Correlations-from-top-10-pairs-5\"><span class=\"toc-item-num\">5&nbsp;&nbsp;</span>Correlations from top 10 pairs</a></span></li><li><span><a href=\"#(code-playground)\" data-toc-modified-id=\"(code-playground)-6\"><span class=\"toc-item-num\">6&nbsp;&nbsp;</span>(code playground)</a></span></li></ul></div>"
   ]
  },
  {
   "cell_type": "markdown",
   "id": "12fef7e0",
   "metadata": {},
   "source": [
    "# Aiport data"
   ]
  },
  {
   "cell_type": "markdown",
   "id": "43381238",
   "metadata": {},
   "source": [
    "Combine airport codes and top airports into a table with relevant info (name, wikipedia link, latitude, longitute)."
   ]
  },
  {
   "cell_type": "code",
   "execution_count": 20,
   "id": "5aa97c53",
   "metadata": {},
   "outputs": [],
   "source": [
    "import pandas as pd\n",
    "\n",
    "# load top 50 airports\n",
    "top50 = pd.read_csv(\"hw_5_data/top_airports.csv\")\n",
    "top50_mini = top50[[\"ICAO\", \"Airport\"]]\n",
    "\n",
    "# load aiport info\n",
    "codes = pd.read_csv(\"hw_5_data/ICAO_airports.csv\")\n",
    "codes_mini = codes[[\"ident\", \"latitude_deg\", \"longitude_deg\", \"wikipedia_link\"]]\n",
    "codes_mini = codes_mini.rename(columns={'ident': \"ICAO\"})\n",
    "\n",
    "# combine data into one table\n",
    "data = pd.merge(top50_mini, codes_mini, how=\"left\", on=\"ICAO\")"
   ]
  },
  {
   "cell_type": "markdown",
   "id": "30de0eea",
   "metadata": {},
   "source": [
    "Load this table into a database."
   ]
  },
  {
   "cell_type": "code",
   "execution_count": 21,
   "id": "24466404",
   "metadata": {
    "scrolled": true
   },
   "outputs": [
    {
     "data": {
      "text/plain": [
       "50"
      ]
     },
     "execution_count": 21,
     "metadata": {},
     "output_type": "execute_result"
    }
   ],
   "source": [
    "from sqlalchemy import *\n",
    "\n",
    "# initiate engine\n",
    "engine = create_engine(\"sqlite:///airport_info.db\")\n",
    "\n",
    "# convert pd to list\n",
    "data.to_sql(name='airports', con=engine)\n"
   ]
  },
  {
   "cell_type": "markdown",
   "id": "73525589",
   "metadata": {},
   "source": [
    "# Get all weather data ... \n",
    "# ... and extract weather close to airports"
   ]
  },
  {
   "cell_type": "markdown",
   "id": "789d87a4",
   "metadata": {},
   "source": [
    "Get historical weather information (min/max temperature, relative humidity, perciptation) for 1990-2000 from dataset used in class (with xarray/netCDF4)."
   ]
  },
  {
   "cell_type": "code",
   "execution_count": null,
   "id": "8116bbf6",
   "metadata": {},
   "outputs": [],
   "source": [
    "# load weather data!\n",
    "\n",
    "import xarray as xr\n",
    "# temp: tasmax/tasmin, RH: rhsmax/rhsmin, precipitation: pr\n",
    "\n",
    "datatypes = [\"tasmax\", \"tasmin\", \"rhsmax\", \"rhsmin\", \"pr\"]\n",
    "datatypes_str = [\"air_temperature\", \"air_temperature\", \"relative_humidity\", \"relative_humidity\", \"precipitation\"]\n",
    "datatypes_nice = [\"air_temperature_max\", \"air_temperature_min\", \"relative_humidity_max\", \"relative_humidity_min\", \"precipitation\"]\n",
    "\n",
    "storage = []\n",
    "for i in range(len(datatypes)):\n",
    "    \n",
    "    data_path = (\"http://thredds.northwestknowledge.net:8080/\"\n",
    "                 f\"thredds/dodsC/agg_macav2metdata_{datatypes[i]}\"\n",
    "                 \"_BNU-ESM_r1i1p1_historical_1950_2005_CONUS_daily.nc\"\n",
    "                )\n",
    "    storage.append(xr.open_dataset(data_path).rename({datatypes_str[i] : datatypes_nice[i]}))\n",
    "\n",
    "\n",
    "# combine all data types\n",
    "weather_data = xr.merge(storage)\n",
    "\n",
    "# reduce to time window of interest\n",
    "time_window = pd.date_range(start='1/1/1990', end='12/31/2000', freq='D')\n",
    "weather_data = weather_data.sel(time=time_window)"
   ]
  },
  {
   "cell_type": "markdown",
   "id": "a2781b49",
   "metadata": {},
   "source": [
    "Just keep weather data for coordinates closest to each aiport."
   ]
  },
  {
   "cell_type": "code",
   "execution_count": null,
   "id": "ba6cf3f0",
   "metadata": {},
   "outputs": [],
   "source": [
    "# for each airport, find closest (long, lat) in weather data\n",
    "\n",
    "import numpy as np\n",
    "\n",
    "\n",
    "def find_closest(weather_long, weather_lat, this_long, this_lat):\n",
    "    \"\"\"\n",
    "    Find the closest weather station to aiport longitude and \n",
    "    latitude coordinates.\n",
    "    \n",
    "    Parameters\n",
    "    ----------\n",
    "    weather_long : np array\n",
    "        Vector of floats with longitude coordinates for all weather stations\n",
    "    weather_lat : np array\n",
    "        Vector of floats with latitude coordinates for all weather stations\n",
    "    this_long : float\n",
    "        Longitude coordinate for this airport\n",
    "    this_lat : float\n",
    "        Latitude coordinate for this airport\n",
    "        \n",
    "    Returns\n",
    "    -------\n",
    "    idx : int\n",
    "        Index for closest weather station\n",
    "        \n",
    "    \"\"\"\n",
    "    # convert weather long coordinates to match expected for aiport\n",
    "    weather_long_adjusted = weather_long - 360\n",
    "    \n",
    "    # find closest long idx:\n",
    "    long_idx = np.abs(weather_long_adjusted - this_long).argmin()\n",
    "    \n",
    "    # find closest lat idx:\n",
    "    lat_idx = np.abs(weather_lat - this_lat).argmin()\n",
    "    \n",
    "    return long_idx, lat_idx\n",
    "\n",
    "# extract all of the long, lat coordinates from the weather data\n",
    "weather_long = weather_data[\"lon\"].values\n",
    "weather_lat = weather_data[\"lat\"].values\n",
    "\n",
    "# extract all of the airport long, lat coordinates \n",
    "airport_long = engine.execute(\"SELECT longitude_deg FROM airports\").fetchall()\n",
    "airport_lat = engine.execute(\"SELECT latitude_deg FROM airports\").fetchall()\n",
    "\n",
    "# get airport names\n",
    "airport_ICAO = engine.execute(\"SELECT ICAO FROM airports\").fetchall()\n",
    "\n",
    "# identify the closest weather station for each airport\n",
    "weather_idx = [find_closest(weather_long, weather_lat, airport_long[i][0], airport_lat[i][0]) \n",
    "               for i in range(len(airport_long))] # (long, lat)"
   ]
  },
  {
   "cell_type": "code",
   "execution_count": null,
   "id": "2780e89a",
   "metadata": {},
   "outputs": [],
   "source": [
    "# pull out weather data closest to each airport and concat into a new xarray\n",
    "storage = []\n",
    "\n",
    "for i in range(len(airport_ICAO)):\n",
    "    port_data = weather_data.sel(lon=weather_long[weather_idx[i][0]], \n",
    "                                 lat=weather_lat[weather_idx[i][1]])\n",
    "    storage.append(port_data.assign_coords({\"airport_ICAO\": airport_ICAO[i][0]}).drop([\"lon\",\"lat\",\"crs\"]))\n"
   ]
  },
  {
   "cell_type": "code",
   "execution_count": null,
   "id": "fa43c2ee",
   "metadata": {},
   "outputs": [],
   "source": [
    "%%time\n",
    "airport_weather = xr.concat(storage, \"airport_ICAO\", coords=\"different\") \n",
    "airport_weather.to_netcdf('airport_weather.nc')\n",
    "\n"
   ]
  },
  {
   "cell_type": "code",
   "execution_count": 1,
   "id": "6e02ab84",
   "metadata": {},
   "outputs": [],
   "source": [
    "import xarray as xr\n",
    "airport_weather = xr.open_dataset('airport_weather.nc')"
   ]
  },
  {
   "cell_type": "code",
   "execution_count": 2,
   "id": "b23f8589",
   "metadata": {},
   "outputs": [
    {
     "data": {
      "text/html": [
       "<div><svg style=\"position: absolute; width: 0; height: 0; overflow: hidden\">\n",
       "<defs>\n",
       "<symbol id=\"icon-database\" viewBox=\"0 0 32 32\">\n",
       "<path d=\"M16 0c-8.837 0-16 2.239-16 5v4c0 2.761 7.163 5 16 5s16-2.239 16-5v-4c0-2.761-7.163-5-16-5z\"></path>\n",
       "<path d=\"M16 17c-8.837 0-16-2.239-16-5v6c0 2.761 7.163 5 16 5s16-2.239 16-5v-6c0 2.761-7.163 5-16 5z\"></path>\n",
       "<path d=\"M16 26c-8.837 0-16-2.239-16-5v6c0 2.761 7.163 5 16 5s16-2.239 16-5v-6c0 2.761-7.163 5-16 5z\"></path>\n",
       "</symbol>\n",
       "<symbol id=\"icon-file-text2\" viewBox=\"0 0 32 32\">\n",
       "<path d=\"M28.681 7.159c-0.694-0.947-1.662-2.053-2.724-3.116s-2.169-2.030-3.116-2.724c-1.612-1.182-2.393-1.319-2.841-1.319h-15.5c-1.378 0-2.5 1.121-2.5 2.5v27c0 1.378 1.122 2.5 2.5 2.5h23c1.378 0 2.5-1.122 2.5-2.5v-19.5c0-0.448-0.137-1.23-1.319-2.841zM24.543 5.457c0.959 0.959 1.712 1.825 2.268 2.543h-4.811v-4.811c0.718 0.556 1.584 1.309 2.543 2.268zM28 29.5c0 0.271-0.229 0.5-0.5 0.5h-23c-0.271 0-0.5-0.229-0.5-0.5v-27c0-0.271 0.229-0.5 0.5-0.5 0 0 15.499-0 15.5 0v7c0 0.552 0.448 1 1 1h7v19.5z\"></path>\n",
       "<path d=\"M23 26h-14c-0.552 0-1-0.448-1-1s0.448-1 1-1h14c0.552 0 1 0.448 1 1s-0.448 1-1 1z\"></path>\n",
       "<path d=\"M23 22h-14c-0.552 0-1-0.448-1-1s0.448-1 1-1h14c0.552 0 1 0.448 1 1s-0.448 1-1 1z\"></path>\n",
       "<path d=\"M23 18h-14c-0.552 0-1-0.448-1-1s0.448-1 1-1h14c0.552 0 1 0.448 1 1s-0.448 1-1 1z\"></path>\n",
       "</symbol>\n",
       "</defs>\n",
       "</svg>\n",
       "<style>/* CSS stylesheet for displaying xarray objects in jupyterlab.\n",
       " *\n",
       " */\n",
       "\n",
       ":root {\n",
       "  --xr-font-color0: var(--jp-content-font-color0, rgba(0, 0, 0, 1));\n",
       "  --xr-font-color2: var(--jp-content-font-color2, rgba(0, 0, 0, 0.54));\n",
       "  --xr-font-color3: var(--jp-content-font-color3, rgba(0, 0, 0, 0.38));\n",
       "  --xr-border-color: var(--jp-border-color2, #e0e0e0);\n",
       "  --xr-disabled-color: var(--jp-layout-color3, #bdbdbd);\n",
       "  --xr-background-color: var(--jp-layout-color0, white);\n",
       "  --xr-background-color-row-even: var(--jp-layout-color1, white);\n",
       "  --xr-background-color-row-odd: var(--jp-layout-color2, #eeeeee);\n",
       "}\n",
       "\n",
       "html[theme=dark],\n",
       "body.vscode-dark {\n",
       "  --xr-font-color0: rgba(255, 255, 255, 1);\n",
       "  --xr-font-color2: rgba(255, 255, 255, 0.54);\n",
       "  --xr-font-color3: rgba(255, 255, 255, 0.38);\n",
       "  --xr-border-color: #1F1F1F;\n",
       "  --xr-disabled-color: #515151;\n",
       "  --xr-background-color: #111111;\n",
       "  --xr-background-color-row-even: #111111;\n",
       "  --xr-background-color-row-odd: #313131;\n",
       "}\n",
       "\n",
       ".xr-wrap {\n",
       "  display: block !important;\n",
       "  min-width: 300px;\n",
       "  max-width: 700px;\n",
       "}\n",
       "\n",
       ".xr-text-repr-fallback {\n",
       "  /* fallback to plain text repr when CSS is not injected (untrusted notebook) */\n",
       "  display: none;\n",
       "}\n",
       "\n",
       ".xr-header {\n",
       "  padding-top: 6px;\n",
       "  padding-bottom: 6px;\n",
       "  margin-bottom: 4px;\n",
       "  border-bottom: solid 1px var(--xr-border-color);\n",
       "}\n",
       "\n",
       ".xr-header > div,\n",
       ".xr-header > ul {\n",
       "  display: inline;\n",
       "  margin-top: 0;\n",
       "  margin-bottom: 0;\n",
       "}\n",
       "\n",
       ".xr-obj-type,\n",
       ".xr-array-name {\n",
       "  margin-left: 2px;\n",
       "  margin-right: 10px;\n",
       "}\n",
       "\n",
       ".xr-obj-type {\n",
       "  color: var(--xr-font-color2);\n",
       "}\n",
       "\n",
       ".xr-sections {\n",
       "  padding-left: 0 !important;\n",
       "  display: grid;\n",
       "  grid-template-columns: 150px auto auto 1fr 20px 20px;\n",
       "}\n",
       "\n",
       ".xr-section-item {\n",
       "  display: contents;\n",
       "}\n",
       "\n",
       ".xr-section-item input {\n",
       "  display: none;\n",
       "}\n",
       "\n",
       ".xr-section-item input + label {\n",
       "  color: var(--xr-disabled-color);\n",
       "}\n",
       "\n",
       ".xr-section-item input:enabled + label {\n",
       "  cursor: pointer;\n",
       "  color: var(--xr-font-color2);\n",
       "}\n",
       "\n",
       ".xr-section-item input:enabled + label:hover {\n",
       "  color: var(--xr-font-color0);\n",
       "}\n",
       "\n",
       ".xr-section-summary {\n",
       "  grid-column: 1;\n",
       "  color: var(--xr-font-color2);\n",
       "  font-weight: 500;\n",
       "}\n",
       "\n",
       ".xr-section-summary > span {\n",
       "  display: inline-block;\n",
       "  padding-left: 0.5em;\n",
       "}\n",
       "\n",
       ".xr-section-summary-in:disabled + label {\n",
       "  color: var(--xr-font-color2);\n",
       "}\n",
       "\n",
       ".xr-section-summary-in + label:before {\n",
       "  display: inline-block;\n",
       "  content: '►';\n",
       "  font-size: 11px;\n",
       "  width: 15px;\n",
       "  text-align: center;\n",
       "}\n",
       "\n",
       ".xr-section-summary-in:disabled + label:before {\n",
       "  color: var(--xr-disabled-color);\n",
       "}\n",
       "\n",
       ".xr-section-summary-in:checked + label:before {\n",
       "  content: '▼';\n",
       "}\n",
       "\n",
       ".xr-section-summary-in:checked + label > span {\n",
       "  display: none;\n",
       "}\n",
       "\n",
       ".xr-section-summary,\n",
       ".xr-section-inline-details {\n",
       "  padding-top: 4px;\n",
       "  padding-bottom: 4px;\n",
       "}\n",
       "\n",
       ".xr-section-inline-details {\n",
       "  grid-column: 2 / -1;\n",
       "}\n",
       "\n",
       ".xr-section-details {\n",
       "  display: none;\n",
       "  grid-column: 1 / -1;\n",
       "  margin-bottom: 5px;\n",
       "}\n",
       "\n",
       ".xr-section-summary-in:checked ~ .xr-section-details {\n",
       "  display: contents;\n",
       "}\n",
       "\n",
       ".xr-array-wrap {\n",
       "  grid-column: 1 / -1;\n",
       "  display: grid;\n",
       "  grid-template-columns: 20px auto;\n",
       "}\n",
       "\n",
       ".xr-array-wrap > label {\n",
       "  grid-column: 1;\n",
       "  vertical-align: top;\n",
       "}\n",
       "\n",
       ".xr-preview {\n",
       "  color: var(--xr-font-color3);\n",
       "}\n",
       "\n",
       ".xr-array-preview,\n",
       ".xr-array-data {\n",
       "  padding: 0 5px !important;\n",
       "  grid-column: 2;\n",
       "}\n",
       "\n",
       ".xr-array-data,\n",
       ".xr-array-in:checked ~ .xr-array-preview {\n",
       "  display: none;\n",
       "}\n",
       "\n",
       ".xr-array-in:checked ~ .xr-array-data,\n",
       ".xr-array-preview {\n",
       "  display: inline-block;\n",
       "}\n",
       "\n",
       ".xr-dim-list {\n",
       "  display: inline-block !important;\n",
       "  list-style: none;\n",
       "  padding: 0 !important;\n",
       "  margin: 0;\n",
       "}\n",
       "\n",
       ".xr-dim-list li {\n",
       "  display: inline-block;\n",
       "  padding: 0;\n",
       "  margin: 0;\n",
       "}\n",
       "\n",
       ".xr-dim-list:before {\n",
       "  content: '(';\n",
       "}\n",
       "\n",
       ".xr-dim-list:after {\n",
       "  content: ')';\n",
       "}\n",
       "\n",
       ".xr-dim-list li:not(:last-child):after {\n",
       "  content: ',';\n",
       "  padding-right: 5px;\n",
       "}\n",
       "\n",
       ".xr-has-index {\n",
       "  font-weight: bold;\n",
       "}\n",
       "\n",
       ".xr-var-list,\n",
       ".xr-var-item {\n",
       "  display: contents;\n",
       "}\n",
       "\n",
       ".xr-var-item > div,\n",
       ".xr-var-item label,\n",
       ".xr-var-item > .xr-var-name span {\n",
       "  background-color: var(--xr-background-color-row-even);\n",
       "  margin-bottom: 0;\n",
       "}\n",
       "\n",
       ".xr-var-item > .xr-var-name:hover span {\n",
       "  padding-right: 5px;\n",
       "}\n",
       "\n",
       ".xr-var-list > li:nth-child(odd) > div,\n",
       ".xr-var-list > li:nth-child(odd) > label,\n",
       ".xr-var-list > li:nth-child(odd) > .xr-var-name span {\n",
       "  background-color: var(--xr-background-color-row-odd);\n",
       "}\n",
       "\n",
       ".xr-var-name {\n",
       "  grid-column: 1;\n",
       "}\n",
       "\n",
       ".xr-var-dims {\n",
       "  grid-column: 2;\n",
       "}\n",
       "\n",
       ".xr-var-dtype {\n",
       "  grid-column: 3;\n",
       "  text-align: right;\n",
       "  color: var(--xr-font-color2);\n",
       "}\n",
       "\n",
       ".xr-var-preview {\n",
       "  grid-column: 4;\n",
       "}\n",
       "\n",
       ".xr-var-name,\n",
       ".xr-var-dims,\n",
       ".xr-var-dtype,\n",
       ".xr-preview,\n",
       ".xr-attrs dt {\n",
       "  white-space: nowrap;\n",
       "  overflow: hidden;\n",
       "  text-overflow: ellipsis;\n",
       "  padding-right: 10px;\n",
       "}\n",
       "\n",
       ".xr-var-name:hover,\n",
       ".xr-var-dims:hover,\n",
       ".xr-var-dtype:hover,\n",
       ".xr-attrs dt:hover {\n",
       "  overflow: visible;\n",
       "  width: auto;\n",
       "  z-index: 1;\n",
       "}\n",
       "\n",
       ".xr-var-attrs,\n",
       ".xr-var-data {\n",
       "  display: none;\n",
       "  background-color: var(--xr-background-color) !important;\n",
       "  padding-bottom: 5px !important;\n",
       "}\n",
       "\n",
       ".xr-var-attrs-in:checked ~ .xr-var-attrs,\n",
       ".xr-var-data-in:checked ~ .xr-var-data {\n",
       "  display: block;\n",
       "}\n",
       "\n",
       ".xr-var-data > table {\n",
       "  float: right;\n",
       "}\n",
       "\n",
       ".xr-var-name span,\n",
       ".xr-var-data,\n",
       ".xr-attrs {\n",
       "  padding-left: 25px !important;\n",
       "}\n",
       "\n",
       ".xr-attrs,\n",
       ".xr-var-attrs,\n",
       ".xr-var-data {\n",
       "  grid-column: 1 / -1;\n",
       "}\n",
       "\n",
       "dl.xr-attrs {\n",
       "  padding: 0;\n",
       "  margin: 0;\n",
       "  display: grid;\n",
       "  grid-template-columns: 125px auto;\n",
       "}\n",
       "\n",
       ".xr-attrs dt,\n",
       ".xr-attrs dd {\n",
       "  padding: 0;\n",
       "  margin: 0;\n",
       "  float: left;\n",
       "  padding-right: 10px;\n",
       "  width: auto;\n",
       "}\n",
       "\n",
       ".xr-attrs dt {\n",
       "  font-weight: normal;\n",
       "  grid-column: 1;\n",
       "}\n",
       "\n",
       ".xr-attrs dt:hover span {\n",
       "  display: inline-block;\n",
       "  background: var(--xr-background-color);\n",
       "  padding-right: 10px;\n",
       "}\n",
       "\n",
       ".xr-attrs dd {\n",
       "  grid-column: 2;\n",
       "  white-space: pre-wrap;\n",
       "  word-break: break-all;\n",
       "}\n",
       "\n",
       ".xr-icon-database,\n",
       ".xr-icon-file-text2 {\n",
       "  display: inline-block;\n",
       "  vertical-align: middle;\n",
       "  width: 1em;\n",
       "  height: 1.5em !important;\n",
       "  stroke-width: 0;\n",
       "  stroke: currentColor;\n",
       "  fill: currentColor;\n",
       "}\n",
       "</style><pre class='xr-text-repr-fallback'>&lt;xarray.Dataset&gt;\n",
       "Dimensions:                (time: 4018, airport_ICAO: 50)\n",
       "Coordinates:\n",
       "  * time                   (time) datetime64[ns] 1990-01-01 ... 2000-12-31\n",
       "  * airport_ICAO           (airport_ICAO) object &#x27;KATL&#x27; &#x27;KORD&#x27; ... &#x27;KDAL&#x27; &#x27;KIND&#x27;\n",
       "Data variables:\n",
       "    air_temperature_max    (airport_ICAO, time) float32 ...\n",
       "    air_temperature_min    (airport_ICAO, time) float32 ...\n",
       "    relative_humidity_max  (airport_ICAO, time) float32 ...\n",
       "    relative_humidity_min  (airport_ICAO, time) float32 ...\n",
       "    precipitation          (airport_ICAO, time) float32 ...\n",
       "Attributes: (12/46)\n",
       "    description:                     Multivariate Adaptive Constructed Analog...\n",
       "    id:                              MACAv2-METDATA\n",
       "    naming_authority:                edu.uidaho.reacch\n",
       "    Metadata_Conventions:            Unidata Dataset Discovery v1.0\n",
       "    Metadata_Link:                   \n",
       "    cdm_data_type:                   GRID\n",
       "    ...                              ...\n",
       "    contributor_role:                Postdoctoral Fellow\n",
       "    publisher_name:                  REACCH\n",
       "    publisher_email:                 \n",
       "    publisher_url:                   http://www.reacchpna.org/\n",
       "    license:                         Creative Commons CC0 1.0 Universal Dedic...\n",
       "    coordinate_system:               WGS84,EPSG:4326</pre><div class='xr-wrap' style='display:none'><div class='xr-header'><div class='xr-obj-type'>xarray.Dataset</div></div><ul class='xr-sections'><li class='xr-section-item'><input id='section-446be51a-ba1c-4417-a238-77f38d834f08' class='xr-section-summary-in' type='checkbox' disabled ><label for='section-446be51a-ba1c-4417-a238-77f38d834f08' class='xr-section-summary'  title='Expand/collapse section'>Dimensions:</label><div class='xr-section-inline-details'><ul class='xr-dim-list'><li><span class='xr-has-index'>time</span>: 4018</li><li><span class='xr-has-index'>airport_ICAO</span>: 50</li></ul></div><div class='xr-section-details'></div></li><li class='xr-section-item'><input id='section-ed997bf8-37e7-4c41-9175-c285282dc760' class='xr-section-summary-in' type='checkbox'  checked><label for='section-ed997bf8-37e7-4c41-9175-c285282dc760' class='xr-section-summary' >Coordinates: <span>(2)</span></label><div class='xr-section-inline-details'></div><div class='xr-section-details'><ul class='xr-var-list'><li class='xr-var-item'><div class='xr-var-name'><span class='xr-has-index'>time</span></div><div class='xr-var-dims'>(time)</div><div class='xr-var-dtype'>datetime64[ns]</div><div class='xr-var-preview xr-preview'>1990-01-01 ... 2000-12-31</div><input id='attrs-5fa7670e-29dd-41cf-93b9-989b68cca849' class='xr-var-attrs-in' type='checkbox' ><label for='attrs-5fa7670e-29dd-41cf-93b9-989b68cca849' title='Show/Hide attributes'><svg class='icon xr-icon-file-text2'><use xlink:href='#icon-file-text2'></use></svg></label><input id='data-fef6fd80-f2da-4679-ab95-b6640913c620' class='xr-var-data-in' type='checkbox'><label for='data-fef6fd80-f2da-4679-ab95-b6640913c620' title='Show/Hide data repr'><svg class='icon xr-icon-database'><use xlink:href='#icon-database'></use></svg></label><div class='xr-var-attrs'><dl class='xr-attrs'><dt><span>description :</span></dt><dd>days since 1900-01-01</dd></dl></div><div class='xr-var-data'><pre>array([&#x27;1990-01-01T00:00:00.000000000&#x27;, &#x27;1990-01-02T00:00:00.000000000&#x27;,\n",
       "       &#x27;1990-01-03T00:00:00.000000000&#x27;, ..., &#x27;2000-12-29T00:00:00.000000000&#x27;,\n",
       "       &#x27;2000-12-30T00:00:00.000000000&#x27;, &#x27;2000-12-31T00:00:00.000000000&#x27;],\n",
       "      dtype=&#x27;datetime64[ns]&#x27;)</pre></div></li><li class='xr-var-item'><div class='xr-var-name'><span class='xr-has-index'>airport_ICAO</span></div><div class='xr-var-dims'>(airport_ICAO)</div><div class='xr-var-dtype'>object</div><div class='xr-var-preview xr-preview'>&#x27;KATL&#x27; &#x27;KORD&#x27; ... &#x27;KDAL&#x27; &#x27;KIND&#x27;</div><input id='attrs-b011e45d-d77e-4374-b02a-0f6ee48e7ee6' class='xr-var-attrs-in' type='checkbox' disabled><label for='attrs-b011e45d-d77e-4374-b02a-0f6ee48e7ee6' title='Show/Hide attributes'><svg class='icon xr-icon-file-text2'><use xlink:href='#icon-file-text2'></use></svg></label><input id='data-34a5bb66-76b9-487e-97c7-27d010ebead9' class='xr-var-data-in' type='checkbox'><label for='data-34a5bb66-76b9-487e-97c7-27d010ebead9' title='Show/Hide data repr'><svg class='icon xr-icon-database'><use xlink:href='#icon-database'></use></svg></label><div class='xr-var-attrs'><dl class='xr-attrs'></dl></div><div class='xr-var-data'><pre>array([&#x27;KATL&#x27;, &#x27;KORD&#x27;, &#x27;KLAX&#x27;, &#x27;KDFW&#x27;, &#x27;KDEN&#x27;, &#x27;KJFK&#x27;, &#x27;KSFO&#x27;, &#x27;KIAH&#x27;, &#x27;KLAS&#x27;,\n",
       "       &#x27;KPHX&#x27;, &#x27;KCLT&#x27;, &#x27;KMIA&#x27;, &#x27;KMCO&#x27;, &#x27;KEWR&#x27;, &#x27;KDTW&#x27;, &#x27;KMSP&#x27;, &#x27;KSEA&#x27;, &#x27;KPHL&#x27;,\n",
       "       &#x27;KBOS&#x27;, &#x27;KLGA&#x27;, &#x27;KIAD&#x27;, &#x27;KBWI&#x27;, &#x27;KFLL&#x27;, &#x27;KSLC&#x27;, &#x27;PHNL&#x27;, &#x27;KDCA&#x27;, &#x27;KMDW&#x27;,\n",
       "       &#x27;KSAN&#x27;, &#x27;KTPA&#x27;, &#x27;KPDX&#x27;, &#x27;KSTL&#x27;, &#x27;KMCI&#x27;, &#x27;KMEM&#x27;, &#x27;KCLE&#x27;, &#x27;KOAK&#x27;, &#x27;TJSJ&#x27;,\n",
       "       &#x27;KRDU&#x27;, &#x27;KBNA&#x27;, &#x27;KSMF&#x27;, &#x27;KHOU&#x27;, &#x27;KSNA&#x27;, &#x27;KAUS&#x27;, &#x27;KSJC&#x27;, &#x27;KMSY&#x27;, &#x27;KPIT&#x27;,\n",
       "       &#x27;KSAT&#x27;, &#x27;KCVG&#x27;, &#x27;KMKE&#x27;, &#x27;KDAL&#x27;, &#x27;KIND&#x27;], dtype=object)</pre></div></li></ul></div></li><li class='xr-section-item'><input id='section-7700c6e7-0474-49a1-b24c-29282d3ad294' class='xr-section-summary-in' type='checkbox'  checked><label for='section-7700c6e7-0474-49a1-b24c-29282d3ad294' class='xr-section-summary' >Data variables: <span>(5)</span></label><div class='xr-section-inline-details'></div><div class='xr-section-details'><ul class='xr-var-list'><li class='xr-var-item'><div class='xr-var-name'><span>air_temperature_max</span></div><div class='xr-var-dims'>(airport_ICAO, time)</div><div class='xr-var-dtype'>float32</div><div class='xr-var-preview xr-preview'>...</div><input id='attrs-fcee9d5e-7bcf-411e-8790-9ce453d4e1b2' class='xr-var-attrs-in' type='checkbox' ><label for='attrs-fcee9d5e-7bcf-411e-8790-9ce453d4e1b2' title='Show/Hide attributes'><svg class='icon xr-icon-file-text2'><use xlink:href='#icon-file-text2'></use></svg></label><input id='data-e0c8a27b-bb96-4ffd-a268-21312fe2f03e' class='xr-var-data-in' type='checkbox'><label for='data-e0c8a27b-bb96-4ffd-a268-21312fe2f03e' title='Show/Hide data repr'><svg class='icon xr-icon-database'><use xlink:href='#icon-database'></use></svg></label><div class='xr-var-attrs'><dl class='xr-attrs'><dt><span>long_name :</span></dt><dd>Daily Maximum Near-Surface Air Temperature</dd><dt><span>units :</span></dt><dd>K</dd><dt><span>grid_mapping :</span></dt><dd>crs</dd><dt><span>standard_name :</span></dt><dd>air_temperature</dd><dt><span>height :</span></dt><dd>2 m</dd><dt><span>cell_methods :</span></dt><dd>time: maximum(interval: 24 hours)</dd><dt><span>_ChunkSizes :</span></dt><dd>[162  51 123]</dd><dt><span>coordinates :</span></dt><dd>time lon lat</dd></dl></div><div class='xr-var-data'><pre>[200900 values with dtype=float32]</pre></div></li><li class='xr-var-item'><div class='xr-var-name'><span>air_temperature_min</span></div><div class='xr-var-dims'>(airport_ICAO, time)</div><div class='xr-var-dtype'>float32</div><div class='xr-var-preview xr-preview'>...</div><input id='attrs-c83f407f-4125-468d-8006-dbf70e456a47' class='xr-var-attrs-in' type='checkbox' ><label for='attrs-c83f407f-4125-468d-8006-dbf70e456a47' title='Show/Hide attributes'><svg class='icon xr-icon-file-text2'><use xlink:href='#icon-file-text2'></use></svg></label><input id='data-2f327b3e-d08b-4e5f-af11-86738fbfd2fb' class='xr-var-data-in' type='checkbox'><label for='data-2f327b3e-d08b-4e5f-af11-86738fbfd2fb' title='Show/Hide data repr'><svg class='icon xr-icon-database'><use xlink:href='#icon-database'></use></svg></label><div class='xr-var-attrs'><dl class='xr-attrs'><dt><span>long_name :</span></dt><dd>Daily Minimum Near-Surface Air Temperature</dd><dt><span>units :</span></dt><dd>K</dd><dt><span>grid_mapping :</span></dt><dd>crs</dd><dt><span>standard_name :</span></dt><dd>air_temperature</dd><dt><span>height :</span></dt><dd>2 m</dd><dt><span>cell_methods :</span></dt><dd>time: minimum(interval: 24 hours)</dd><dt><span>_ChunkSizes :</span></dt><dd>[162  51 123]</dd><dt><span>coordinates :</span></dt><dd>time lon lat</dd></dl></div><div class='xr-var-data'><pre>[200900 values with dtype=float32]</pre></div></li><li class='xr-var-item'><div class='xr-var-name'><span>relative_humidity_max</span></div><div class='xr-var-dims'>(airport_ICAO, time)</div><div class='xr-var-dtype'>float32</div><div class='xr-var-preview xr-preview'>...</div><input id='attrs-c849f418-9604-4f0c-9a94-f08fe10761ec' class='xr-var-attrs-in' type='checkbox' ><label for='attrs-c849f418-9604-4f0c-9a94-f08fe10761ec' title='Show/Hide attributes'><svg class='icon xr-icon-file-text2'><use xlink:href='#icon-file-text2'></use></svg></label><input id='data-64f80bbc-c18f-4aff-93d9-2c4678ae70c5' class='xr-var-data-in' type='checkbox'><label for='data-64f80bbc-c18f-4aff-93d9-2c4678ae70c5' title='Show/Hide data repr'><svg class='icon xr-icon-database'><use xlink:href='#icon-database'></use></svg></label><div class='xr-var-attrs'><dl class='xr-attrs'><dt><span>long_name :</span></dt><dd>Surface Daily Maximum Relative Humidity</dd><dt><span>units :</span></dt><dd>%</dd><dt><span>grid_mapping :</span></dt><dd>crs</dd><dt><span>standard_name :</span></dt><dd>relative_humidity</dd><dt><span>height :</span></dt><dd>2 m</dd><dt><span>cell_methods :</span></dt><dd>time: maximum(interval: 24 hours)</dd><dt><span>comments :</span></dt><dd>This is the relative humidity with respect to liquid water for T&gt; 0 C, and with respect to ice for T&lt;0 C.</dd><dt><span>_ChunkSizes :</span></dt><dd>[162  51 123]</dd><dt><span>coordinates :</span></dt><dd>time lon lat</dd></dl></div><div class='xr-var-data'><pre>[200900 values with dtype=float32]</pre></div></li><li class='xr-var-item'><div class='xr-var-name'><span>relative_humidity_min</span></div><div class='xr-var-dims'>(airport_ICAO, time)</div><div class='xr-var-dtype'>float32</div><div class='xr-var-preview xr-preview'>...</div><input id='attrs-b221408c-ac1a-4721-b642-f9637b379b37' class='xr-var-attrs-in' type='checkbox' ><label for='attrs-b221408c-ac1a-4721-b642-f9637b379b37' title='Show/Hide attributes'><svg class='icon xr-icon-file-text2'><use xlink:href='#icon-file-text2'></use></svg></label><input id='data-96b1debd-7156-4c0c-a79b-d5b84a842b50' class='xr-var-data-in' type='checkbox'><label for='data-96b1debd-7156-4c0c-a79b-d5b84a842b50' title='Show/Hide data repr'><svg class='icon xr-icon-database'><use xlink:href='#icon-database'></use></svg></label><div class='xr-var-attrs'><dl class='xr-attrs'><dt><span>long_name :</span></dt><dd>Surface Daily Minimum Relative Humidity</dd><dt><span>units :</span></dt><dd>%</dd><dt><span>grid_mapping :</span></dt><dd>crs</dd><dt><span>standard_name :</span></dt><dd>relative_humidity</dd><dt><span>height :</span></dt><dd>2 m</dd><dt><span>cell_methods :</span></dt><dd>time: minimum(interval: 24 hours)</dd><dt><span>comments :</span></dt><dd>This is the relative humidity with respect to liquid water for T&gt; 0 C, and with respect to ice for T&lt;0 C.</dd><dt><span>_ChunkSizes :</span></dt><dd>[162  51 123]</dd><dt><span>coordinates :</span></dt><dd>time lon lat</dd></dl></div><div class='xr-var-data'><pre>[200900 values with dtype=float32]</pre></div></li><li class='xr-var-item'><div class='xr-var-name'><span>precipitation</span></div><div class='xr-var-dims'>(airport_ICAO, time)</div><div class='xr-var-dtype'>float32</div><div class='xr-var-preview xr-preview'>...</div><input id='attrs-ff601daa-3c92-4123-a7f7-6dac3175702c' class='xr-var-attrs-in' type='checkbox' ><label for='attrs-ff601daa-3c92-4123-a7f7-6dac3175702c' title='Show/Hide attributes'><svg class='icon xr-icon-file-text2'><use xlink:href='#icon-file-text2'></use></svg></label><input id='data-1650e54e-4cc9-42ef-9e98-449ac94d9b33' class='xr-var-data-in' type='checkbox'><label for='data-1650e54e-4cc9-42ef-9e98-449ac94d9b33' title='Show/Hide data repr'><svg class='icon xr-icon-database'><use xlink:href='#icon-database'></use></svg></label><div class='xr-var-attrs'><dl class='xr-attrs'><dt><span>long_name :</span></dt><dd>Precipitation</dd><dt><span>units :</span></dt><dd>mm</dd><dt><span>grid_mapping :</span></dt><dd>crs</dd><dt><span>standard_name :</span></dt><dd>precipitation</dd><dt><span>cell_methods :</span></dt><dd>time: sum(interval: 24 hours)</dd><dt><span>comments :</span></dt><dd>Total daily precipitation at surface; includes both liquid and solid phases from all types of clouds (both large-scale and convective)</dd><dt><span>_ChunkSizes :</span></dt><dd>[162  51 123]</dd><dt><span>coordinates :</span></dt><dd>time lon lat</dd></dl></div><div class='xr-var-data'><pre>[200900 values with dtype=float32]</pre></div></li></ul></div></li><li class='xr-section-item'><input id='section-478ec813-21d5-4872-8ed7-6d570faacb3f' class='xr-section-summary-in' type='checkbox'  ><label for='section-478ec813-21d5-4872-8ed7-6d570faacb3f' class='xr-section-summary' >Attributes: <span>(46)</span></label><div class='xr-section-inline-details'></div><div class='xr-section-details'><dl class='xr-attrs'><dt><span>description :</span></dt><dd>Multivariate Adaptive Constructed Analogs (MACA) method, version 2.3,Dec 2013.</dd><dt><span>id :</span></dt><dd>MACAv2-METDATA</dd><dt><span>naming_authority :</span></dt><dd>edu.uidaho.reacch</dd><dt><span>Metadata_Conventions :</span></dt><dd>Unidata Dataset Discovery v1.0</dd><dt><span>Metadata_Link :</span></dt><dd></dd><dt><span>cdm_data_type :</span></dt><dd>GRID</dd><dt><span>title :</span></dt><dd>Downscaled daily meteorological data of Daily Maximum Near-Surface Air Temperature from College of Global Change and Earth System Science, Beijing Normal University (BNU-ESM) using the run r1i1p1 of the historical scenario.</dd><dt><span>summary :</span></dt><dd>This archive contains daily downscaled meteorological and hydrological projections for the Conterminous United States at 1/24-deg resolution utilizing the Multivariate Adaptive Constructed Analogs (MACA, Abatzoglou, 2012) statistical downscaling method with the METDATA (Abatzoglou,2013) training dataset. The downscaled meteorological variables are maximum/minimum temperature(tasmax/tasmin), maximum/minimum relative humidity (rhsmax/rhsmin)precipitation amount(pr), downward shortwave solar radiation(rsds), eastward wind(uas), northward wind(vas), and specific humidity(huss). The downscaling is based on the 365-day model outputs from different global climate models (GCMs) from Phase 5 of the Coupled Model Inter-comparison Project (CMIP3) utlizing the historical (1950-2005) and future RCP4.5/8.5(2006-2099) scenarios. Leap days have been added to the dataset from the average values between Feb 28 and Mar 1 in order to aid modellers.</dd><dt><span>keywords :</span></dt><dd>daily precipitation, daily maximum temperature, daily minimum temperature, daily downward shortwave solar radiation, daily specific humidity, daily wind velocity, CMIP5, Gridded Meteorological Data</dd><dt><span>keywords_vocabulary :</span></dt><dd></dd><dt><span>standard_name_vocabulary :</span></dt><dd>CF-1.0</dd><dt><span>history :</span></dt><dd>No revisions.</dd><dt><span>comment :</span></dt><dd></dd><dt><span>geospatial_bounds :</span></dt><dd>POLYGON((-124.7722 25.0631,-124.7722 49.3960, -67.0648 49.3960,-67.0648, 25.0631, -124.7722,25.0631))</dd><dt><span>geospatial_lat_min :</span></dt><dd>25.0631</dd><dt><span>geospatial_lat_max :</span></dt><dd>49.3960</dd><dt><span>geospatial_lon_min :</span></dt><dd>-124.7722</dd><dt><span>geospatial_lon_max :</span></dt><dd>-67.0648</dd><dt><span>geospatial_lat_units :</span></dt><dd>decimal degrees north</dd><dt><span>geospatial_lon_units :</span></dt><dd>decimal degrees east</dd><dt><span>geospatial_lat_resolution :</span></dt><dd>0.0417</dd><dt><span>geospatial_lon_resolution :</span></dt><dd>0.0417</dd><dt><span>geospatial_vertical_min :</span></dt><dd>0.0</dd><dt><span>geospatial_vertical_max :</span></dt><dd>0.0</dd><dt><span>geospatial_vertical_resolution :</span></dt><dd>0.0</dd><dt><span>geospatial_vertical_positive :</span></dt><dd>up</dd><dt><span>time_coverage_start :</span></dt><dd>2000-01-01T00:0</dd><dt><span>time_coverage_end :</span></dt><dd>2004-12-31T00:00</dd><dt><span>time_coverage_duration :</span></dt><dd>P5Y</dd><dt><span>time_coverage_resolution :</span></dt><dd>P1D</dd><dt><span>date_created :</span></dt><dd>2014-05-15</dd><dt><span>date_modified :</span></dt><dd>2014-05-15</dd><dt><span>date_issued :</span></dt><dd>2014-05-15</dd><dt><span>creator_name :</span></dt><dd>John Abatzoglou</dd><dt><span>creator_url :</span></dt><dd>http://maca.northwestknowledge.net</dd><dt><span>creator_email :</span></dt><dd>jabatzoglou@uidaho.edu</dd><dt><span>institution :</span></dt><dd>University of Idaho</dd><dt><span>processing_level :</span></dt><dd>GRID</dd><dt><span>project :</span></dt><dd></dd><dt><span>contributor_name :</span></dt><dd>Katherine C. Hegewisch</dd><dt><span>contributor_role :</span></dt><dd>Postdoctoral Fellow</dd><dt><span>publisher_name :</span></dt><dd>REACCH</dd><dt><span>publisher_email :</span></dt><dd></dd><dt><span>publisher_url :</span></dt><dd>http://www.reacchpna.org/</dd><dt><span>license :</span></dt><dd>Creative Commons CC0 1.0 Universal Dedication(http://creativecommons.org/publicdomain/zero/1.0/legalcode)</dd><dt><span>coordinate_system :</span></dt><dd>WGS84,EPSG:4326</dd></dl></div></li></ul></div></div>"
      ],
      "text/plain": [
       "<xarray.Dataset>\n",
       "Dimensions:                (time: 4018, airport_ICAO: 50)\n",
       "Coordinates:\n",
       "  * time                   (time) datetime64[ns] 1990-01-01 ... 2000-12-31\n",
       "  * airport_ICAO           (airport_ICAO) object 'KATL' 'KORD' ... 'KDAL' 'KIND'\n",
       "Data variables:\n",
       "    air_temperature_max    (airport_ICAO, time) float32 ...\n",
       "    air_temperature_min    (airport_ICAO, time) float32 ...\n",
       "    relative_humidity_max  (airport_ICAO, time) float32 ...\n",
       "    relative_humidity_min  (airport_ICAO, time) float32 ...\n",
       "    precipitation          (airport_ICAO, time) float32 ...\n",
       "Attributes: (12/46)\n",
       "    description:                     Multivariate Adaptive Constructed Analog...\n",
       "    id:                              MACAv2-METDATA\n",
       "    naming_authority:                edu.uidaho.reacch\n",
       "    Metadata_Conventions:            Unidata Dataset Discovery v1.0\n",
       "    Metadata_Link:                   \n",
       "    cdm_data_type:                   GRID\n",
       "    ...                              ...\n",
       "    contributor_role:                Postdoctoral Fellow\n",
       "    publisher_name:                  REACCH\n",
       "    publisher_email:                 \n",
       "    publisher_url:                   http://www.reacchpna.org/\n",
       "    license:                         Creative Commons CC0 1.0 Universal Dedic...\n",
       "    coordinate_system:               WGS84,EPSG:4326"
      ]
     },
     "execution_count": 2,
     "metadata": {},
     "output_type": "execute_result"
    }
   ],
   "source": [
    "airport_weather"
   ]
  },
  {
   "cell_type": "markdown",
   "id": "af941ddc",
   "metadata": {},
   "source": [
    "This method is pretty slow... there has to be a better way to flatten the weather (long, lat) and select the coordinates I want without concatinating all of these new xarrays."
   ]
  },
  {
   "cell_type": "markdown",
   "id": "b56580a7",
   "metadata": {},
   "source": [
    "# Weather patterns"
   ]
  },
  {
   "cell_type": "markdown",
   "id": "acef88a2",
   "metadata": {},
   "source": [
    "This is the correlation of max temperature and precipitation between all airports with no lag."
   ]
  },
  {
   "cell_type": "code",
   "execution_count": 3,
   "id": "299fdacb",
   "metadata": {},
   "outputs": [
    {
     "data": {
      "text/plain": [
       "<matplotlib.colorbar.Colorbar at 0x7ff7b23dbb20>"
      ]
     },
     "execution_count": 3,
     "metadata": {},
     "output_type": "execute_result"
    },
    {
     "data": {
      "image/png": "[encoded data removed]",
      "text/plain": [
       "<Figure size 1080x432 with 4 Axes>"
      ]
     },
     "metadata": {
      "needs_background": "light"
     },
     "output_type": "display_data"
    }
   ],
   "source": [
    "import numpy as np\n",
    "import matplotlib.pyplot as plt\n",
    "fig = plt.figure(figsize=(15, 6))\n",
    "\n",
    "ax = fig.add_subplot(1,2,1)\n",
    "corr0 = np.corrcoef(airport_weather[\"air_temperature_max\"])\n",
    "c = ax.imshow(corr0, cmap=\"plasma\", vmin=0.35, vmax=0.95)\n",
    "ax.title.set_text(\"max air temperature\")\n",
    "fig.colorbar(c)\n",
    "\n",
    "ax = fig.add_subplot(1,2,2)\n",
    "corr0 = np.corrcoef(airport_weather[\"precipitation\"])\n",
    "c = ax.imshow(corr0, cmap=\"viridis\", vmin=0, vmax=1)\n",
    "ax.title.set_text(\"precipitation\")\n",
    "fig.colorbar(c)\n"
   ]
  },
  {
   "cell_type": "markdown",
   "id": "bb6647fb",
   "metadata": {},
   "source": [
    "This is the correlation of max temperature between all airports with lags of 1, 3, or 7 days (columns = shifted before rows)."
   ]
  },
  {
   "cell_type": "code",
   "execution_count": 54,
   "id": "9b74a58e",
   "metadata": {},
   "outputs": [
    {
     "data": {
      "text/plain": [
       "<matplotlib.colorbar.Colorbar at 0x7ff7b735bbb0>"
      ]
     },
     "execution_count": 54,
     "metadata": {},
     "output_type": "execute_result"
    },
    {
     "data": {
      "image/png": "[encoded data removed]",
      "text/plain": [
       "<Figure size 1080x432 with 6 Axes>"
      ]
     },
     "metadata": {
      "needs_background": "light"
     },
     "output_type": "display_data"
    }
   ],
   "source": [
    "corr1 = np.zeros((50, 50))\n",
    "corr3 = np.zeros((50, 50))\n",
    "corr7 = np.zeros((50, 50))\n",
    "\n",
    "for p1 in range(50):\n",
    "    for p2 in range(50):\n",
    "        corr1[p1, p2] = np.corrcoef(airport_weather[\"air_temperature_max\"][p1,1:],\n",
    "                                    airport_weather[\"air_temperature_max\"][p2,:-1])[0,1]\n",
    "for p1 in range(50):\n",
    "    for p2 in range(50):\n",
    "        corr3[p1, p2] = np.corrcoef(airport_weather[\"air_temperature_max\"][p1,3:],\n",
    "                                    airport_weather[\"air_temperature_max\"][p2,:-3])[0,1]\n",
    "        \n",
    "for p1 in range(50):\n",
    "    for p2 in range(50):\n",
    "        corr7[p1, p2] = np.corrcoef(airport_weather[\"air_temperature_max\"][p1,7:],\n",
    "                                    airport_weather[\"air_temperature_max\"][p2,:-7])[0,1]\n",
    "fig = plt.figure(figsize=(15, 6))\n",
    "\n",
    "ax = fig.add_subplot(1,3,1)\n",
    "c = ax.imshow(corr1, cmap=\"plasma\", vmin=0.35, vmax=0.95)\n",
    "ax.title.set_text('shift 1 day')\n",
    "ax.set(xlabel='early', ylabel='late')\n",
    "fig.colorbar(c)\n",
    "\n",
    "ax = fig.add_subplot(1,3,2)\n",
    "c = ax.imshow(corr3, cmap=\"plasma\", vmin=0.35, vmax=0.95)\n",
    "ax.title.set_text('shift 3 day')\n",
    "ax.set(xlabel='early', ylabel='late')\n",
    "fig.colorbar(c)\n",
    "\n",
    "ax = fig.add_subplot(1,3,3)\n",
    "c = ax.imshow(corr7, cmap=\"plasma\", vmin=0.35, vmax=0.95)\n",
    "ax.title.set_text('shift 7 day')\n",
    "ax.set(xlabel='early', ylabel='late')\n",
    "fig.colorbar(c)"
   ]
  },
  {
   "cell_type": "markdown",
   "id": "72725e30",
   "metadata": {},
   "source": [
    "This is the correlation of precipitation between all airports with lags of 1, 3, or 7 days (columns = shifted before rows)."
   ]
  },
  {
   "cell_type": "code",
   "execution_count": 5,
   "id": "d9e415e7",
   "metadata": {},
   "outputs": [
    {
     "data": {
      "text/plain": [
       "<matplotlib.colorbar.Colorbar at 0x7ff7b26b76d0>"
      ]
     },
     "execution_count": 5,
     "metadata": {},
     "output_type": "execute_result"
    },
    {
     "data": {
      "image/png": "[encoded data removed]",
      "text/plain": [
       "<Figure size 1080x432 with 6 Axes>"
      ]
     },
     "metadata": {
      "needs_background": "light"
     },
     "output_type": "display_data"
    }
   ],
   "source": [
    "corr1 = np.zeros((50, 50))\n",
    "corr3 = np.zeros((50, 50))\n",
    "corr7 = np.zeros((50, 50))\n",
    "\n",
    "for p1 in range(50):\n",
    "    for p2 in range(50):\n",
    "        corr1[p1, p2] = np.corrcoef(airport_weather[\"precipitation\"][p1,1:],\n",
    "                                    airport_weather[\"precipitation\"][p2,:-1])[0,1]\n",
    "for p1 in range(50):\n",
    "    for p2 in range(50):\n",
    "        corr3[p1, p2] = np.corrcoef(airport_weather[\"precipitation\"][p1,3:],\n",
    "                                    airport_weather[\"precipitation\"][p2,:-3])[0,1]\n",
    "        \n",
    "for p1 in range(50):\n",
    "    for p2 in range(50):\n",
    "        corr7[p1, p2] = np.corrcoef(airport_weather[\"precipitation\"][p1,7:],\n",
    "                                    airport_weather[\"precipitation\"][p2,:-7])[0,1]\n",
    "fig = plt.figure(figsize=(15, 6))\n",
    "\n",
    "ax = fig.add_subplot(1,3,1)\n",
    "c = ax.imshow(corr1, cmap=\"viridis\", vmin=0, vmax=1)\n",
    "ax.title.set_text('shift 1 day')\n",
    "ax.set(xlabel='early', ylabel='late')\n",
    "fig.colorbar(c)\n",
    "\n",
    "ax = fig.add_subplot(1,3,2)\n",
    "c = ax.imshow(corr3, cmap=\"viridis\", vmin=0, vmax=1)\n",
    "ax.title.set_text('shift 3 day')\n",
    "ax.set(xlabel='early', ylabel='late')\n",
    "fig.colorbar(c)\n",
    "\n",
    "ax = fig.add_subplot(1,3,3)\n",
    "c = ax.imshow(corr7, cmap=\"viridis\", vmin=0, vmax=1)\n",
    "ax.title.set_text('shift 7 day')\n",
    "ax.set(xlabel='early', ylabel='late')\n",
    "fig.colorbar(c)"
   ]
  },
  {
   "cell_type": "markdown",
   "id": "a6262952",
   "metadata": {},
   "source": [
    "# Correlations from top 10 pairs"
   ]
  },
  {
   "cell_type": "code",
   "execution_count": 22,
   "id": "43d3690f",
   "metadata": {},
   "outputs": [],
   "source": [
    "# extract all of the airport long, lat coordinates \n",
    "airport_long = engine.execute(\"SELECT longitude_deg FROM airports\").fetchall()\n",
    "airport_lat = engine.execute(\"SELECT latitude_deg FROM airports\").fetchall()\n"
   ]
  },
  {
   "cell_type": "code",
   "execution_count": 85,
   "id": "214b9038",
   "metadata": {},
   "outputs": [],
   "source": [
    "corr1_top10 = np.argsort(-corr1, axis=None)[:10]\n",
    "corr1_top10_xy = np.unravel_index(corr1_top10, (50, 50), order='C')\n",
    "corr1_top10_values = [corr1[corr1_top10_xy[0][i], corr1_top10_xy[1][i]] for i in range(len(corr1_top10))]\n",
    "corr1_top10_longdist = [airport_long[corr1_top10_xy[0][i]][0] - \n",
    "                        airport_long[corr1_top10_xy[1][i]][0] for i in range(len(corr1_top10))]"
   ]
  },
  {
   "cell_type": "code",
   "execution_count": 86,
   "id": "50b30da8",
   "metadata": {},
   "outputs": [],
   "source": []
  },
  {
   "cell_type": "code",
   "execution_count": 87,
   "id": "4cef7de1",
   "metadata": {},
   "outputs": [],
   "source": []
  },
  {
   "cell_type": "code",
   "execution_count": 88,
   "id": "8fa50f44",
   "metadata": {},
   "outputs": [],
   "source": []
  },
  {
   "cell_type": "code",
   "execution_count": 90,
   "id": "39593591",
   "metadata": {},
   "outputs": [
    {
     "data": {
      "text/plain": [
       "<matplotlib.collections.PathCollection at 0x7ff7b96ac580>"
      ]
     },
     "execution_count": 90,
     "metadata": {},
     "output_type": "execute_result"
    },
    {
     "data": {
      "image/png": "[encoded data removed]",
      "text/plain": [
       "<Figure size 432x288 with 1 Axes>"
      ]
     },
     "metadata": {
      "needs_background": "light"
     },
     "output_type": "display_data"
    }
   ],
   "source": [
    "fig = plt.figure()\n",
    "ax = fig.add_subplot(1,3,1)\n",
    "ax.scatter(corr1_top10_longdist, corr1_top10_values)"
   ]
  },
  {
   "cell_type": "code",
   "execution_count": null,
   "id": "94d504d8",
   "metadata": {},
   "outputs": [],
   "source": []
  },
  {
   "cell_type": "code",
   "execution_count": null,
   "id": "d53161c2",
   "metadata": {},
   "outputs": [],
   "source": []
  },
  {
   "cell_type": "markdown",
   "id": "b2db65e8",
   "metadata": {},
   "source": [
    "# (code playground)"
   ]
  },
  {
   "cell_type": "code",
   "execution_count": null,
   "id": "b058ce3f",
   "metadata": {
    "scrolled": true
   },
   "outputs": [],
   "source": [
    "import matplotlib.pyplot as plt\n",
    "\n",
    "\n",
    "key=500\n",
    "\n",
    "longitude = max_temp_xr[\"air_temperature\"][\"lon\"].values[key]\n",
    "latitude = max_temp_xr[\"air_temperature\"][\"lat\"].values[key]\n",
    "\n",
    "# lat = engine.execute(\"SELECT latitude_deg FROM airports\").fetchall()\n",
    "# long = engine.execute(\"SELECT longitude_deg FROM airports\").fetchall()\n",
    "time_window = pd.date_range(start='1/1/1990', end='12/31/2000', freq='D')\n",
    "one_point = max_temp_xr[\"air_temperature\"].sel(lat=latitude,\n",
    "                                               lon=longitude,\n",
    "                                            time=time_window)\n",
    "one_point\n",
    "plt.figure(figsize=(8,4))\n",
    "one_point.plot()"
   ]
  },
  {
   "cell_type": "code",
   "execution_count": null,
   "id": "55a00a1c",
   "metadata": {},
   "outputs": [],
   "source": [
    "longitude = max_temp_xr[\"air_temperature\"][\"lon\"].values\n",
    "plt.hist(longitude-360)"
   ]
  },
  {
   "cell_type": "code",
   "execution_count": null,
   "id": "80812dc6",
   "metadata": {},
   "outputs": [],
   "source": [
    "latitude = max_temp_xr[\"air_temperature\"][\"lat\"].values\n",
    "plt.hist(latitude)"
   ]
  },
  {
   "cell_type": "code",
   "execution_count": null,
   "id": "1e6aa0ca",
   "metadata": {},
   "outputs": [],
   "source": [
    "plt.hist(long)"
   ]
  },
  {
   "cell_type": "code",
   "execution_count": null,
   "id": "077825f0",
   "metadata": {},
   "outputs": [],
   "source": [
    "lat = engine.execute(\"SELECT latitude_deg FROM airports\").fetchall()\n",
    "plt.hist(lat)\n",
    "1"
   ]
  },
  {
   "cell_type": "code",
   "execution_count": null,
   "id": "97cf972f",
   "metadata": {},
   "outputs": [],
   "source": []
  },
  {
   "cell_type": "code",
   "execution_count": null,
   "id": "0f38a395",
   "metadata": {},
   "outputs": [],
   "source": [
    "def find_closest_coord(long_all, long_0):\n",
    "    \n",
    "    return np.abs(long_all - long_0).argmin()"
   ]
  },
  {
   "cell_type": "code",
   "execution_count": null,
   "id": "23dd9425",
   "metadata": {},
   "outputs": [],
   "source": [
    "long_all = max_temp_xr[\"air_temperature\"][\"lon\"].values\n",
    "long_0 = lat[0]"
   ]
  },
  {
   "cell_type": "code",
   "execution_count": null,
   "id": "63cf5cab",
   "metadata": {},
   "outputs": [],
   "source": [
    "find_closest_coord(long_all, long_0)\n"
   ]
  },
  {
   "cell_type": "code",
   "execution_count": null,
   "id": "b8be9995",
   "metadata": {},
   "outputs": [],
   "source": [
    "np.abs(long_all - long_0).argmin()"
   ]
  },
  {
   "cell_type": "code",
   "execution_count": null,
   "id": "6a467bd4",
   "metadata": {},
   "outputs": [],
   "source": []
  },
  {
   "cell_type": "code",
   "execution_count": null,
   "id": "fac1b85f",
   "metadata": {},
   "outputs": [],
   "source": []
  },
  {
   "cell_type": "code",
   "execution_count": null,
   "id": "c8f87345",
   "metadata": {},
   "outputs": [],
   "source": [
    "# engine.execute(\"SELECT * FROM airports\").fetchall()\n",
    "\n",
    "\n"
   ]
  },
  {
   "cell_type": "code",
   "execution_count": null,
   "id": "5a634b34",
   "metadata": {},
   "outputs": [],
   "source": [
    "\n",
    "\n",
    "\n",
    "\n"
   ]
  },
  {
   "cell_type": "code",
   "execution_count": null,
   "id": "77adace6",
   "metadata": {},
   "outputs": [],
   "source": [
    "max_temp_xr[\"air_temperature\"][\"lon\"].values[1:3]"
   ]
  },
  {
   "cell_type": "code",
   "execution_count": null,
   "id": "a4280b0f",
   "metadata": {},
   "outputs": [],
   "source": [
    "longitude = max_temp_xr[\"air_temperature\"][\"lon\"].values[:3]\n",
    "latitude = max_temp_xr[\"air_temperature\"][\"lat\"].values[:3]"
   ]
  },
  {
   "cell_type": "code",
   "execution_count": null,
   "id": "b571c573",
   "metadata": {},
   "outputs": [],
   "source": []
  },
  {
   "cell_type": "code",
   "execution_count": null,
   "id": "02d9ee87",
   "metadata": {},
   "outputs": [],
   "source": []
  }
 ],
 "metadata": {
  "kernelspec": {
   "display_name": "Python 3 (ipykernel)",
   "language": "python",
   "name": "python3"
  },
  "language_info": {
   "codemirror_mode": {
    "name": "ipython",
    "version": 3
   },
   "file_extension": ".py",
   "mimetype": "text/x-python",
   "name": "python",
   "nbconvert_exporter": "python",
   "pygments_lexer": "ipython3",
   "version": "3.8.0"
  },
  "toc": {
   "base_numbering": 1,
   "nav_menu": {},
   "number_sections": true,
   "sideBar": true,
   "skip_h1_title": false,
   "title_cell": "Table of Contents",
   "title_sidebar": "Contents",
   "toc_cell": true,
   "toc_position": {},
   "toc_section_display": true,
   "toc_window_display": false
  }
 },
 "nbformat": 4,
 "nbformat_minor": 5
}

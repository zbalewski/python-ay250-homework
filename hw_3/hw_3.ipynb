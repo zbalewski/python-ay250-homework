{
 "cells": [
  {
   "cell_type": "markdown",
   "metadata": {},
   "source": [
    "# Homework 3 - Application Building\n",
    "\n",
    "- Python Computing for Data Science (2022)\n",
    "\n",
    "- Due Tuesday Feb 15 (8pm)\n",
    "\n",
    "## CalCalc\n",
    "\n",
    "Write a module called `CalCalc`, with a method called `calculate` that evaluates any string passed to it, and can be used from either the command line (using `argparse` with reasonable flags) or imported within Python. Feel free to use something like `eval()`, but be aware of some of the nasty things it can do, and make sure it doesn’t have too much power:  http://nedbatchelder.com/blog/201206/eval_really_is_dangerous.html. Perhaps explore the use of `numexpr` to constrain the landscape of possible uses to math expressions.\n",
    "\n",
    "EXAMPLE:\n",
    "```bash\n",
    "$ python CalCalc.py -s '34*28'\n",
    "$ 952\n",
    "```\n",
    " AND, from within Python\n",
    " \n",
    "```python\n",
    ">>> from CalCalc import calculate\n",
    ">>> calculate('34*20')\n",
    ">>> 952\n",
    "```"
   ]
  },
  {
   "cell_type": "markdown",
   "metadata": {},
   "source": [
    "### Add Wolfram\n",
    "\n",
    "To make this more awesome, have your function interact with the Wolfram|Alpha API to ask it what it thinks of the difficult questions.  To make this work, experiment with `urllib2` and a URL like this:\n",
    "'http://api.wolframalpha.com/v2/query?input=XXXXX&appid=UAGAWR-3X6Y8W777Q'\n",
    "where you replace the XXXXX with what you want to know.  NOTE: the ‘&appid=UAGAWR-3X6Y8W777Q’ part is vital; it is a W|A AppID I got for the class.  Feel free to use that one, or you can get your own and read more about the API, here:   http://products.wolframalpha.com/api/\n",
    "And you can explore how it works here:  http://products.wolframalpha.com/api/explorer.html\n",
    "\n",
    "EXAMPLE:\n",
    "\n",
    "```bash\n",
    "$ python CalCalc.py -w 'mass of the moon in kg'\n",
    "7.3459e+22\n",
    "```\n",
    "\n",
    "AND, from within Python\n",
    "\n",
    "```python\n",
    ">>> from CalCalc import calculate\n",
    ">>> calculate('mass of the moon in kg',  return_float=True) * 10\n",
    ">>> 7.3459e+23\n",
    "```"
   ]
  },
  {
   "cell_type": "markdown",
   "metadata": {},
   "source": [
    "## Adding it to Github\n",
    "\n",
    "Start a github project for CalCalc. Include a setup.py, README.txt, LICENSE.txt, MANIFEST.in, etc. and turn your module into a proper Python Distribution, so that we can install it and use it. See https://packaging.python.org/en/latest/guides/distributing-packages-using-setuptools/ \n",
    "\n",
    "Example Folder Hierarchy:\n",
    "```bash\n",
    "Your_Homework3_Folder/calcalc\n",
    "                      |--> CalCalc.py\n",
    "                      |--> __init__.py\n",
    "Your_Homework3_Folder/setup.py\n",
    "Your_Homework3_Folder/README.txt\n",
    "...\n",
    "```\n",
    "Include at least 5 test functions in CalCalc.py, and test with `pytest`, to make sure it behaves the way you think it should.\n",
    "\n",
    "EXAMPLE `CalCalc.py`:\n",
    "```python\n",
    "# ...\n",
    "def calculate([...]):\n",
    "    [...]\n",
    "\n",
    "def test_1():\n",
    "    assert abs(4. - calculate('2**2')) < 0.001\n",
    "```\n",
    "\n",
    "When grading, we will create a virtual environment and attempt to install your module by running:\n",
    "\n",
    "```bash\n",
    "pip install build\n",
    "```"
   ]
  },
  {
   "cell_type": "markdown",
   "metadata": {},
   "source": [
    "### CalCalc on CI\n",
    "\n",
    "Get your project working with GitHub Actions and make sure your tests are run and pass. Give us a link to you GH actions for your site here (e.g. https://github.com/profjsb/PyAdder/actions):"
   ]
  },
  {
   "cell_type": "code",
   "execution_count": null,
   "metadata": {},
   "outputs": [],
   "source": []
  },
  {
   "cell_type": "markdown",
   "metadata": {},
   "source": [
    "### **(Bonus/Extra Credit)** \n",
    "\n",
    "  Get your project working on Azure, AWS or Google Compute Cloud with a Flask front-end. You can use the example from class as a template. Start a VM on one of these PaaS. A user should be able to submit their calcalc query on a form (hosted on your VM) and get the result back.\n",
    "\n",
    "You should be able to add an `app.py` (with Flask) into your CalCalc project. Be sure to open up the port on the VM that you are serving on. Let us know the URL to your app here:"
   ]
  },
  {
   "cell_type": "code",
   "execution_count": null,
   "metadata": {
    "collapsed": true
   },
   "outputs": [],
   "source": []
  }
 ],
 "metadata": {
  "kernelspec": {
   "display_name": "py3.9 AY250",
   "language": "python",
   "name": "ay250"
  },
  "language_info": {
   "codemirror_mode": {
    "name": "ipython",
    "version": 3
   },
   "file_extension": ".py",
   "mimetype": "text/x-python",
   "name": "python",
   "nbconvert_exporter": "python",
   "pygments_lexer": "ipython3",
   "version": "3.9.9"
  },
  "toc": {
   "base_numbering": 1,
   "nav_menu": {},
   "number_sections": true,
   "sideBar": true,
   "skip_h1_title": false,
   "title_cell": "Table of Contents",
   "title_sidebar": "Contents",
   "toc_cell": false,
   "toc_position": {},
   "toc_section_display": true,
   "toc_window_display": false
  },
  "varInspector": {
   "cols": {
    "lenName": 16,
    "lenType": 16,
    "lenVar": 40
   },
   "kernels_config": {
    "python": {
     "delete_cmd_postfix": "",
     "delete_cmd_prefix": "del ",
     "library": "var_list.py",
     "varRefreshCmd": "print(var_dic_list())"
    },
    "r": {
     "delete_cmd_postfix": ") ",
     "delete_cmd_prefix": "rm(",
     "library": "var_list.r",
     "varRefreshCmd": "cat(var_dic_list()) "
    }
   },
   "types_to_exclude": [
    "module",
    "function",
    "builtin_function_or_method",
    "instance",
    "_Feature"
   ],
   "window_display": false
  }
 },
 "nbformat": 4,
 "nbformat_minor": 1
}

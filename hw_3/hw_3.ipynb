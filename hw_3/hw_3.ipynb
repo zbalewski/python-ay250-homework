{
 "cells": [
  {
   "cell_type": "markdown",
   "metadata": {},
   "source": [
    "# Homework 3 - Application Building\n",
    "\n",
    "- Python Computing for Data Science (2022)\n",
    "\n",
    "- Due Tuesday Feb 15 (8pm)\n",
    "\n",
    "## CalCalc\n",
    "\n",
    "Write a module called `CalCalc`, with a method called `calculate` that evaluates any string passed to it, and can be used from either the command line (using `argparse` with reasonable flags) or imported within Python. Feel free to use something like `eval()`, but be aware of some of the nasty things it can do, and make sure it doesn’t have too much power:  http://nedbatchelder.com/blog/201206/eval_really_is_dangerous.html. Perhaps explore the use of `numexpr` to constrain the landscape of possible uses to math expressions.\n",
    "\n",
    "EXAMPLE:\n",
    "```bash\n",
    "$ python CalCalc.py -s '34*28'\n",
    "$ 952\n",
    "```\n",
    " AND, from within Python\n",
    " \n",
    "```python\n",
    ">>> from CalCalc import calculate\n",
    ">>> calculate('34*20')\n",
    ">>> 952\n",
    "```"
   ]
  },
  {
   "cell_type": "markdown",
   "metadata": {},
   "source": [
    "### Add Wolfram\n",
    "\n",
    "To make this more awesome, have your function interact with the Wolfram|Alpha API to ask it what it thinks of the difficult questions.  To make this work, experiment with `urllib2` and a URL like this:\n",
    "'http://api.wolframalpha.com/v2/query?input=XXXXX&appid=UAGAWR-3X6Y8W777Q'\n",
    "where you replace the XXXXX with what you want to know.  NOTE: the ‘&appid=UAGAWR-3X6Y8W777Q’ part is vital; it is a W|A AppID I got for the class.  Feel free to use that one, or you can get your own and read more about the API, here:   http://products.wolframalpha.com/api/\n",
    "And you can explore how it works here:  http://products.wolframalpha.com/api/explorer.html\n",
    "\n",
    "EXAMPLE:\n",
    "\n",
    "```bash\n",
    "$ python CalCalc.py -w 'mass of the moon in kg'\n",
    "7.3459e+22\n",
    "```\n",
    "\n",
    "AND, from within Python\n",
    "\n",
    "```python\n",
    ">>> from CalCalc import calculate\n",
    ">>> calculate('mass of the moon in kg',  return_float=True) * 10\n",
    ">>> 7.3459e+23\n",
    "```"
   ]
  },
  {
   "cell_type": "markdown",
   "metadata": {},
   "source": [
    "**I integrated 1.1 and 1.1.1 into the same CalCalc.py file below:**"
   ]
  },
  {
   "cell_type": "code",
   "execution_count": 1,
   "metadata": {},
   "outputs": [
    {
     "name": "stdout",
     "output_type": "stream",
     "text": [
      "Overwriting calcalc/CalCalc.py\n"
     ]
    }
   ],
   "source": [
    "%%writefile calcalc/CalCalc.py\n",
    "\"\"\"CalCalc: evaluate strings as numeric expressions. If simple (i.e., no\n",
    "alpha characters), will try to evaluate locally with numexpr. If more\n",
    "complex, will try to query wolfram alpha.\n",
    "\"\"\"\n",
    "import argparse\n",
    "import numexpr as ne\n",
    "import urllib.request\n",
    "import requests\n",
    "\n",
    "\n",
    "def calculate(str_input, return_float=True):\n",
    "    \"\"\"Evaluate any string, limited to numerical expressions.\n",
    "\n",
    "    Parameters\n",
    "    ----------\n",
    "    str_input : str\n",
    "        String expression to evaluate.\n",
    "    return_float : bool\n",
    "        If output should be float (default = True)\n",
    "\n",
    "    Returns\n",
    "    -------\n",
    "    answer : float\n",
    "        Numeric output of evaluated string.\n",
    "\n",
    "    \"\"\"\n",
    "\n",
    "    # first, are you string?\n",
    "    if type(str_input) != str:\n",
    "        raise ValueError(\"You are not a string. Try again.\")\n",
    "\n",
    "    # let's see if numexpr can solve you\n",
    "    try:\n",
    "        answer = ne.evaluate(str_input).item()\n",
    "        return answer\n",
    "\n",
    "    except (KeyError, SyntaxError):\n",
    "\n",
    "        # ok, let's send you to wolfram\n",
    "        try:\n",
    "            answer = query_wolfram(str_input, return_float)\n",
    "            return answer\n",
    "\n",
    "        except (ValueError, SyntaxError):\n",
    "            return \"idk\"\n",
    "\n",
    "\n",
    "def query_wolfram(str_input, return_float):\n",
    "    \"\"\"Send off query to wolfram...\n",
    "\n",
    "    Parameters\n",
    "    ----------\n",
    "    str_input : str\n",
    "        String expression to evaluate, e.g. 'mass of moon in kg'\n",
    "    return_float : bool\n",
    "        If output should be float (default = True)\n",
    "\n",
    "    Returns\n",
    "    -------\n",
    "    query_output : str or float\n",
    "        Full text restult or just float, depending on 'return_float'\n",
    "\n",
    "    \"\"\"\n",
    "\n",
    "    # note: got some help with json from Brooke and \\\n",
    "    # https://towardsdatascience.com/build-your-next-\\\n",
    "    # project-with-wolfram-alpha-api-and-python-51c2c361d8b9\n",
    "\n",
    "    # make query url\n",
    "    app_id = '9TLK2V-8T9H43UY82'\n",
    "    query = urllib.parse.quote_plus(str_input)\n",
    "\n",
    "    query_url = f\"http://api.wolframalpha.com/v2/query?\" \\\n",
    "        f\"appid={app_id}\" \\\n",
    "        f\"&input={query}\" \\\n",
    "        f\"&format=plaintext\" \\\n",
    "        f\"&includepodid=Result\" \\\n",
    "        f\"&output=json\"\n",
    "\n",
    "    # go fetch!\n",
    "    r = requests.get(query_url).json()\n",
    "\n",
    "    # wolfram might not be able to execute the computation...\n",
    "    if r[\"queryresult\"]['numpods'] == 0:\n",
    "        raise ValueError('Wolfram found nothing to compute.')\n",
    "\n",
    "    # parse the output\n",
    "    data = r[\"queryresult\"][\"pods\"][0][\"subpods\"][0]\n",
    "    query_output = data[\"plaintext\"]\n",
    "\n",
    "    # wolfram might not know the answer....\n",
    "    if query_output == '(data not available)':\n",
    "        raise ValueError('Wolfram does not know the answer.')\n",
    "\n",
    "    # ...but if it does, split out a float...\n",
    "    # (could probably make this prettier)\n",
    "    if return_float:\n",
    "        number = query_output.split(' ')[0]\n",
    "        number_simple = number.replace('×', '*').replace('^', '**')\n",
    "        return ne.evaluate(number_simple).item()\n",
    "\n",
    "    # ... or return the full string result\n",
    "    else:\n",
    "        return query_output\n",
    "\n",
    "\n",
    "if __name__ == '__main__':\n",
    "    # parse command line arguements\n",
    "    parser = argparse.ArgumentParser(description='CalCal Module')\n",
    "    parser.add_argument('-s', action='store', dest='str_input',\n",
    "                        help='String to parse')\n",
    "    results = parser.parse_args()\n",
    "\n",
    "    # TODO: try using click instead to make cuter!\n",
    "\n",
    "    # check you got an arg\n",
    "    if results.str_input is None:\n",
    "        raise ValueError('feed me a string with -s')\n",
    "\n",
    "    # execute function\n",
    "    print(calculate(results.str_input))"
   ]
  },
  {
   "cell_type": "code",
   "execution_count": 2,
   "metadata": {},
   "outputs": [],
   "source": [
    "!flake8 calcalc/CalCalc.py # looks good!\n",
    "#!black CalCalc.py"
   ]
  },
  {
   "cell_type": "markdown",
   "metadata": {},
   "source": [
    "**Let's check that this works!**"
   ]
  },
  {
   "cell_type": "code",
   "execution_count": 3,
   "metadata": {},
   "outputs": [
    {
     "name": "stdout",
     "output_type": "stream",
     "text": [
      "952\r\n"
     ]
    }
   ],
   "source": [
    "!python calcalc/CalCalc.py -s '34*28'"
   ]
  },
  {
   "cell_type": "code",
   "execution_count": 4,
   "metadata": {},
   "outputs": [
    {
     "name": "stdout",
     "output_type": "stream",
     "text": [
      "7.3459e+22\r\n"
     ]
    }
   ],
   "source": [
    "!python calcalc/CalCalc.py -s 'mass of the moon in kg'"
   ]
  },
  {
   "cell_type": "code",
   "execution_count": 5,
   "metadata": {},
   "outputs": [],
   "source": [
    "from calcalc.CalCalc import calculate"
   ]
  },
  {
   "cell_type": "code",
   "execution_count": 6,
   "metadata": {},
   "outputs": [
    {
     "data": {
      "text/plain": [
       "136"
      ]
     },
     "execution_count": 6,
     "metadata": {},
     "output_type": "execute_result"
    }
   ],
   "source": [
    "calculate('34*4')"
   ]
  },
  {
   "cell_type": "code",
   "execution_count": 7,
   "metadata": {},
   "outputs": [
    {
     "data": {
      "text/plain": [
       "'7.3459×10^22 kg (kilograms)'"
      ]
     },
     "execution_count": 7,
     "metadata": {},
     "output_type": "execute_result"
    }
   ],
   "source": [
    "calculate('mass of the moon in kg', False)"
   ]
  },
  {
   "cell_type": "code",
   "execution_count": 8,
   "metadata": {},
   "outputs": [
    {
     "data": {
      "text/plain": [
       "7.3459e+23"
      ]
     },
     "execution_count": 8,
     "metadata": {},
     "output_type": "execute_result"
    }
   ],
   "source": [
    "calculate('mass of the moon in kg') * 10"
   ]
  },
  {
   "cell_type": "markdown",
   "metadata": {},
   "source": [
    "## Adding it to Github\n",
    "\n",
    "Start a github project for CalCalc. Include a setup.py, README.txt, LICENSE.txt, MANIFEST.in, etc. and turn your module into a proper Python Distribution, so that we can install it and use it. See https://packaging.python.org/en/latest/guides/distributing-packages-using-setuptools/ \n",
    "\n",
    "Example Folder Hierarchy:\n",
    "```bash\n",
    "Your_Homework3_Folder/calcalc\n",
    "                      |--> CalCalc.py\n",
    "                      |--> __init__.py\n",
    "Your_Homework3_Folder/setup.py\n",
    "Your_Homework3_Folder/README.txt\n",
    "...\n",
    "```\n",
    "Include at least 5 test functions in CalCalc.py, and test with `pytest`, to make sure it behaves the way you think it should.\n",
    "\n",
    "EXAMPLE `CalCalc.py`:\n",
    "```python\n",
    "# ...\n",
    "def calculate([...]):\n",
    "    [...]\n",
    "\n",
    "def test_1():\n",
    "    assert abs(4. - calculate('2**2')) < 0.001\n",
    "```\n",
    "\n",
    "When grading, we will create a virtual environment and attempt to install your module by running:\n",
    "\n",
    "```bash\n",
    "pip install build\n",
    "```"
   ]
  },
  {
   "cell_type": "markdown",
   "metadata": {},
   "source": [
    "**I copied the example files from the PyPA sample project and modified them for this project.**\n",
    "\n",
    "**These are the tests I wrote for calcalc.**"
   ]
  },
  {
   "cell_type": "code",
   "execution_count": 9,
   "metadata": {},
   "outputs": [
    {
     "name": "stdout",
     "output_type": "stream",
     "text": [
      "Overwriting tests/test_calculate.py\n"
     ]
    }
   ],
   "source": [
    "%%writefile tests/test_calculate.py\n",
    "from unittest import TestCase\n",
    "from calcalc.CalCalc import calculate\n",
    "\n",
    "\n",
    "def test_easy_operations():\n",
    "    inputs = [[10, 12],\n",
    "              [65, 32],\n",
    "              [0.3, 1.24],\n",
    "              [2.2, 2]]\n",
    "    operations = ['+',\n",
    "                  '-',\n",
    "                  '*',\n",
    "                  '/']\n",
    "    outputs = [22,\n",
    "               33,\n",
    "               0.372,\n",
    "               1.1]\n",
    "    for (i, xy) in enumerate(inputs):\n",
    "        xy_as_string = operations[i].join([str(k) for k in xy])\n",
    "        assert calculate(xy_as_string) == outputs[i]\n",
    "\n",
    "\n",
    "def test_long_operations():\n",
    "    inputs = ['2 * (3+4)',\n",
    "              '2 + 3**2 / 3']\n",
    "    outputs = [14,\n",
    "               5]\n",
    "    for (i, xy) in enumerate(inputs):\n",
    "        assert calculate(xy) == outputs[i]\n",
    "\n",
    "\n",
    "def test_wolfram_string():\n",
    "    inputs = ['speed of sound in m/s',\n",
    "              'distance to the moon in feet',\n",
    "              'distance to the moon in inches']\n",
    "    outputs = ['340.27 m/s (meters per second)',\n",
    "               '1.317×10^9 feet',\n",
    "               '1.58×10^10 inches']\n",
    "    for (i, xy) in enumerate(inputs):\n",
    "        assert calculate(xy, return_float=False) == outputs[i]\n",
    "\n",
    "\n",
    "def test_wolfram_float():\n",
    "    inputs = ['speed of sound in m/s',\n",
    "              'distance to the moon in feet']\n",
    "    scale_by = [2,\n",
    "                0.5]\n",
    "    outputs = [340.27,\n",
    "               1.317e9]\n",
    "    for (i, xy) in enumerate(inputs):\n",
    "        assert scale_by[i] * calculate(xy) == scale_by[i] * outputs[i]\n",
    "\n",
    "\n",
    "class TestErrorCodes(TestCase):\n",
    "    def test_bad_inputs(self):\n",
    "        inputs = [['not a string'],\n",
    "                  23.2 / 15]\n",
    "        for i in inputs:\n",
    "            with self.assertRaises(ValueError):\n",
    "                calculate(i)\n",
    "\n",
    "    def test_nonsense(self):\n",
    "        inputs = ['gorilla',\n",
    "                  'mass of a frog',\n",
    "                  'how to train your dragon']\n",
    "        for i in inputs:\n",
    "            self.assertEqual(calculate(i), 'idk')\n"
   ]
  },
  {
   "cell_type": "code",
   "execution_count": 10,
   "metadata": {},
   "outputs": [],
   "source": [
    "!flake8 tests/test_calculate.py # looks good!\n",
    "#!black CalCalc.py"
   ]
  },
  {
   "cell_type": "code",
   "execution_count": 11,
   "metadata": {},
   "outputs": [
    {
     "name": "stdout",
     "output_type": "stream",
     "text": [
      "\u001b[1m============================= test session starts ==============================\u001b[0m\n",
      "platform darwin -- Python 3.8.0, pytest-7.0.1, pluggy-1.0.0 -- /Users/ziu/Projects/python-ay250-homework/env/bin/python3.8\n",
      "cachedir: .pytest_cache\n",
      "rootdir: /Users/ziu/Projects/python-ay250-homework/hw_3\n",
      "collected 6 items                                                              \u001b[0m\n",
      "\n",
      "tests/test_calculate.py::test_easy_operations \u001b[32mPASSED\u001b[0m\u001b[32m                     [ 16%]\u001b[0m\n",
      "tests/test_calculate.py::test_long_operations \u001b[32mPASSED\u001b[0m\u001b[32m                     [ 33%]\u001b[0m\n",
      "tests/test_calculate.py::test_wolfram_string \u001b[32mPASSED\u001b[0m\u001b[32m                      [ 50%]\u001b[0m\n",
      "tests/test_calculate.py::test_wolfram_float \u001b[32mPASSED\u001b[0m\u001b[32m                       [ 66%]\u001b[0m\n",
      "tests/test_calculate.py::TestErrorCodes::test_bad_inputs \u001b[32mPASSED\u001b[0m\u001b[32m          [ 83%]\u001b[0m\n",
      "tests/test_calculate.py::TestErrorCodes::test_nonsense \u001b[32mPASSED\u001b[0m\u001b[32m            [100%]\u001b[0m\n",
      "\n",
      "\u001b[32m============================== \u001b[32m\u001b[1m6 passed\u001b[0m\u001b[32m in 6.83s\u001b[0m\u001b[32m ===============================\u001b[0m\n"
     ]
    }
   ],
   "source": [
    "!pytest tests/test_calculate.py --verbose"
   ]
  },
  {
   "cell_type": "markdown",
   "metadata": {},
   "source": [
    "### CalCalc on CI\n",
    "\n",
    "Get your project working with GitHub Actions and make sure your tests are run and pass. Give us a link to you GH actions for your site here (e.g. https://github.com/profjsb/PyAdder/actions):"
   ]
  },
  {
   "cell_type": "code",
   "execution_count": null,
   "metadata": {},
   "outputs": [],
   "source": []
  },
  {
   "cell_type": "markdown",
   "metadata": {},
   "source": [
    "### **(Bonus/Extra Credit)** \n",
    "\n",
    "  Get your project working on Azure, AWS or Google Compute Cloud with a Flask front-end. You can use the example from class as a template. Start a VM on one of these PaaS. A user should be able to submit their calcalc query on a form (hosted on your VM) and get the result back.\n",
    "\n",
    "You should be able to add an `app.py` (with Flask) into your CalCalc project. Be sure to open up the port on the VM that you are serving on. Let us know the URL to your app here:"
   ]
  },
  {
   "cell_type": "code",
   "execution_count": null,
   "metadata": {},
   "outputs": [],
   "source": []
  }
 ],
 "metadata": {
  "kernelspec": {
   "display_name": "Python 3 (ipykernel)",
   "language": "python",
   "name": "python3"
  },
  "language_info": {
   "codemirror_mode": {
    "name": "ipython",
    "version": 3
   },
   "file_extension": ".py",
   "mimetype": "text/x-python",
   "name": "python",
   "nbconvert_exporter": "python",
   "pygments_lexer": "ipython3",
   "version": "3.8.0"
  },
  "toc": {
   "base_numbering": 1,
   "nav_menu": {},
   "number_sections": true,
   "sideBar": true,
   "skip_h1_title": false,
   "title_cell": "Table of Contents",
   "title_sidebar": "Contents",
   "toc_cell": false,
   "toc_position": {},
   "toc_section_display": true,
   "toc_window_display": false
  },
  "varInspector": {
   "cols": {
    "lenName": 16,
    "lenType": 16,
    "lenVar": 40
   },
   "kernels_config": {
    "python": {
     "delete_cmd_postfix": "",
     "delete_cmd_prefix": "del ",
     "library": "var_list.py",
     "varRefreshCmd": "print(var_dic_list())"
    },
    "r": {
     "delete_cmd_postfix": ") ",
     "delete_cmd_prefix": "rm(",
     "library": "var_list.r",
     "varRefreshCmd": "cat(var_dic_list()) "
    }
   },
   "types_to_exclude": [
    "module",
    "function",
    "builtin_function_or_method",
    "instance",
    "_Feature"
   ],
   "window_display": false
  }
 },
 "nbformat": 4,
 "nbformat_minor": 1
}

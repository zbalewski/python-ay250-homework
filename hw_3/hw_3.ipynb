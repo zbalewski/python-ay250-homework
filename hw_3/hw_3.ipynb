{
 "cells": [
  {
   "cell_type": "markdown",
   "metadata": {},
   "source": [
    "# Homework 3 - Application Building\n",
    "\n",
    "- Python Computing for Data Science (2022)\n",
    "\n",
    "- Due Tuesday Feb 15 (8pm)\n",
    "\n",
    "## CalCalc\n",
    "\n",
    "Write a module called `CalCalc`, with a method called `calculate` that evaluates any string passed to it, and can be used from either the command line (using `argparse` with reasonable flags) or imported within Python. Feel free to use something like `eval()`, but be aware of some of the nasty things it can do, and make sure it doesn’t have too much power:  http://nedbatchelder.com/blog/201206/eval_really_is_dangerous.html. Perhaps explore the use of `numexpr` to constrain the landscape of possible uses to math expressions.\n",
    "\n",
    "EXAMPLE:\n",
    "```bash\n",
    "$ python CalCalc.py -s '34*28'\n",
    "$ 952\n",
    "```\n",
    " AND, from within Python\n",
    " \n",
    "```python\n",
    ">>> from CalCalc import calculate\n",
    ">>> calculate('34*20')\n",
    ">>> 952\n",
    "```"
   ]
  },
  {
   "cell_type": "markdown",
   "metadata": {},
   "source": [
    "Eventually I'll merge the base calculate from this section with the wolfram update. Untill I get that working, I'll keep a separate copy of the original 1.1 ..."
   ]
  },
  {
   "cell_type": "code",
   "execution_count": 1,
   "metadata": {},
   "outputs": [
    {
     "name": "stdout",
     "output_type": "stream",
     "text": [
      "Overwriting CalCalc_part1.py\n"
     ]
    }
   ],
   "source": [
    "%%writefile CalCalc_part1.py\n",
    "\"\"\"CalCalc module with some nice methods to evaluate strings (as\n",
    "numerical expressions only).\n",
    "\"\"\"\n",
    "\n",
    "import argparse\n",
    "import numexpr as ne\n",
    "\n",
    "\n",
    "def calculate(str_input):\n",
    "    \"\"\"Evaluate any string, limited to numerical expressions.\n",
    "\n",
    "    Parameters\n",
    "    ----------\n",
    "    str_input : str\n",
    "        String expression to evaluate.\n",
    "\n",
    "    Returns\n",
    "    -------\n",
    "    answer : float\n",
    "        Numeric output of evaluated string.\n",
    "\n",
    "    \"\"\"\n",
    "\n",
    "    # raise error if 'str_input' is not string\n",
    "    if type(str_input) != str:\n",
    "        raise ValueError(\"Did not receive string.\")\n",
    "\n",
    "    # attempt to evaluate 'str_input' using numexpr\n",
    "    try:\n",
    "        answer = ne.evaluate(str_input)\n",
    "        # TODO: answer is np array, kinda ugly... come back to fix\n",
    "        return answer\n",
    "\n",
    "    except KeyError:\n",
    "        raise ValueError(\"Could not evaluate with numexpr.\")\n",
    "\n",
    "\n",
    "if __name__ == '__main__':\n",
    "    # parse command line arguements\n",
    "    parser = argparse.ArgumentParser(description='CalCal Module')\n",
    "    parser.add_argument('-s', action='store', dest='str_input',\n",
    "                        help='String to parse')\n",
    "    results = parser.parse_args()\n",
    "\n",
    "    # TODO: try using click instead to make cuter!\n",
    "\n",
    "    # execute function\n",
    "    print(calculate(results.str_input))"
   ]
  },
  {
   "cell_type": "code",
   "execution_count": 2,
   "metadata": {},
   "outputs": [],
   "source": [
    "!flake8 CalCalc_part1.py # looks good!"
   ]
  },
  {
   "cell_type": "code",
   "execution_count": 3,
   "metadata": {},
   "outputs": [
    {
     "name": "stdout",
     "output_type": "stream",
     "text": [
      "952\r\n"
     ]
    }
   ],
   "source": [
    "!python CalCalc_part1.py -s '34*28'"
   ]
  },
  {
   "cell_type": "code",
   "execution_count": 4,
   "metadata": {},
   "outputs": [
    {
     "data": {
      "text/plain": [
       "array(952, dtype=int32)"
      ]
     },
     "execution_count": 4,
     "metadata": {},
     "output_type": "execute_result"
    }
   ],
   "source": [
    "from CalCalc_part1 import calculate\n",
    "calculate('34*28')"
   ]
  },
  {
   "cell_type": "markdown",
   "metadata": {},
   "source": [
    "### Add Wolfram\n",
    "\n",
    "To make this more awesome, have your function interact with the Wolfram|Alpha API to ask it what it thinks of the difficult questions.  To make this work, experiment with `urllib2` and a URL like this:\n",
    "'http://api.wolframalpha.com/v2/query?input=XXXXX&appid=UAGAWR-3X6Y8W777Q'\n",
    "where you replace the XXXXX with what you want to know.  NOTE: the ‘&appid=UAGAWR-3X6Y8W777Q’ part is vital; it is a W|A AppID I got for the class.  Feel free to use that one, or you can get your own and read more about the API, here:   http://products.wolframalpha.com/api/\n",
    "And you can explore how it works here:  http://products.wolframalpha.com/api/explorer.html\n",
    "\n",
    "EXAMPLE:\n",
    "\n",
    "```bash\n",
    "$ python CalCalc.py -w 'mass of the moon in kg'\n",
    "7.3459e+22\n",
    "```\n",
    "\n",
    "AND, from within Python\n",
    "\n",
    "```python\n",
    ">>> from CalCalc import calculate\n",
    ">>> calculate('mass of the moon in kg',  return_float=True) * 10\n",
    ">>> 7.3459e+23\n",
    "```"
   ]
  },
  {
   "cell_type": "code",
   "execution_count": 105,
   "metadata": {},
   "outputs": [
    {
     "name": "stdout",
     "output_type": "stream",
     "text": [
      "7.3459×10^22 kg (kilograms)\n"
     ]
    },
    {
     "data": {
      "text/plain": [
       "array(7.3459e+22)"
      ]
     },
     "execution_count": 105,
     "metadata": {},
     "output_type": "execute_result"
    }
   ],
   "source": [
    "# figure out how to interact with wolfram first...\n",
    "import urllib\n",
    "import numexpr as ne\n",
    "\n",
    "# put together query address\n",
    "url_prefix = 'http://api.wolframalpha.com/v2/query?input=' \n",
    "query = 'mass of the moon in kg'\n",
    "query_nice = query.replace('+','%2B').replace(' ','+') # replace numeric '+' symbols; make '+' = space;\n",
    "query_opts = '&appid=9TLK2V-8T9H43UY82&format=plaintext&includepodid=Result' # reduce output to just results as text\n",
    "\n",
    "full_url = url_prefix + query_nice + query_opts\n",
    "f = urllib.request.urlopen(full_url)\n",
    "f_as_text = f.read().decode('utf-8')\n",
    "# print(f_as_text)\n",
    "\n",
    "# pull out answer from plaintext section of query output\n",
    "idx_0 = f_as_text.find('<plaintext>')+11\n",
    "idx_stop = f_as_text.find('</plaintext>',idx_0)\n",
    "print(f_as_text[idx_0:idx_stop])\n",
    "\n",
    "# turn the first thing into a number\n",
    "num = f_as_text[idx_0:idx_stop].split(' ')[0]\n",
    "ne.evaluate(num.replace('×','*').replace('^','**'))\n"
   ]
  },
  {
   "cell_type": "code",
   "execution_count": 110,
   "metadata": {},
   "outputs": [],
   "source": [
    "# let's make the fancy function!"
   ]
  },
  {
   "cell_type": "code",
   "execution_count": 140,
   "metadata": {},
   "outputs": [
    {
     "name": "stdout",
     "output_type": "stream",
     "text": [
      "Overwriting CalCalc.py\n"
     ]
    }
   ],
   "source": [
    "%%writefile CalCalc.py\n",
    "\"\"\"CalCalc: evaluate strings as numeric expressions. If simple (i.e., no \n",
    "alpha characters), will try to evaluate locally with numexpr. If more \n",
    "complex, will try to query wolfram alpha.\n",
    "\"\"\"\n",
    "\n",
    "import argparse\n",
    "import numexpr as ne\n",
    "import urllib.request\n",
    "\n",
    "\n",
    "def calculate(str_input, return_float=True):\n",
    "    \"\"\"Evaluate any string, limited to numerical expressions.\n",
    "\n",
    "    Parameters\n",
    "    ----------\n",
    "    str_input : str\n",
    "        String expression to evaluate.\n",
    "    return_float : bool\n",
    "        If output should be float (default = True)\n",
    "\n",
    "    Returns\n",
    "    -------\n",
    "    answer : float\n",
    "        Numeric output of evaluated string.\n",
    "\n",
    "    \"\"\"\n",
    "    \n",
    "    # first, are you string?\n",
    "    if type(str_input) != str:\n",
    "        raise ValueError(\"You are not a string. Try again.\")\n",
    "    \n",
    "    # let's see if numexpr can solve you\n",
    "    try: \n",
    "        answer = ne.evaluate(str_input).item()\n",
    "        return answer \n",
    "    except (KeyError, SyntaxError) as e: \n",
    "        \n",
    "        # ok, let's send you to wolfram\n",
    "        try: \n",
    "            answer = query_wolfram(str_input, return_float)\n",
    "            return answer\n",
    "        except (ValueError, SyntaxError) as e:\n",
    "            print(\"Wolfram could not solve query.\")\n",
    "        \n",
    "        \n",
    "    \n",
    "def query_wolfram(str_input, return_float):\n",
    "    \"\"\"Send off query to wolfram...\n",
    "    \n",
    "    Parameters\n",
    "    ----------\n",
    "    str_input : str\n",
    "        String expression to evaluate, e.g. 'mass of moon in kg'\n",
    "    return_float : bool\n",
    "        If output should be float (default = True)\n",
    "\n",
    "    Returns\n",
    "    -------\n",
    "    query_output : str or float\n",
    "        Full text restult or just float, depending on 'return_float'\n",
    "\n",
    "    \"\"\"\n",
    "\n",
    "    # get query url\n",
    "    url_prefix = 'http://api.wolframalpha.com/v2/query?input=' \n",
    "    query = str_input.replace('+', '%2B').replace(' ','+') # replace numeric '+'; use '+' as space;\n",
    "    return_opts = '&appid=9TLK2V-8T9H43UY82&format=plaintext&includepodid=Result' # reduce output to just results as text\n",
    "\n",
    "    full_url = url_prefix + query + return_opts\n",
    "\n",
    "    # set off to wolfram!\n",
    "    output = urllib.request.urlopen(full_url) # request for url\n",
    "    output_as_text = output.read().decode('utf-8') # turn it into English...\n",
    "\n",
    "    # extract answer: for now, just do brute force and find the plaintext tags in the results pod\n",
    "    # if time, check out beautiful soup?\n",
    "    idx_plaintext = output_as_text.find('<plaintext>')\n",
    "    \n",
    "    if idx_plaintext == -1:\n",
    "        raise ValueError(\"Don't know how to parse result from wolfram.\")\n",
    "    \n",
    "    idx_start = idx_plaintext + 11\n",
    "    idx_stop = output_as_text.find('</plaintext>',idx_start)\n",
    "    query_output = output_as_text[idx_start:idx_stop]\n",
    "    \n",
    "    if query_output == '(data not available)':\n",
    "        return ValueError('Wolfram does not know the answer.')\n",
    "    \n",
    "    if return_float:\n",
    "        number = query_output.split(' ')[0]\n",
    "        number_simple = number.replace('×','*').replace('^','**')\n",
    "        return ne.evaluate(number_simple).item()\n",
    "    \n",
    "    else: \n",
    "        return query_output\n",
    "    \n",
    "    \n",
    "if __name__ == '__main__':\n",
    "    # parse command line arguements\n",
    "    parser = argparse.ArgumentParser(description='CalCal Module')\n",
    "    parser.add_argument('-s', action='store', dest='str_input',\n",
    "                        help='String to parse') # use the same flag for all inputs! \n",
    "    results = parser.parse_args()\n",
    "\n",
    "    # TODO: try using click instead to make cuter!\n",
    "\n",
    "    # check you got an arg\n",
    "    if results.str_input == None:\n",
    "        raise ValueError('feed me a string with -s')\n",
    "    \n",
    "    # execute function\n",
    "    print(calculate(results.str_input))\n",
    "    "
   ]
  },
  {
   "cell_type": "code",
   "execution_count": 141,
   "metadata": {},
   "outputs": [
    {
     "name": "stdout",
     "output_type": "stream",
     "text": [
      "952\r\n"
     ]
    }
   ],
   "source": [
    "!python CalCalc.py -s '34*28'"
   ]
  },
  {
   "cell_type": "code",
   "execution_count": 144,
   "metadata": {},
   "outputs": [
    {
     "name": "stdout",
     "output_type": "stream",
     "text": [
      "7.3459e+22\r\n"
     ]
    }
   ],
   "source": [
    "!python CalCalc.py -s 'mass of the moon in kg'"
   ]
  },
  {
   "cell_type": "code",
   "execution_count": 150,
   "metadata": {},
   "outputs": [],
   "source": [
    "from CalCalc import calculate\n"
   ]
  },
  {
   "cell_type": "code",
   "execution_count": 153,
   "metadata": {},
   "outputs": [
    {
     "data": {
      "text/plain": [
       "array(136, dtype=int32)"
      ]
     },
     "execution_count": 153,
     "metadata": {},
     "output_type": "execute_result"
    }
   ],
   "source": [
    "calculate('34*4')\n"
   ]
  },
  {
   "cell_type": "code",
   "execution_count": 156,
   "metadata": {},
   "outputs": [],
   "source": [
    "x = calculate('mass of the moon in kg')"
   ]
  },
  {
   "cell_type": "code",
   "execution_count": null,
   "metadata": {},
   "outputs": [],
   "source": []
  },
  {
   "cell_type": "markdown",
   "metadata": {},
   "source": [
    "## Adding it to Github\n",
    "\n",
    "Start a github project for CalCalc. Include a setup.py, README.txt, LICENSE.txt, MANIFEST.in, etc. and turn your module into a proper Python Distribution, so that we can install it and use it. See https://packaging.python.org/en/latest/guides/distributing-packages-using-setuptools/ \n",
    "\n",
    "Example Folder Hierarchy:\n",
    "```bash\n",
    "Your_Homework3_Folder/calcalc\n",
    "                      |--> CalCalc.py\n",
    "                      |--> __init__.py\n",
    "Your_Homework3_Folder/setup.py\n",
    "Your_Homework3_Folder/README.txt\n",
    "...\n",
    "```\n",
    "Include at least 5 test functions in CalCalc.py, and test with `pytest`, to make sure it behaves the way you think it should.\n",
    "\n",
    "EXAMPLE `CalCalc.py`:\n",
    "```python\n",
    "# ...\n",
    "def calculate([...]):\n",
    "    [...]\n",
    "\n",
    "def test_1():\n",
    "    assert abs(4. - calculate('2**2')) < 0.001\n",
    "```\n",
    "\n",
    "When grading, we will create a virtual environment and attempt to install your module by running:\n",
    "\n",
    "```bash\n",
    "pip install build\n",
    "```"
   ]
  },
  {
   "cell_type": "markdown",
   "metadata": {},
   "source": [
    "### CalCalc on CI\n",
    "\n",
    "Get your project working with GitHub Actions and make sure your tests are run and pass. Give us a link to you GH actions for your site here (e.g. https://github.com/profjsb/PyAdder/actions):"
   ]
  },
  {
   "cell_type": "code",
   "execution_count": null,
   "metadata": {},
   "outputs": [],
   "source": []
  },
  {
   "cell_type": "markdown",
   "metadata": {},
   "source": [
    "### **(Bonus/Extra Credit)** \n",
    "\n",
    "  Get your project working on Azure, AWS or Google Compute Cloud with a Flask front-end. You can use the example from class as a template. Start a VM on one of these PaaS. A user should be able to submit their calcalc query on a form (hosted on your VM) and get the result back.\n",
    "\n",
    "You should be able to add an `app.py` (with Flask) into your CalCalc project. Be sure to open up the port on the VM that you are serving on. Let us know the URL to your app here:"
   ]
  },
  {
   "cell_type": "code",
   "execution_count": null,
   "metadata": {
    "collapsed": true
   },
   "outputs": [],
   "source": []
  }
 ],
 "metadata": {
  "kernelspec": {
   "display_name": "Python 3 (ipykernel)",
   "language": "python",
   "name": "python3"
  },
  "language_info": {
   "codemirror_mode": {
    "name": "ipython",
    "version": 3
   },
   "file_extension": ".py",
   "mimetype": "text/x-python",
   "name": "python",
   "nbconvert_exporter": "python",
   "pygments_lexer": "ipython3",
   "version": "3.8.0"
  },
  "toc": {
   "base_numbering": 1,
   "nav_menu": {},
   "number_sections": true,
   "sideBar": true,
   "skip_h1_title": false,
   "title_cell": "Table of Contents",
   "title_sidebar": "Contents",
   "toc_cell": false,
   "toc_position": {},
   "toc_section_display": true,
   "toc_window_display": false
  },
  "varInspector": {
   "cols": {
    "lenName": 16,
    "lenType": 16,
    "lenVar": 40
   },
   "kernels_config": {
    "python": {
     "delete_cmd_postfix": "",
     "delete_cmd_prefix": "del ",
     "library": "var_list.py",
     "varRefreshCmd": "print(var_dic_list())"
    },
    "r": {
     "delete_cmd_postfix": ") ",
     "delete_cmd_prefix": "rm(",
     "library": "var_list.r",
     "varRefreshCmd": "cat(var_dic_list()) "
    }
   },
   "types_to_exclude": [
    "module",
    "function",
    "builtin_function_or_method",
    "instance",
    "_Feature"
   ],
   "window_display": false
  }
 },
 "nbformat": 4,
 "nbformat_minor": 1
}

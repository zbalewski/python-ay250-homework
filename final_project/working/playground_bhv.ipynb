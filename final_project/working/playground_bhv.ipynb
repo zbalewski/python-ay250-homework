{
 "cells": [
  {
   "cell_type": "markdown",
   "id": "8f912f59",
   "metadata": {
    "toc": true
   },
   "source": [
    "<h1>Table of Contents<span class=\"tocSkip\"></span></h1>\n",
    "<div class=\"toc\"><ul class=\"toc-item\"><li><span><a href=\"#load-data-(combine-if-multiple/day)\" data-toc-modified-id=\"load-data-(combine-if-multiple/day)-1\"><span class=\"toc-item-num\">1&nbsp;&nbsp;</span>load data (combine if multiple/day)</a></span></li><li><span><a href=\"#get-lever-direction-response\" data-toc-modified-id=\"get-lever-direction-response-2\"><span class=\"toc-item-num\">2&nbsp;&nbsp;</span>get lever direction response</a></span></li><li><span><a href=\"#get-time-of-pics-on-and-lever-response-(from-spk-data)\" data-toc-modified-id=\"get-time-of-pics-on-and-lever-response-(from-spk-data)-3\"><span class=\"toc-item-num\">3&nbsp;&nbsp;</span>get time of pics on and lever response (from spk data)</a></span></li><li><span><a href=\"#get-some-more-trial-info...\" data-toc-modified-id=\"get-some-more-trial-info...-4\"><span class=\"toc-item-num\">4&nbsp;&nbsp;</span>get some more trial info...</a></span></li><li><span><a href=\"#let's-save-useful-time-stamps\" data-toc-modified-id=\"let's-save-useful-time-stamps-5\"><span class=\"toc-item-num\">5&nbsp;&nbsp;</span>let's save useful time stamps</a></span></li></ul></div>"
   ]
  },
  {
   "cell_type": "markdown",
   "id": "1d4832bd",
   "metadata": {},
   "source": [
    "Extract useful timestamps and task events from bhv data"
   ]
  },
  {
   "cell_type": "code",
   "execution_count": 1,
   "id": "9a7a076a",
   "metadata": {},
   "outputs": [],
   "source": [
    "import numpy as np\n",
    "import mat73\n",
    "from os.path import join as pjoin\n",
    "import glob\n",
    "from collections import defaultdict\n",
    "import matplotlib.pyplot as plt"
   ]
  },
  {
   "cell_type": "markdown",
   "id": "545cb05a",
   "metadata": {},
   "source": [
    "## load data (combine if multiple/day)"
   ]
  },
  {
   "cell_type": "code",
   "execution_count": 2,
   "id": "65655153",
   "metadata": {},
   "outputs": [],
   "source": [
    "data_dir = \"data_clean\"\n",
    "session = \"George_2021-01-28\"\n",
    "\n",
    "session_fnames = sorted(glob.glob(pjoin(data_dir, '*'+session+'*')))\n"
   ]
  },
  {
   "cell_type": "code",
   "execution_count": 3,
   "id": "2fa3c11d",
   "metadata": {},
   "outputs": [
    {
     "name": "stdout",
     "output_type": "stream",
     "text": [
      "data_clean/amntprob4x4_George_2021-01-28_A.mat\n",
      "data_clean/amntprob4x4_George_2021-01-28_B.mat\n",
      "data_clean/amntprob4x4_George_2021-01-28_C.mat\n",
      "CPU times: user 1min 2s, sys: 2.23 s, total: 1min 4s\n",
      "Wall time: 1min 7s\n"
     ]
    }
   ],
   "source": [
    "%%time\n",
    "bhv_mat = defaultdict(list)\n",
    "for f in session_fnames:\n",
    "    print(f)\n",
    "    data = mat73.loadmat(f)\n",
    "    \n",
    "    data_vars = data[\"bhvdata\"].keys()\n",
    "    for v in data_vars:\n",
    "        bhv_mat[v] += data[\"bhvdata\"][v]\n",
    "    "
   ]
  },
  {
   "cell_type": "markdown",
   "id": "5db0cc66",
   "metadata": {},
   "source": [
    "## get lever direction response"
   ]
  },
  {
   "cell_type": "code",
   "execution_count": 4,
   "id": "2c384a5a",
   "metadata": {},
   "outputs": [],
   "source": [
    "# number of trials in this session\n",
    "ntr = len(bhv_mat[\"BehavioralCodes\"])"
   ]
  },
  {
   "cell_type": "code",
   "execution_count": 9,
   "id": "4f0696dc",
   "metadata": {},
   "outputs": [],
   "source": [
    "# event codes\n",
    "events = dict()\n",
    "events[\"leftlever\"] = 23\n",
    "events[\"rightlever\"] = 24\n",
    "\n",
    "# which lever?\n",
    "if_left = [np.where(trial[\"CodeNumbers\"] == events[\"leftlever\"])[0].shape[0] == 1\\\n",
    "             for trial in bhv_mat[\"BehavioralCodes\"]]\n",
    "if_right = [np.where(trial[\"CodeNumbers\"] == events[\"rightlever\"])[0].shape[0] == 1\\\n",
    "             for trial in bhv_mat[\"BehavioralCodes\"]]\n",
    "lever_bhv = np.zeros(ntr).astype(int)\n",
    "lever_bhv[if_left] = -1\n",
    "lever_bhv[if_right] = 1\n"
   ]
  },
  {
   "cell_type": "code",
   "execution_count": 10,
   "id": "e07de985",
   "metadata": {},
   "outputs": [
    {
     "data": {
      "text/plain": [
       "Text(0.5, 0, 'lever response')"
      ]
     },
     "execution_count": 10,
     "metadata": {},
     "output_type": "execute_result"
    },
    {
     "data": {
      "image/png": "[encoded data removed]",
      "text/plain": [
       "<Figure size 432x288 with 1 Axes>"
      ]
     },
     "metadata": {
      "needs_background": "light"
     },
     "output_type": "display_data"
    }
   ],
   "source": [
    "fig, ax = plt.subplots()\n",
    "ax.hist(lever_bhv, np.arange(-1, 2, .5))\n",
    "ax.set_xticks([-0.75, 0.25, 1.25])\n",
    "ax.set_xticklabels([\"left\", \"none\", \"right\"])\n",
    "ax.set_ylabel(\"# of trials\")\n",
    "ax.set_xlabel(\"lever response\")"
   ]
  },
  {
   "cell_type": "markdown",
   "id": "585ddc54",
   "metadata": {},
   "source": [
    "## get time of pics on and lever response (from spk data)"
   ]
  },
  {
   "cell_type": "code",
   "execution_count": 11,
   "id": "2ddf2942",
   "metadata": {},
   "outputs": [],
   "source": [
    "# load events from spk data...\n",
    "fname_spk = \"George00_rec14_01282021-units.mat\"\n",
    "events_pl2 = mat73.loadmat(pjoin(data_dir, fname_spk), only_include=['event_codes', 'event_ts'])"
   ]
  },
  {
   "cell_type": "code",
   "execution_count": 12,
   "id": "694bef32",
   "metadata": {},
   "outputs": [],
   "source": [
    "# first, cut up trials: 9 = start, 18 = stop\n",
    "events[\"start\"] = 9\n",
    "events[\"stop\"] = 18\n",
    "events[\"pics\"] = 20\n",
    "trial_starts = np.where(events_pl2[\"event_codes\"] == events[\"start\"])[0]\n",
    "trial_stops = np.where(events_pl2[\"event_codes\"] == events[\"stop\"])[0]"
   ]
  },
  {
   "cell_type": "code",
   "execution_count": 13,
   "id": "2792cd07",
   "metadata": {},
   "outputs": [],
   "source": [
    "# check that we are extracting the same number of trials from bhv and pl2\n",
    "if trial_starts.shape[0] != ntr or trial_stops.shape[0] != ntr:\n",
    "    raise ValueError('oops! bhv2 and pl2 trial mismatch...')\n"
   ]
  },
  {
   "cell_type": "code",
   "execution_count": 31,
   "id": "c3096e54",
   "metadata": {},
   "outputs": [],
   "source": [
    "# cycle through all trials, pull time of pics on and lever press\n",
    "ts_pics = -1 * np.ones(ntr)\n",
    "ts_lever = -1 * np.ones(ntr)\n",
    "lever_pl2 = np.zeros(ntr)\n",
    "for tr in range(ntr):\n",
    "    \n",
    "    # select event codes in this trial\n",
    "    trial_codes = events_pl2[\"event_codes\"][trial_starts[tr]:trial_stops[tr]]\n",
    "    trial_ts = events_pl2[\"event_ts\"][trial_starts[tr]:trial_stops[tr]]\n",
    "    \n",
    "    # pics\n",
    "    idx_pics = np.where(trial_codes == events[\"pics\"])[0]\n",
    "    if idx_pics.shape[0] == 0: # didn't initiate trial\n",
    "        continue\n",
    "        \n",
    "    ts_pics[tr] = trial_ts[idx_pics]\n",
    "    \n",
    "    # lever\n",
    "    idx_left = np.where(trial_codes == events[\"leftlever\"])[0]\n",
    "    idx_right = np.where(trial_codes == events[\"rightlever\"])[0]\n",
    "    \n",
    "    if idx_left.shape[0] == 1:\n",
    "        # left lever!\n",
    "        ts_lever[tr] = trial_ts[idx_left]\n",
    "        lever_pl2[tr] = -1\n",
    "    if idx_right.shape[0] == 1:\n",
    "        # right lever!\n",
    "        ts_lever[tr] = trial_ts[idx_right]\n",
    "        lever_pl2[tr] = 1\n"
   ]
  },
  {
   "cell_type": "code",
   "execution_count": 32,
   "id": "3141f4d7",
   "metadata": {},
   "outputs": [],
   "source": [
    "if sum(lever == lever_pl2) < ntr:\n",
    "    raise ValueError(\"bhv and pl2 lever codes don't match\")"
   ]
  },
  {
   "cell_type": "code",
   "execution_count": 33,
   "id": "534e9734",
   "metadata": {},
   "outputs": [
    {
     "data": {
      "text/plain": [
       "Text(0, 0.5, 'trial count')"
      ]
     },
     "execution_count": 33,
     "metadata": {},
     "output_type": "execute_result"
    },
    {
     "data": {
      "image/png": "[encoded data removed]",
      "text/plain": [
       "<Figure size 432x288 with 1 Axes>"
      ]
     },
     "metadata": {
      "needs_background": "light"
     },
     "output_type": "display_data"
    }
   ],
   "source": [
    "fig, ax = plt.subplots()\n",
    "\n",
    "rt = ts_lever - ts_pics\n",
    "keep = np.logical_and(ts_pics > 0, ts_lever > 0)\n",
    "\n",
    "ax.hist(rt[keep], 100)\n",
    "ax.set_xlim([0, 2])\n",
    "ax.set_xlabel(\"response time (s)\")\n",
    "ax.set_ylabel(\"trial count\")"
   ]
  },
  {
   "cell_type": "markdown",
   "id": "73e96b80",
   "metadata": {},
   "source": [
    "## get some more trial info..."
   ]
  },
  {
   "cell_type": "code",
   "execution_count": 34,
   "id": "67ca678e",
   "metadata": {},
   "outputs": [
    {
     "data": {
      "text/plain": [
       "dict_keys(['AbsoluteTrialStartTime', 'AnalogData', 'BehavioralCodes', 'Block', 'Condition', 'CycleRate', 'ObjectStatusRecord', 'ReactionTime', 'RewardRecord', 'TaskObject', 'Trial', 'TrialDateTime', 'TrialError', 'TrialWithinBlock', 'UserVars', 'VariableChanges', 'Ver'])"
      ]
     },
     "execution_count": 34,
     "metadata": {},
     "output_type": "execute_result"
    }
   ],
   "source": [
    "bhv_mat.keys()"
   ]
  },
  {
   "cell_type": "code",
   "execution_count": 35,
   "id": "73c8c06e",
   "metadata": {},
   "outputs": [
    {
     "data": {
      "text/plain": [
       "{'amnt': array([1., 5.]),\n",
       " 'correct': array([1., 2.]),\n",
       " 'prob': array([0.1    , 0.36667]),\n",
       " 'stim': 'amnt1_prob1',\n",
       " 'trialtype': 'free'}"
      ]
     },
     "execution_count": 35,
     "metadata": {},
     "output_type": "execute_result"
    }
   ],
   "source": [
    "bhv_mat[\"TaskObject\"][0][\"CurrentConditionInfo\"][0]"
   ]
  },
  {
   "cell_type": "code",
   "execution_count": 36,
   "id": "374d9c29",
   "metadata": {},
   "outputs": [],
   "source": [
    "amnt = np.array([C[\"CurrentConditionInfo\"][0][\"amnt\"].tolist() \\\n",
    "                 for C in bhv_mat[\"TaskObject\"]])"
   ]
  },
  {
   "cell_type": "code",
   "execution_count": 37,
   "id": "6265aef9",
   "metadata": {},
   "outputs": [],
   "source": [
    "prob = np.array([C[\"CurrentConditionInfo\"][0][\"prob\"].tolist() \\\n",
    "                 for C in bhv_mat[\"TaskObject\"]])"
   ]
  },
  {
   "cell_type": "code",
   "execution_count": 38,
   "id": "1a103a7d",
   "metadata": {},
   "outputs": [],
   "source": [
    "value = amnt * prob"
   ]
  },
  {
   "cell_type": "code",
   "execution_count": 39,
   "id": "a98ee367",
   "metadata": {},
   "outputs": [],
   "source": [
    "trialtype = np.array([C[\"CurrentConditionInfo\"][0][\"trialtype\"] \\\n",
    "                 for C in bhv_mat[\"TaskObject\"]])\n"
   ]
  },
  {
   "cell_type": "markdown",
   "id": "802a18c7",
   "metadata": {},
   "source": [
    "## let's save useful time stamps"
   ]
  },
  {
   "cell_type": "code",
   "execution_count": 40,
   "id": "429d835c",
   "metadata": {},
   "outputs": [],
   "source": [
    "out_dir = \"output\"\n",
    "fname_out = \"George00_rec14_01282021-bhvtimes.npz\"\n",
    "\n",
    "np.savez(pjoin(out_dir,fname_out), \\\n",
    "         ts_pics=ts_pics, ts_lever=ts_lever)"
   ]
  },
  {
   "cell_type": "code",
   "execution_count": null,
   "id": "b5c98a3f",
   "metadata": {},
   "outputs": [],
   "source": []
  }
 ],
 "metadata": {
  "kernelspec": {
   "display_name": "Python 3 (ipykernel)",
   "language": "python",
   "name": "python3"
  },
  "language_info": {
   "codemirror_mode": {
    "name": "ipython",
    "version": 3
   },
   "file_extension": ".py",
   "mimetype": "text/x-python",
   "name": "python",
   "nbconvert_exporter": "python",
   "pygments_lexer": "ipython3",
   "version": "3.8.0"
  },
  "toc": {
   "base_numbering": 1,
   "nav_menu": {},
   "number_sections": true,
   "sideBar": true,
   "skip_h1_title": false,
   "title_cell": "Table of Contents",
   "title_sidebar": "Contents",
   "toc_cell": true,
   "toc_position": {},
   "toc_section_display": true,
   "toc_window_display": false
  }
 },
 "nbformat": 4,
 "nbformat_minor": 5
}
